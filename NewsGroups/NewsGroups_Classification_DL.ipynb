{
  "nbformat": 4,
  "nbformat_minor": 0,
  "metadata": {
    "colab": {
      "name": "NewsGroups_Classification_DL.ipynb",
      "provenance": [],
      "collapsed_sections": [],
      "include_colab_link": true
    },
    "kernelspec": {
      "name": "python3",
      "display_name": "Python 3"
    },
    "accelerator": "GPU"
  },
  "cells": [
    {
      "cell_type": "markdown",
      "metadata": {
        "id": "view-in-github",
        "colab_type": "text"
      },
      "source": [
        "<a href=\"https://colab.research.google.com/github/YanivRefaelovich/ML-Projects/blob/master/NewsGroups/NewsGroups_Classification_DL.ipynb\" target=\"_parent\"><img src=\"https://colab.research.google.com/assets/colab-badge.svg\" alt=\"Open In Colab\"/></a>"
      ]
    },
    {
      "cell_type": "code",
      "metadata": {
        "id": "V5iDcXFx3OY9",
        "colab_type": "code",
        "outputId": "6035bf3a-0c93-4f58-b784-d5352aa66261",
        "colab": {
          "base_uri": "https://localhost:8080/",
          "height": 34
        }
      },
      "source": [
        "from google.colab import drive\n",
        "drive.mount('/content/drive')"
      ],
      "execution_count": 0,
      "outputs": [
        {
          "output_type": "stream",
          "text": [
            "Drive already mounted at /content/drive; to attempt to forcibly remount, call drive.mount(\"/content/drive\", force_remount=True).\n"
          ],
          "name": "stdout"
        }
      ]
    },
    {
      "cell_type": "code",
      "metadata": {
        "id": "wybluryK3GIc",
        "colab_type": "code",
        "colab": {}
      },
      "source": [
        "import os\n",
        "os.chdir('drive/My Drive/ML projects/NewsGroup Classification')\n",
        "os.listdir()"
      ],
      "execution_count": 0,
      "outputs": []
    },
    {
      "cell_type": "markdown",
      "metadata": {
        "id": "MBobahKleZVS",
        "colab_type": "text"
      },
      "source": [
        "### Import"
      ]
    },
    {
      "cell_type": "code",
      "metadata": {
        "id": "CjDAX1Ba_5y4",
        "colab_type": "code",
        "outputId": "41a527d6-255e-4af8-d6c2-06876128ad4f",
        "colab": {
          "base_uri": "https://localhost:8080/",
          "height": 187
        }
      },
      "source": [
        "import re\n",
        "import pandas as pd\n",
        "import numpy as np\n",
        "import seaborn as sns;sns.set(style=\"darkgrid\")\n",
        "import matplotlib.pyplot as plt\n",
        "from tqdm import tqdm\n",
        "import nltk \n",
        "from nltk.tokenize import word_tokenize\n",
        "from nltk.corpus import stopwords\n",
        "from nltk.corpus import wordnet\n",
        "nltk.download('stopwords')\n",
        "nltk.download('punkt')\n",
        "nltk.download('wordnet')\n",
        "nltk.download('averaged_perceptron_tagger')\n",
        "from nltk.stem.porter import PorterStemmer\n",
        "from nltk.stem import WordNetLemmatizer \n",
        "from sklearn.preprocessing import LabelEncoder\n",
        "from sklearn.model_selection import train_test_split, StratifiedKFold , GridSearchCV\n",
        "from sklearn.naive_bayes import MultinomialNB\n",
        "from sklearn.utils.multiclass import unique_labels\n",
        "import xgboost as xgb\n",
        "from sklearn.metrics import confusion_matrix, f1_score, classification_report\n",
        "from scipy import stats\n",
        "from sklearn.feature_extraction.text import TfidfVectorizer\n",
        "from sklearn.feature_extraction.text import CountVectorizer\n",
        "import seaborn as sns; sns.set(style=\"darkgrid\")\n"
      ],
      "execution_count": 0,
      "outputs": [
        {
          "output_type": "stream",
          "text": [
            "[nltk_data] Downloading package stopwords to /root/nltk_data...\n",
            "[nltk_data]   Package stopwords is already up-to-date!\n",
            "[nltk_data] Downloading package punkt to /root/nltk_data...\n",
            "[nltk_data]   Package punkt is already up-to-date!\n",
            "[nltk_data] Downloading package wordnet to /root/nltk_data...\n",
            "[nltk_data]   Package wordnet is already up-to-date!\n",
            "[nltk_data] Downloading package averaged_perceptron_tagger to\n",
            "[nltk_data]     /root/nltk_data...\n",
            "[nltk_data]   Package averaged_perceptron_tagger is already up-to-\n",
            "[nltk_data]       date!\n"
          ],
          "name": "stdout"
        }
      ]
    },
    {
      "cell_type": "code",
      "metadata": {
        "id": "KdigZ4EL3uJB",
        "colab_type": "code",
        "outputId": "20cd7a4c-c3f0-432e-dc66-7ecf4e2e314b",
        "colab": {
          "base_uri": "https://localhost:8080/",
          "height": 357
        }
      },
      "source": [
        "files = os.listdir('Data')\n",
        "files"
      ],
      "execution_count": 0,
      "outputs": [
        {
          "output_type": "execute_result",
          "data": {
            "text/plain": [
              "['alt.atheism.txt',\n",
              " 'comp.graphics.txt',\n",
              " 'comp.os.ms-windows.misc.txt',\n",
              " 'comp.sys.ibm.pc.hardware.txt',\n",
              " 'comp.sys.mac.hardware.txt',\n",
              " 'comp.windows.x.txt',\n",
              " 'misc.forsale.txt',\n",
              " 'rec.autos.txt',\n",
              " 'rec.motorcycles.txt',\n",
              " 'rec.sport.baseball.txt',\n",
              " 'rec.sport.hockey.txt',\n",
              " 'sci.crypt.txt',\n",
              " 'sci.electronics.txt',\n",
              " 'sci.med.txt',\n",
              " 'sci.space.txt',\n",
              " 'soc.religion.christian.txt',\n",
              " 'talk.politics.guns.txt',\n",
              " 'talk.politics.mideast.txt',\n",
              " 'talk.politics.misc.txt',\n",
              " 'talk.religion.misc.txt']"
            ]
          },
          "metadata": {
            "tags": []
          },
          "execution_count": 24
        }
      ]
    },
    {
      "cell_type": "markdown",
      "metadata": {
        "id": "K1YIJURNgb_w",
        "colab_type": "text"
      },
      "source": [
        "### Reading data"
      ]
    },
    {
      "cell_type": "code",
      "metadata": {
        "id": "lX50vaUN315F",
        "colab_type": "code",
        "colab": {}
      },
      "source": [
        "# read all txt files into a list\n",
        "files_txt = []\n",
        "for file in files:\n",
        "\n",
        "  with open(r'Data/'+file, encoding='Latin-1') as f:\n",
        "    files_txt.append(f.read())"
      ],
      "execution_count": 0,
      "outputs": []
    },
    {
      "cell_type": "code",
      "metadata": {
        "id": "yz3pFmBF4Oim",
        "colab_type": "code",
        "outputId": "526bf5ca-682a-4616-ea2e-9f8701abd0fc",
        "colab": {
          "base_uri": "https://localhost:8080/",
          "height": 34
        }
      },
      "source": [
        "len(files_txt)"
      ],
      "execution_count": 0,
      "outputs": [
        {
          "output_type": "execute_result",
          "data": {
            "text/plain": [
              "20"
            ]
          },
          "metadata": {
            "tags": []
          },
          "execution_count": 26
        }
      ]
    },
    {
      "cell_type": "code",
      "metadata": {
        "id": "F7sE-oFz6WyX",
        "colab_type": "code",
        "outputId": "14c7bb45-68c5-4f3e-ed27-a3217bb3dd6e",
        "colab": {
          "base_uri": "https://localhost:8080/",
          "height": 357
        }
      },
      "source": [
        "# arrange names in more readable way\n",
        "groups_names = [x[0:-4] for x in files]\n",
        "groups_names"
      ],
      "execution_count": 0,
      "outputs": [
        {
          "output_type": "execute_result",
          "data": {
            "text/plain": [
              "['alt.atheism',\n",
              " 'comp.graphics',\n",
              " 'comp.os.ms-windows.misc',\n",
              " 'comp.sys.ibm.pc.hardware',\n",
              " 'comp.sys.mac.hardware',\n",
              " 'comp.windows.x',\n",
              " 'misc.forsale',\n",
              " 'rec.autos',\n",
              " 'rec.motorcycles',\n",
              " 'rec.sport.baseball',\n",
              " 'rec.sport.hockey',\n",
              " 'sci.crypt',\n",
              " 'sci.electronics',\n",
              " 'sci.med',\n",
              " 'sci.space',\n",
              " 'soc.religion.christian',\n",
              " 'talk.politics.guns',\n",
              " 'talk.politics.mideast',\n",
              " 'talk.politics.misc',\n",
              " 'talk.religion.misc']"
            ]
          },
          "metadata": {
            "tags": []
          },
          "execution_count": 27
        }
      ]
    },
    {
      "cell_type": "markdown",
      "metadata": {
        "id": "tPOY8-X8iU_w",
        "colab_type": "text"
      },
      "source": [
        "# Preprocessing"
      ]
    },
    {
      "cell_type": "markdown",
      "metadata": {
        "id": "3HoKXnV5gh-K",
        "colab_type": "text"
      },
      "source": [
        "### splitting text files to single messages"
      ]
    },
    {
      "cell_type": "code",
      "metadata": {
        "id": "Xfc4KEq8ldVY",
        "colab_type": "code",
        "colab": {}
      },
      "source": [
        "# create dataframe with all singles messages and corresponding group name\n",
        "\n",
        "# use headers as delimiters for splitting messages\n",
        "spliter = '(newsgroup:*.{1,}\\ndocument_id:*.{1,}\\n)'\n",
        "\n",
        "data = pd.DataFrame()\n",
        "\n",
        "for i,txt in enumerate(files_txt):\n",
        "  txt_split = re.split(spliter,txt,  flags=re.I)\n",
        "   \n",
        "  # save headers, maybe for more features   \n",
        "  ids = txt_split[1::2]\n",
        "  \n",
        "  # save the messages\n",
        "  messages = txt_split[2::2]\n",
        "  \n",
        "  # store to dataframe\n",
        "  current = pd.DataFrame({'newsgroup':[groups_names[i]]*len(ids), 'message': messages, 'message_id': ids    })\n",
        "  \n",
        "  data = pd.concat([data, current], axis=0)\n",
        "\n",
        "data = data.reset_index(drop=True)"
      ],
      "execution_count": 0,
      "outputs": []
    },
    {
      "cell_type": "code",
      "metadata": {
        "colab_type": "code",
        "outputId": "02ada49b-454a-41f1-825a-ab782107c4ed",
        "id": "qETjaiN67Q0Y",
        "colab": {
          "base_uri": "https://localhost:8080/",
          "height": 204
        }
      },
      "source": [
        "data.head()"
      ],
      "execution_count": 0,
      "outputs": [
        {
          "output_type": "execute_result",
          "data": {
            "text/html": [
              "<div>\n",
              "<style scoped>\n",
              "    .dataframe tbody tr th:only-of-type {\n",
              "        vertical-align: middle;\n",
              "    }\n",
              "\n",
              "    .dataframe tbody tr th {\n",
              "        vertical-align: top;\n",
              "    }\n",
              "\n",
              "    .dataframe thead th {\n",
              "        text-align: right;\n",
              "    }\n",
              "</style>\n",
              "<table border=\"1\" class=\"dataframe\">\n",
              "  <thead>\n",
              "    <tr style=\"text-align: right;\">\n",
              "      <th></th>\n",
              "      <th>newsgroup</th>\n",
              "      <th>message</th>\n",
              "      <th>message_id</th>\n",
              "    </tr>\n",
              "  </thead>\n",
              "  <tbody>\n",
              "    <tr>\n",
              "      <th>0</th>\n",
              "      <td>alt.atheism</td>\n",
              "      <td>From: mathew &lt;mathew@mantis.co.uk&gt;\\nSubject: A...</td>\n",
              "      <td>Newsgroup: alt.atheism\\ndocument_id: 49960\\n</td>\n",
              "    </tr>\n",
              "    <tr>\n",
              "      <th>1</th>\n",
              "      <td>alt.atheism</td>\n",
              "      <td>From: mathew &lt;mathew@mantis.co.uk&gt;\\nSubject: A...</td>\n",
              "      <td>Newsgroup: alt.atheism\\ndocument_id: 51060\\n</td>\n",
              "    </tr>\n",
              "    <tr>\n",
              "      <th>2</th>\n",
              "      <td>alt.atheism</td>\n",
              "      <td>From: I3150101@dbstu1.rz.tu-bs.de (Benedikt Ro...</td>\n",
              "      <td>Newsgroup: alt.atheism\\ndocument_id: 51119\\n</td>\n",
              "    </tr>\n",
              "    <tr>\n",
              "      <th>3</th>\n",
              "      <td>alt.atheism</td>\n",
              "      <td>From: mathew &lt;mathew@mantis.co.uk&gt;\\nSubject: R...</td>\n",
              "      <td>Newsgroup: alt.atheism\\ndocument_id: 51120\\n</td>\n",
              "    </tr>\n",
              "    <tr>\n",
              "      <th>4</th>\n",
              "      <td>alt.atheism</td>\n",
              "      <td>From: strom@Watson.Ibm.Com (Rob Strom)\\nSubjec...</td>\n",
              "      <td>Newsgroup: alt.atheism\\ndocument_id: 51121\\n</td>\n",
              "    </tr>\n",
              "  </tbody>\n",
              "</table>\n",
              "</div>"
            ],
            "text/plain": [
              "     newsgroup  ...                                    message_id\n",
              "0  alt.atheism  ...  Newsgroup: alt.atheism\\ndocument_id: 49960\\n\n",
              "1  alt.atheism  ...  Newsgroup: alt.atheism\\ndocument_id: 51060\\n\n",
              "2  alt.atheism  ...  Newsgroup: alt.atheism\\ndocument_id: 51119\\n\n",
              "3  alt.atheism  ...  Newsgroup: alt.atheism\\ndocument_id: 51120\\n\n",
              "4  alt.atheism  ...  Newsgroup: alt.atheism\\ndocument_id: 51121\\n\n",
              "\n",
              "[5 rows x 3 columns]"
            ]
          },
          "metadata": {
            "tags": []
          },
          "execution_count": 29
        }
      ]
    },
    {
      "cell_type": "markdown",
      "metadata": {
        "id": "p7BLtTMmgntH",
        "colab_type": "text"
      },
      "source": [
        "### remove duplicated messages"
      ]
    },
    {
      "cell_type": "code",
      "metadata": {
        "id": "SSYkd6fhQFUK",
        "colab_type": "code",
        "outputId": "345994ff-f6a5-4003-e220-5cc1673b0825",
        "colab": {
          "base_uri": "https://localhost:8080/",
          "height": 34
        }
      },
      "source": [
        "print('number of duplicated rows: ', + data.duplicated(subset=['message']).sum())\n",
        "data.drop_duplicates(subset='message', keep='first', inplace=True)\n",
        "data=data.reset_index(drop=True)"
      ],
      "execution_count": 0,
      "outputs": [
        {
          "output_type": "stream",
          "text": [
            "number of duplicated rows:  18828\n"
          ],
          "name": "stdout"
        }
      ]
    },
    {
      "cell_type": "markdown",
      "metadata": {
        "id": "Huts8tH5gtTs",
        "colab_type": "text"
      },
      "source": [
        "#### label encoding of different groups"
      ]
    },
    {
      "cell_type": "code",
      "metadata": {
        "id": "z3pav1T4f7cZ",
        "colab_type": "code",
        "colab": {}
      },
      "source": [
        "# use LabelEncoding to encode groups \n",
        "le = LabelEncoder()\n",
        "\n",
        "data['label'] = le.fit_transform(data['newsgroup'])"
      ],
      "execution_count": 0,
      "outputs": []
    },
    {
      "cell_type": "code",
      "metadata": {
        "id": "DZg1i-f5QJTA",
        "colab_type": "code",
        "outputId": "e422d448-ffa7-4730-ab0c-edf0c764e50a",
        "colab": {
          "base_uri": "https://localhost:8080/",
          "height": 34
        }
      },
      "source": [
        "data.shape"
      ],
      "execution_count": 0,
      "outputs": [
        {
          "output_type": "execute_result",
          "data": {
            "text/plain": [
              "(18828, 4)"
            ]
          },
          "metadata": {
            "tags": []
          },
          "execution_count": 32
        }
      ]
    },
    {
      "cell_type": "code",
      "metadata": {
        "id": "9b8GLTIGo96K",
        "colab_type": "code",
        "outputId": "7aacf91e-2bc4-459f-c6ba-4c6b4b72535f",
        "colab": {
          "base_uri": "https://localhost:8080/",
          "height": 68
        }
      },
      "source": [
        "print(data.loc[10000, 'message_id'])"
      ],
      "execution_count": 0,
      "outputs": [
        {
          "output_type": "stream",
          "text": [
            "Newsgroup: rec.sport.hockey\n",
            "document_id: 53771\n",
            "\n"
          ],
          "name": "stdout"
        }
      ]
    },
    {
      "cell_type": "code",
      "metadata": {
        "id": "gaV_N41Qpmav",
        "colab_type": "code",
        "outputId": "0135c9c4-bd54-4a50-b5b4-ce2a27bd23f7",
        "colab": {
          "base_uri": "https://localhost:8080/",
          "height": 527
        }
      },
      "source": [
        "print(data.loc[10000, 'message'])"
      ],
      "execution_count": 0,
      "outputs": [
        {
          "output_type": "stream",
          "text": [
            "From: smorris@venus.lerc.nasa.gov (Ron Morris )\n",
            "Subject: Re: Wings take game one\n",
            "\n",
            "In  <1qvos8$r78@cl.msu.>, vergolin@euler.lbs.msu.edu (David Vergolini) writes...\n",
            ">  The Detroit Red Wings put a lot of doubter on ice tonight with a 6 - 3\n",
            ">washing of the Toronto Maple Leafs.  All you Toronto fans have now seen the\n",
            ">power of the mighty Red Wing offense.  Toronto's defense in no match for the\n",
            ">Wing offense.  As for the defense, Probert, Kennedey and Primeau came out\n",
            ">hitting hard.  Toronto players were being thrown left and right.  Not even\n",
            ">Wendell Clark was tough enough for the Wings tough guys.  The Wings only gave\n",
            ">up three goals, a low total for what they say is a mediocre defense.\n",
            ">  All you Leaf fans better speak up now.  You team will probable have its\n",
            ">season ended soon.  Wings fans, keep up the support.\n",
            "\n",
            "There's quite a few Wings fans lurking about here, they just tend\n",
            "to be low key and thoughtful rather than woofers.  I suppose every\n",
            "family must have a Roger Clinton, though.  But remember (to paraphrase\n",
            "one of my favorite Star Trek lines), \"if we adopt the ways of the Leaf\n",
            "fans, we are as bad as the Leaf fans\".\n",
            "\n",
            "Ron\n",
            "\n",
            "**********\n",
            "\"And one of my major goals is to leave the next president a new set\n",
            "of things to worry about.  I'm getting bored reading the same problems\n",
            "in the paper, decade after decade.  I want people to have to deal\n",
            "with new problems.\"\n",
            "                    ... President Bill Clinton   2-4-93\n",
            "\n",
            "\n"
          ],
          "name": "stdout"
        }
      ]
    },
    {
      "cell_type": "markdown",
      "metadata": {
        "id": "CjH5LZ8kg4eS",
        "colab_type": "text"
      },
      "source": [
        "### distribution of messages per group"
      ]
    },
    {
      "cell_type": "code",
      "metadata": {
        "id": "cIU_BftcqwKp",
        "colab_type": "code",
        "outputId": "36dc6187-03da-453c-c977-d25c9cc66b64",
        "colab": {
          "base_uri": "https://localhost:8080/",
          "height": 627
        }
      },
      "source": [
        "plt.figure(figsize=(5,10));\n",
        "sns.countplot(y='newsgroup', data=data, color='b');\n",
        "plt.title('number of messages per newsgroup');"
      ],
      "execution_count": 0,
      "outputs": [
        {
          "output_type": "display_data",
          "data": {
            "image/png": "[encoded data removed]",
            "text/plain": [
              "<Figure size 360x720 with 1 Axes>"
            ]
          },
          "metadata": {
            "tags": []
          }
        }
      ]
    },
    {
      "cell_type": "markdown",
      "metadata": {
        "id": "dPPXvDk1Y3Ya",
        "colab_type": "text"
      },
      "source": [
        "data seems to be quite balanced"
      ]
    },
    {
      "cell_type": "markdown",
      "metadata": {
        "id": "ec0n6qWag9Qa",
        "colab_type": "text"
      },
      "source": [
        "### functions decleration"
      ]
    },
    {
      "cell_type": "code",
      "metadata": {
        "id": "E10ETACirl1k",
        "colab_type": "code",
        "colab": {}
      },
      "source": [
        "# basic features\n",
        "def calculate_basic_features(txt):\n",
        "  \n",
        "  features = pd.DataFrame()\n",
        "  \n",
        "  # length of txt\n",
        "  features['length'] = [len(txt)]\n",
        "  \n",
        "  # number of dots in end of sentences\n",
        "  features['n_sentences'] = [len(re.findall('\\. ', txt))]\n",
        "  \n",
        "  # number of question marks\n",
        "  features['n_questions'] = [len(re.findall('\\?', txt))]\n",
        "  \n",
        "  # number of exclametion marks\n",
        "  features['n_exclamation'] = [len(re.findall('\\!', txt))]\n",
        "  \n",
        "  # number of white spaces\n",
        "  features['n_white'] = [len(re.findall('\\s', txt))]\n",
        "  \n",
        "  # number of new lines\n",
        "  features['n_lines'] = [len(re.findall('\\n', txt))]\n",
        "  \n",
        "  # number of digits\n",
        "  \n",
        "  return features\n",
        "\n",
        "#--------------------------------------------------------------------------\n",
        "\n",
        "# get POS for more accurate lematization\n",
        "def get_wordnet_pos(word):\n",
        "    \"\"\"Map POS tag to first character lemmatize() accepts\"\"\"\n",
        "    tag = nltk.pos_tag([word])[0][1][0].upper()\n",
        "    tag_dict = {\"J\": wordnet.ADJ,\n",
        "                \"N\": wordnet.NOUN,\n",
        "                \"V\": wordnet.VERB,\n",
        "                \"R\": wordnet.ADV}\n",
        "\n",
        "    return tag_dict.get(tag, wordnet.NOUN)\n",
        "  \n",
        "#--------------------------------------------------------------------------\n",
        "\n",
        "\n",
        "# cleaning data\n",
        "def clean_text(txt):\n",
        "  \n",
        "  porter = PorterStemmer()\n",
        "  lemmatizer = WordNetLemmatizer() \n",
        "  stop_words = stopwords.words('english')\n",
        "  \n",
        "  email = '([a-zA-Z0-9._-]+@[a-zA-Z0-9._-]+\\.[a-zA-Z0-9_-]+)'\n",
        "  txt = re.sub(email,'', txt)\n",
        "\n",
        "\n",
        "  txt = txt.lower()\n",
        "\n",
        "  words = word_tokenize(txt)\n",
        "\n",
        "  # remove all tokens that are not alphabetic\n",
        "  words = [word for word in words if word.isalpha()]\n",
        "\n",
        "  # remove stopwords\n",
        "  words = [word for word in words if word not in stop_words]\n",
        "  \n",
        "  # lemmatization\n",
        "  words = [lemmatizer.lemmatize(word, get_wordnet_pos(word)) for word in words] \n",
        "  \n",
        "  # stemming\n",
        "  words = [porter.stem(word) for word in words]\n",
        "  \n",
        "  # remove 3 or less letter words\n",
        "  words = [word for word in words if len(word)>3]\n",
        "\n",
        "  \n",
        "  return words\n",
        "\n",
        "#--------------------------------------------------------------------------\n",
        "\n",
        "\n",
        "# plot confusion matrix\n",
        "def plot_confusion_matrix(y_true, y_pred, classes,\n",
        "                          normalize=False,\n",
        "                          title=None,\n",
        "                          cmap=plt.cm.Blues):\n",
        "    \"\"\"\n",
        "    This function prints and plots the confusion matrix.\n",
        "    Normalization can be applied by setting `normalize=True`.\n",
        "    \"\"\"\n",
        "    if not title:\n",
        "        if normalize:\n",
        "            title = 'Normalized confusion matrix'\n",
        "        else:\n",
        "            title = 'Confusion matrix, without normalization'\n",
        "\n",
        "    # Compute confusion matrix\n",
        "    cm = confusion_matrix(y_true, y_pred);\n",
        "    # Only use the labels that appear in the data\n",
        "    classes = classes[unique_labels(y_true, y_pred)]\n",
        "    if normalize:\n",
        "        cm = cm.astype('float') / cm.sum(axis=1)[:, np.newaxis]\n",
        "        print(\"Normalized confusion matrix\")\n",
        "    else:\n",
        "        print('Confusion matrix, without normalization')\n",
        "\n",
        "    fig, ax = plt.subplots(figsize=(15,15))\n",
        "    im = ax.imshow(cm, interpolation='nearest', cmap=cmap)\n",
        "    ax.figure.colorbar(im, ax=ax)\n",
        "    # We want to show all ticks...\n",
        "    ax.set(xticks=np.arange(cm.shape[1]), yticks=np.arange(cm.shape[0]),\n",
        "           xticklabels=classes, yticklabels=classes,\n",
        "           title=title, ylabel='True label', xlabel='Predicted label')\n",
        "\n",
        "    # Rotate the tick labels and set their alignment.\n",
        "    plt.setp(ax.get_xticklabels(), rotation=45, ha=\"right\",\n",
        "             rotation_mode=\"anchor\")\n",
        "\n",
        "    # Loop over data dimensions and create text annotations.\n",
        "    fmt = '.2f' if normalize else 'd'\n",
        "    thresh = cm.max() / 2.\n",
        "    for i in range(cm.shape[0]):\n",
        "        for j in range(cm.shape[1]):\n",
        "            ax.text(j, i, format(cm[i, j], fmt),\n",
        "                    ha=\"center\", va=\"center\",\n",
        "                    color=\"white\" if cm[i, j] > thresh else \"black\")\n",
        "    fig.tight_layout()\n",
        "    return ax\n",
        "\n"
      ],
      "execution_count": 0,
      "outputs": []
    },
    {
      "cell_type": "code",
      "metadata": {
        "id": "-gXYHZOiE2Ze",
        "colab_type": "code",
        "outputId": "eb8034a5-45b7-41bd-8bca-ebd5e64f2d4e",
        "colab": {
          "base_uri": "https://localhost:8080/",
          "height": 204
        }
      },
      "source": [
        "data.head()"
      ],
      "execution_count": 0,
      "outputs": [
        {
          "output_type": "execute_result",
          "data": {
            "text/html": [
              "<div>\n",
              "<style scoped>\n",
              "    .dataframe tbody tr th:only-of-type {\n",
              "        vertical-align: middle;\n",
              "    }\n",
              "\n",
              "    .dataframe tbody tr th {\n",
              "        vertical-align: top;\n",
              "    }\n",
              "\n",
              "    .dataframe thead th {\n",
              "        text-align: right;\n",
              "    }\n",
              "</style>\n",
              "<table border=\"1\" class=\"dataframe\">\n",
              "  <thead>\n",
              "    <tr style=\"text-align: right;\">\n",
              "      <th></th>\n",
              "      <th>newsgroup</th>\n",
              "      <th>message</th>\n",
              "      <th>message_id</th>\n",
              "      <th>label</th>\n",
              "    </tr>\n",
              "  </thead>\n",
              "  <tbody>\n",
              "    <tr>\n",
              "      <th>0</th>\n",
              "      <td>alt.atheism</td>\n",
              "      <td>From: mathew &lt;mathew@mantis.co.uk&gt;\\nSubject: A...</td>\n",
              "      <td>Newsgroup: alt.atheism\\ndocument_id: 49960\\n</td>\n",
              "      <td>0</td>\n",
              "    </tr>\n",
              "    <tr>\n",
              "      <th>1</th>\n",
              "      <td>alt.atheism</td>\n",
              "      <td>From: mathew &lt;mathew@mantis.co.uk&gt;\\nSubject: A...</td>\n",
              "      <td>Newsgroup: alt.atheism\\ndocument_id: 51060\\n</td>\n",
              "      <td>0</td>\n",
              "    </tr>\n",
              "    <tr>\n",
              "      <th>2</th>\n",
              "      <td>alt.atheism</td>\n",
              "      <td>From: I3150101@dbstu1.rz.tu-bs.de (Benedikt Ro...</td>\n",
              "      <td>Newsgroup: alt.atheism\\ndocument_id: 51119\\n</td>\n",
              "      <td>0</td>\n",
              "    </tr>\n",
              "    <tr>\n",
              "      <th>3</th>\n",
              "      <td>alt.atheism</td>\n",
              "      <td>From: mathew &lt;mathew@mantis.co.uk&gt;\\nSubject: R...</td>\n",
              "      <td>Newsgroup: alt.atheism\\ndocument_id: 51120\\n</td>\n",
              "      <td>0</td>\n",
              "    </tr>\n",
              "    <tr>\n",
              "      <th>4</th>\n",
              "      <td>alt.atheism</td>\n",
              "      <td>From: strom@Watson.Ibm.Com (Rob Strom)\\nSubjec...</td>\n",
              "      <td>Newsgroup: alt.atheism\\ndocument_id: 51121\\n</td>\n",
              "      <td>0</td>\n",
              "    </tr>\n",
              "  </tbody>\n",
              "</table>\n",
              "</div>"
            ],
            "text/plain": [
              "     newsgroup  ... label\n",
              "0  alt.atheism  ...     0\n",
              "1  alt.atheism  ...     0\n",
              "2  alt.atheism  ...     0\n",
              "3  alt.atheism  ...     0\n",
              "4  alt.atheism  ...     0\n",
              "\n",
              "[5 rows x 4 columns]"
            ]
          },
          "metadata": {
            "tags": []
          },
          "execution_count": 37
        }
      ]
    },
    {
      "cell_type": "markdown",
      "metadata": {
        "id": "DL5kw9mR-1aQ",
        "colab_type": "text"
      },
      "source": [
        "# Preprocessing..."
      ]
    },
    {
      "cell_type": "markdown",
      "metadata": {
        "id": "SO--O7ROhVMj",
        "colab_type": "text"
      },
      "source": [
        "### clean data\n",
        "\n",
        "\n",
        "*   lowering\n",
        "*   tokenizing\n",
        "*   remove non alphabetic tokens\n",
        "*   remove stop words\n",
        "*   remove short words\n",
        "*   lematization, based on POS\n",
        "*   steming\n",
        "\n",
        "\n",
        "\n",
        "\n",
        "\n",
        "\n"
      ]
    },
    {
      "cell_type": "code",
      "metadata": {
        "id": "X786lIb9NgUe",
        "colab_type": "code",
        "colab": {}
      },
      "source": [
        "# clean data\n",
        "clean_message = []\n",
        "for i in tqdm(range(data.shape[0]), ncols=100):\n",
        "  clean_message.append(clean_text(data.loc[i, 'message']))"
      ],
      "execution_count": 0,
      "outputs": []
    },
    {
      "cell_type": "code",
      "metadata": {
        "id": "rfFMmjHgRC_L",
        "colab_type": "code",
        "colab": {}
      },
      "source": [
        "data['clean_message'] = clean_message"
      ],
      "execution_count": 0,
      "outputs": []
    },
    {
      "cell_type": "markdown",
      "metadata": {
        "id": "cMDj9oTJZt-7",
        "colab_type": "text"
      },
      "source": [
        "### example of original message and the message after processing"
      ]
    },
    {
      "cell_type": "code",
      "metadata": {
        "id": "vE2glKFZRi-B",
        "colab_type": "code",
        "outputId": "43d5965b-1213-45d7-8d17-16380f970c22",
        "colab": {
          "base_uri": "https://localhost:8080/",
          "height": 204
        }
      },
      "source": [
        "print(data.loc[1000, 'message'])"
      ],
      "execution_count": 0,
      "outputs": [
        {
          "output_type": "stream",
          "text": [
            "From: jian@coos.dartmouth.edu (Jian Lu)\n",
            "Subject: Grayscale Printer\n",
            "\n",
            "We are interested in purchasing a grayscale printer that offers a good\n",
            "resoltuion for grayscale medical images.  Can anybody give me some\n",
            "recommendations on these products in the market, in particular, those\n",
            "under $5000?\n",
            "\n",
            "Thank for the advice.\n",
            "\n",
            "\n"
          ],
          "name": "stdout"
        }
      ]
    },
    {
      "cell_type": "code",
      "metadata": {
        "id": "SkL9-4pYR1qo",
        "colab_type": "code",
        "outputId": "79584b78-8d7f-4e95-b705-c5180e19169d",
        "colab": {
          "base_uri": "https://localhost:8080/",
          "height": 54
        }
      },
      "source": [
        "print(data.loc[1000, 'clean_message'])"
      ],
      "execution_count": 0,
      "outputs": [
        {
          "output_type": "stream",
          "text": [
            "['jian', 'subject', 'grayscal', 'printer', 'interest', 'purchas', 'grayscal', 'printer', 'offer', 'good', 'resoltuion', 'grayscal', 'medic', 'imag', 'anybodi', 'give', 'recommend', 'product', 'market', 'particular', 'thank', 'advic']\n"
          ],
          "name": "stdout"
        }
      ]
    },
    {
      "cell_type": "code",
      "metadata": {
        "id": "U0X7W4x6gWZb",
        "colab_type": "code",
        "colab": {}
      },
      "source": [
        "y = data['label']\n",
        "data['clean_message_join'] = data['clean_message'].str.join(sep=' ')"
      ],
      "execution_count": 0,
      "outputs": []
    },
    {
      "cell_type": "markdown",
      "metadata": {
        "id": "xCxjZ7_yiKuk",
        "colab_type": "text"
      },
      "source": [
        "### train test split\n",
        "\n",
        "the 20% will remain for pure testing.\n",
        "\n",
        "the rest will be used for training and finetuning with Kfold CV"
      ]
    },
    {
      "cell_type": "code",
      "metadata": {
        "id": "_uujoK7bJ9eE",
        "colab_type": "code",
        "outputId": "010aa36c-a5ee-4b18-dfaf-f90381f281a9",
        "colab": {
          "base_uri": "https://localhost:8080/",
          "height": 204
        }
      },
      "source": [
        "data.head()"
      ],
      "execution_count": 0,
      "outputs": [
        {
          "output_type": "execute_result",
          "data": {
            "text/html": [
              "<div>\n",
              "<style scoped>\n",
              "    .dataframe tbody tr th:only-of-type {\n",
              "        vertical-align: middle;\n",
              "    }\n",
              "\n",
              "    .dataframe tbody tr th {\n",
              "        vertical-align: top;\n",
              "    }\n",
              "\n",
              "    .dataframe thead th {\n",
              "        text-align: right;\n",
              "    }\n",
              "</style>\n",
              "<table border=\"1\" class=\"dataframe\">\n",
              "  <thead>\n",
              "    <tr style=\"text-align: right;\">\n",
              "      <th></th>\n",
              "      <th>newsgroup</th>\n",
              "      <th>message</th>\n",
              "      <th>message_id</th>\n",
              "      <th>label</th>\n",
              "      <th>clean_message</th>\n",
              "      <th>clean_message_join</th>\n",
              "    </tr>\n",
              "  </thead>\n",
              "  <tbody>\n",
              "    <tr>\n",
              "      <th>0</th>\n",
              "      <td>alt.atheism</td>\n",
              "      <td>From: mathew &lt;mathew@mantis.co.uk&gt;\\nSubject: A...</td>\n",
              "      <td>Newsgroup: alt.atheism\\ndocument_id: 49960\\n</td>\n",
              "      <td>0</td>\n",
              "      <td>[mathew, subject, atheist, resourc, resourc, d...</td>\n",
              "      <td>mathew subject atheist resourc resourc decemb ...</td>\n",
              "    </tr>\n",
              "    <tr>\n",
              "      <th>1</th>\n",
              "      <td>alt.atheism</td>\n",
              "      <td>From: mathew &lt;mathew@mantis.co.uk&gt;\\nSubject: A...</td>\n",
              "      <td>Newsgroup: alt.atheism\\ndocument_id: 51060\\n</td>\n",
              "      <td>0</td>\n",
              "      <td>[mathew, subject, introduct, atheism, introduc...</td>\n",
              "      <td>mathew subject introduct atheism introduct apr...</td>\n",
              "    </tr>\n",
              "    <tr>\n",
              "      <th>2</th>\n",
              "      <td>alt.atheism</td>\n",
              "      <td>From: I3150101@dbstu1.rz.tu-bs.de (Benedikt Ro...</td>\n",
              "      <td>Newsgroup: alt.atheism\\ndocument_id: 51119\\n</td>\n",
              "      <td>0</td>\n",
              "      <td>[benedikt, rosenau, subject, gospel, date, art...</td>\n",
              "      <td>benedikt rosenau subject gospel date articl ch...</td>\n",
              "    </tr>\n",
              "    <tr>\n",
              "      <th>3</th>\n",
              "      <td>alt.atheism</td>\n",
              "      <td>From: mathew &lt;mathew@mantis.co.uk&gt;\\nSubject: R...</td>\n",
              "      <td>Newsgroup: alt.atheism\\ndocument_id: 51120\\n</td>\n",
              "      <td>0</td>\n",
              "      <td>[mathew, subject, univers, violat, separ, king...</td>\n",
              "      <td>mathew subject univers violat separ king becom...</td>\n",
              "    </tr>\n",
              "    <tr>\n",
              "      <th>4</th>\n",
              "      <td>alt.atheism</td>\n",
              "      <td>From: strom@Watson.Ibm.Com (Rob Strom)\\nSubjec...</td>\n",
              "      <td>Newsgroup: alt.atheism\\ndocument_id: 51121\\n</td>\n",
              "      <td>0</td>\n",
              "      <td>[strom, subject, princeton, match, fund, scout...</td>\n",
              "      <td>strom subject princeton match fund scout artic...</td>\n",
              "    </tr>\n",
              "  </tbody>\n",
              "</table>\n",
              "</div>"
            ],
            "text/plain": [
              "     newsgroup  ...                                 clean_message_join\n",
              "0  alt.atheism  ...  mathew subject atheist resourc resourc decemb ...\n",
              "1  alt.atheism  ...  mathew subject introduct atheism introduct apr...\n",
              "2  alt.atheism  ...  benedikt rosenau subject gospel date articl ch...\n",
              "3  alt.atheism  ...  mathew subject univers violat separ king becom...\n",
              "4  alt.atheism  ...  strom subject princeton match fund scout artic...\n",
              "\n",
              "[5 rows x 6 columns]"
            ]
          },
          "metadata": {
            "tags": []
          },
          "execution_count": 43
        }
      ]
    },
    {
      "cell_type": "code",
      "metadata": {
        "id": "VTwapxRfAIBC",
        "colab_type": "code",
        "colab": {}
      },
      "source": [
        "\n",
        "data_train, data_test, y_train, y_test = train_test_split(data,y, test_size=0.2, random_state=0)"
      ],
      "execution_count": 0,
      "outputs": []
    },
    {
      "cell_type": "markdown",
      "metadata": {
        "id": "TsYa6aPzo2Wo",
        "colab_type": "text"
      },
      "source": [
        "# DL APPROACH"
      ]
    },
    {
      "cell_type": "code",
      "metadata": {
        "id": "m_S9eyxana1J",
        "colab_type": "code",
        "outputId": "c942d68f-54c5-4850-b546-57788075a322",
        "colab": {
          "base_uri": "https://localhost:8080/",
          "height": 119
        }
      },
      "source": [
        "from keras.preprocessing.sequence import pad_sequences\n",
        "from keras.models import Sequential\n",
        "from keras.layers.core import Activation, Dropout, Dense\n",
        "from keras.layers import Flatten, MaxPooling1D,  GlobalMaxPooling1D, Conv1D, Dropout, LSTM, BatchNormalization, SpatialDropout1D\n",
        "from keras.layers.embeddings import Embedding\n",
        "from sklearn.model_selection import train_test_split\n",
        "from keras.preprocessing.text import Tokenizer\n",
        "from keras import regularizers\n",
        "from keras.callbacks import Callback, EarlyStopping\n",
        "!pip install bayesian-optimization\n",
        "from bayes_opt import BayesianOptimization\n",
        "import warnings; warnings.filterwarnings(\"ignore\")\n",
        "\n"
      ],
      "execution_count": 0,
      "outputs": [
        {
          "output_type": "stream",
          "text": [
            "Using TensorFlow backend.\n"
          ],
          "name": "stderr"
        },
        {
          "output_type": "stream",
          "text": [
            "Requirement already satisfied: bayesian-optimization in /usr/local/lib/python3.6/dist-packages (1.0.1)\n",
            "Requirement already satisfied: numpy>=1.9.0 in /usr/local/lib/python3.6/dist-packages (from bayesian-optimization) (1.16.5)\n",
            "Requirement already satisfied: scipy>=0.14.0 in /usr/local/lib/python3.6/dist-packages (from bayesian-optimization) (1.3.1)\n",
            "Requirement already satisfied: scikit-learn>=0.18.0 in /usr/local/lib/python3.6/dist-packages (from bayesian-optimization) (0.21.3)\n",
            "Requirement already satisfied: joblib>=0.11 in /usr/local/lib/python3.6/dist-packages (from scikit-learn>=0.18.0->bayesian-optimization) (0.13.2)\n"
          ],
          "name": "stdout"
        }
      ]
    },
    {
      "cell_type": "code",
      "metadata": {
        "id": "f6nZkHOm_4dS",
        "colab_type": "code",
        "colab": {}
      },
      "source": [
        "data_train, data_test, y_train, y_test = train_test_split(data,y, test_size=0.2, random_state=0)"
      ],
      "execution_count": 0,
      "outputs": []
    },
    {
      "cell_type": "code",
      "metadata": {
        "id": "pR3JrZfTsvJk",
        "colab_type": "code",
        "colab": {}
      },
      "source": [
        "# preparing the data fro embedding\n",
        "\n",
        "MAX_NUM_WORDS = 20000\n",
        "\n",
        "# encoding texts to vectors  \n",
        "tokenizer = Tokenizer(num_words=MAX_NUM_WORDS)\n",
        "\n",
        "tokenizer.fit_on_texts(data_train['clean_message'].values)\n",
        "\n",
        "X_train = tokenizer.texts_to_sequences(data_train['clean_message'])\n",
        "X_test = tokenizer.texts_to_sequences(data_test['clean_message'])\n",
        "\n",
        "\n",
        "vocab_size = len(tokenizer.word_index) + 1\n",
        "\n",
        "L = [len(x) for x in X_train]\n",
        "\n",
        "# padding with zeros and cutting to fixed length\n",
        "\n",
        "SEQUENCE_LENGTH = np.percentile(L, 90).astype(np.int)\n",
        "X_train = pad_sequences(X_train, padding='post', maxlen=SEQUENCE_LENGTH)\n",
        "X_test = pad_sequences(X_test, padding='post', maxlen=SEQUENCE_LENGTH)"
      ],
      "execution_count": 0,
      "outputs": []
    },
    {
      "cell_type": "code",
      "metadata": {
        "id": "UVl5nUxEgRHq",
        "colab_type": "code",
        "colab": {}
      },
      "source": [
        "# this block generates weights for the embedding layer from pre trained word vectors (glove)\n",
        "# this way this layer is not need to be trained and use this weights\n",
        "\n",
        "EMBEDDING_DIM=100\n",
        "\n",
        "embeddings_dictionary = dict()\n",
        "glove_file = open('glove.6B.100d.txt', encoding=\"utf8\")\n",
        "\n",
        "for line in glove_file:\n",
        "    records = line.split()\n",
        "    word = records[0]\n",
        "    vector_dimensions = np.asarray(records[1:], dtype='float32')\n",
        "    embeddings_dictionary [word] = vector_dimensions\n",
        "glove_file.close()\n",
        "\n",
        "embedding_matrix = np.zeros((vocab_size, EMBEDDING_DIM))\n",
        "for word, index in tokenizer.word_index.items():\n",
        "    embedding_vector = embeddings_dictionary.get(word)\n",
        "    if embedding_vector is not None:\n",
        "        embedding_matrix[index] = embedding_vector\n",
        "        \n",
        "\n",
        "        \n",
        "# tried it- it didn't impvove"
      ],
      "execution_count": 0,
      "outputs": []
    },
    {
      "cell_type": "code",
      "metadata": {
        "id": "y1MgqD5BmEud",
        "colab_type": "code",
        "outputId": "3b00eed3-188f-43f3-9cf6-996a48c49bd0",
        "colab": {
          "base_uri": "https://localhost:8080/",
          "height": 34
        }
      },
      "source": [
        "print('vocab size:' , vocab_size )"
      ],
      "execution_count": 0,
      "outputs": [
        {
          "output_type": "stream",
          "text": [
            "vocab size: 52184\n"
          ],
          "name": "stdout"
        }
      ]
    },
    {
      "cell_type": "code",
      "metadata": {
        "id": "3bwB79nHBEB9",
        "colab_type": "code",
        "colab": {}
      },
      "source": [
        "X_train = np.vstack(X_train)\n",
        "X_test = np.vstack(X_test)\n",
        "\n",
        "y_train_d = pd.get_dummies(y_train).values\n",
        "y_test_d = pd.get_dummies(y_test).values"
      ],
      "execution_count": 0,
      "outputs": []
    },
    {
      "cell_type": "code",
      "metadata": {
        "id": "cPYkrXGyYkQB",
        "colab_type": "code",
        "outputId": "2658e174-0d80-4ead-8a2d-1d3a1743b3c6",
        "colab": {
          "base_uri": "https://localhost:8080/",
          "height": 34
        }
      },
      "source": [
        "print(X_train.shape, y_train_d.shape)"
      ],
      "execution_count": 0,
      "outputs": [
        {
          "output_type": "stream",
          "text": [
            "(15062, 192) (15062, 20)\n"
          ],
          "name": "stdout"
        }
      ]
    },
    {
      "cell_type": "markdown",
      "metadata": {
        "id": "-YRhZIcgVrg6",
        "colab_type": "text"
      },
      "source": [
        "\n",
        "\n",
        "---\n",
        "\n",
        "\n",
        "things I want to test:\n",
        "1. number of filters\n",
        "2. filters size\n",
        "3. batch size\n",
        "4. number of conv layers\n",
        "5. pooling size\n",
        "6. EMBEDDING_DIM\n",
        "\n",
        "first, I'll try to find rough working-point by fixing all parameters except 1 and find the optimum.\n",
        "\n",
        "then, I'll perform some sort of grid search/other optimization around that point.\n",
        "\n"
      ]
    },
    {
      "cell_type": "code",
      "metadata": {
        "id": "mhgrO1o8ae9t",
        "colab_type": "code",
        "colab": {}
      },
      "source": [
        "# this function will generate model based on hyper parameters inputs\n",
        "def create_model_1(num_layers, num_filters, filter_size, pool_size, EMBEDDING_DIM, batch):\n",
        "  # building the model\n",
        "  model = Sequential()\n",
        "    \n",
        "  # adding first the embedding layer\n",
        "  embedding_layer = Embedding(input_dim=vocab_size, output_dim=EMBEDDING_DIM,  input_length=SEQUENCE_LENGTH)\n",
        "#   embedding_layer = Embedding(input_dim=vocab_size, output_dim=EMBEDDING_DIM,  input_length=SEQUENCE_LENGTH, weights=[embedding_matrix], trainable=False )\n",
        "\n",
        "  model.add(embedding_layer)\n",
        "\n",
        "  # adding sets of (conv_layer, max_pooling, dropout) as much as num_layers says\n",
        "  for i in range(num_layers):\n",
        "    \n",
        "    # conv layer\n",
        "    model.add(Conv1D(filters=num_filters, kernel_size=filter_size, activation='relu'))\n",
        "\n",
        "    \n",
        "    # dropout layer\n",
        "#     model.add(SpatialDropout1D(0.5))\n",
        "    model.add(Dropout(0.5))\n",
        "\n",
        "    \n",
        "    # max pooling\n",
        "    if i == num_layers-1:\n",
        "        model.add(GlobalMaxPooling1D())\n",
        "    else:\n",
        "    \n",
        "      model.add(MaxPooling1D(pool_size=pool_size))\n",
        "    \n",
        "    # dropout layer\n",
        "    model.add(Dropout(0.5))\n",
        "    \n",
        "  # last, soft max with 20 classes\n",
        "  model.add(Dense(20, activation='softmax'))\n",
        "\n",
        "  model.compile(optimizer='adam', loss='categorical_crossentropy', metrics=['acc'])\n",
        "  \n",
        "  return model\n"
      ],
      "execution_count": 0,
      "outputs": []
    },
    {
      "cell_type": "code",
      "metadata": {
        "id": "LfDnjIySWciw",
        "colab_type": "code",
        "colab": {}
      },
      "source": [
        "# early stoping callback\n",
        "es = EarlyStopping(monitor='val_acc', min_delta=0.0001, patience=10, verbose=1, mode='max', restore_best_weights=True)"
      ],
      "execution_count": 0,
      "outputs": []
    },
    {
      "cell_type": "markdown",
      "metadata": {
        "id": "WXInSNdEBm15",
        "colab_type": "text"
      },
      "source": [
        "### batch size"
      ]
    },
    {
      "cell_type": "code",
      "metadata": {
        "id": "T0z2BFyuBrIJ",
        "colab_type": "code",
        "outputId": "76d04c6a-b5ce-4ac0-8824-de2088c3db82",
        "colab": {
          "base_uri": "https://localhost:8080/",
          "height": 187
        }
      },
      "source": [
        "# fixed parameters\n",
        "num_layers = 1\n",
        "num_filters = 128\n",
        "filter_size = 15\n",
        "pool_size = 3\n",
        "EMBEDDING_DIM = 100\n",
        "\n",
        "# changed parameter\n",
        "batch_vec = [32, 64, 128, 256, 512]\n",
        "\n",
        "score=[]\n",
        "for batch in batch_vec:\n",
        "  model = create_model_1(num_layers, num_filters, filter_size, pool_size, EMBEDDING_DIM, batch)\n",
        "\n",
        "  # fitting the model\n",
        "  history = model.fit(X_train, y_train_d,\n",
        "                    batch_size=batch,\n",
        "                    epochs=30,\n",
        "                    verbose=0,\n",
        "                    callbacks=[es],\n",
        "                    validation_split=0.2)\n",
        "\n",
        "\n",
        "  score.append(np.max(history.history['val_acc']))\n",
        "  \n",
        "best_batch_size = batch_vec[np.where(score==np.max(score))[0][0]]"
      ],
      "execution_count": 0,
      "outputs": [
        {
          "output_type": "stream",
          "text": [
            "Restoring model weights from the end of the best epoch\n",
            "Epoch 00011: early stopping\n",
            "Restoring model weights from the end of the best epoch\n",
            "Epoch 00011: early stopping\n",
            "Restoring model weights from the end of the best epoch\n",
            "Epoch 00011: early stopping\n",
            "Restoring model weights from the end of the best epoch\n",
            "Epoch 00011: early stopping\n",
            "Restoring model weights from the end of the best epoch\n",
            "Epoch 00011: early stopping\n"
          ],
          "name": "stdout"
        }
      ]
    },
    {
      "cell_type": "code",
      "metadata": {
        "id": "_hSxUg5FELOX",
        "colab_type": "code",
        "outputId": "e38be862-e5b4-4a11-d77a-1eda149f1aa3",
        "colab": {
          "base_uri": "https://localhost:8080/",
          "height": 318
        }
      },
      "source": [
        "plt.plot(batch_vec, score,'o');\n",
        "plt.xlabel('batch_size');\n",
        "plt.title('val acc vs. batch_size')\n"
      ],
      "execution_count": 0,
      "outputs": [
        {
          "output_type": "execute_result",
          "data": {
            "text/plain": [
              "Text(0.5, 1.0, 'val acc vs. batch_size')"
            ]
          },
          "metadata": {
            "tags": []
          },
          "execution_count": 68
        },
        {
          "output_type": "display_data",
          "data": {
            "image/png": "[encoded data removed]",
            "text/plain": [
              "<Figure size 432x288 with 1 Axes>"
            ]
          },
          "metadata": {
            "tags": []
          }
        }
      ]
    },
    {
      "cell_type": "markdown",
      "metadata": {
        "id": "oeStKm2YF4I6",
        "colab_type": "text"
      },
      "source": [
        "### num filters"
      ]
    },
    {
      "cell_type": "code",
      "metadata": {
        "id": "gYBp8eSVF35r",
        "colab_type": "code",
        "outputId": "2ca9aff7-d917-44a4-f612-e5fc5a6a568a",
        "colab": {
          "base_uri": "https://localhost:8080/",
          "height": 187
        }
      },
      "source": [
        "# fixed parameters\n",
        "num_layers = 1\n",
        "batch=64\n",
        "filter_size = 15\n",
        "pool_size = 5\n",
        "EMBEDDING_DIM = 100\n",
        "\n",
        "# changed parameter\n",
        "num_filters_vec = [50, 80, 100, 120,  150]\n",
        "\n",
        "score=[]\n",
        "for num_filters in num_filters_vec:\n",
        "  model = create_model_1(num_layers, num_filters, filter_size, pool_size, EMBEDDING_DIM, batch)\n",
        "  \n",
        "\n",
        "  # fitting the model\n",
        "  history = model.fit(X_train, y_train_d,\n",
        "                    batch_size=batch,\n",
        "                    epochs=20,\n",
        "                    verbose=0,\n",
        "                    callbacks=[es],\n",
        "                    validation_split=0.2)\n",
        "\n",
        "\n",
        "  score.append(np.max(history.history['val_acc']))\n",
        "  \n",
        "best_num_filters = num_filters_vec[np.where(score==np.max(score))[0][0]]"
      ],
      "execution_count": 0,
      "outputs": [
        {
          "output_type": "stream",
          "text": [
            "Restoring model weights from the end of the best epoch\n",
            "Epoch 00011: early stopping\n",
            "Restoring model weights from the end of the best epoch\n",
            "Epoch 00011: early stopping\n",
            "Restoring model weights from the end of the best epoch\n",
            "Epoch 00011: early stopping\n",
            "Restoring model weights from the end of the best epoch\n",
            "Epoch 00011: early stopping\n",
            "Restoring model weights from the end of the best epoch\n",
            "Epoch 00011: early stopping\n"
          ],
          "name": "stdout"
        }
      ]
    },
    {
      "cell_type": "code",
      "metadata": {
        "id": "gOLVPw81GXYM",
        "colab_type": "code",
        "outputId": "3354d4f2-7803-450a-a85a-460d277c4ad1",
        "colab": {
          "base_uri": "https://localhost:8080/",
          "height": 318
        }
      },
      "source": [
        "plt.plot(num_filters_vec, score,'o');\n",
        "plt.xlabel('num_filters');\n",
        "plt.title('val acc vs. num_filters');\n",
        "\n",
        "print('num filters: ', best_num_filters)"
      ],
      "execution_count": 0,
      "outputs": [
        {
          "output_type": "stream",
          "text": [
            "num filters:  150\n"
          ],
          "name": "stdout"
        },
        {
          "output_type": "display_data",
          "data": {
            "image/png": "[encoded data removed]",
            "text/plain": [
              "<Figure size 432x288 with 1 Axes>"
            ]
          },
          "metadata": {
            "tags": []
          }
        }
      ]
    },
    {
      "cell_type": "markdown",
      "metadata": {
        "id": "PNXlPjsSGxxi",
        "colab_type": "text"
      },
      "source": [
        "## filter size"
      ]
    },
    {
      "cell_type": "code",
      "metadata": {
        "id": "FscybG26GziB",
        "colab_type": "code",
        "outputId": "c2ea41e9-3a40-45cf-c945-9a8835c331f7",
        "colab": {
          "base_uri": "https://localhost:8080/",
          "height": 187
        }
      },
      "source": [
        "# fixed parameters\n",
        "num_layers = 1\n",
        "batch=64\n",
        "num_filters = 120\n",
        "pool_size = 5\n",
        "EMBEDDING_DIM = 100\n",
        "\n",
        "# changed parameter\n",
        "filters_size_vec = [3, 5, 10, 20, 30]\n",
        "\n",
        "score=[]\n",
        "for filter_size in filters_size_vec:\n",
        "  model = create_model_1(num_layers, num_filters, filter_size, pool_size, EMBEDDING_DIM, batch)\n",
        "  \n",
        "\n",
        "  # fitting the model\n",
        "  history = model.fit(X_train, y_train_d,\n",
        "                    batch_size=batch,\n",
        "                    epochs=20,\n",
        "                    verbose=0,\n",
        "                    callbacks=[es],\n",
        "                    validation_split=0.2)\n",
        "\n",
        "\n",
        "  score.append(np.max(history.history['val_acc']))\n",
        "\n",
        "best_filter_size = filters_size_vec[np.where(score==np.max(score))[0][0]]  "
      ],
      "execution_count": 0,
      "outputs": [
        {
          "output_type": "stream",
          "text": [
            "Restoring model weights from the end of the best epoch\n",
            "Epoch 00011: early stopping\n",
            "Restoring model weights from the end of the best epoch\n",
            "Epoch 00011: early stopping\n",
            "Restoring model weights from the end of the best epoch\n",
            "Epoch 00011: early stopping\n",
            "Restoring model weights from the end of the best epoch\n",
            "Epoch 00011: early stopping\n",
            "Restoring model weights from the end of the best epoch\n",
            "Epoch 00011: early stopping\n"
          ],
          "name": "stdout"
        }
      ]
    },
    {
      "cell_type": "code",
      "metadata": {
        "id": "i7GBtJ8fId2U",
        "colab_type": "code",
        "outputId": "314b8276-bf0d-48db-a80c-a5a82c8b9a3d",
        "colab": {
          "base_uri": "https://localhost:8080/",
          "height": 318
        }
      },
      "source": [
        "plt.plot(filters_size_vec, score,'o');\n",
        "plt.xlabel('filter_size');\n",
        "plt.title('val acc vs. filter_size');\n",
        "print('filter_size: ', best_filter_size)"
      ],
      "execution_count": 0,
      "outputs": [
        {
          "output_type": "stream",
          "text": [
            "filter_size:  10\n"
          ],
          "name": "stdout"
        },
        {
          "output_type": "display_data",
          "data": {
            "image/png": "[encoded data removed]",
            "text/plain": [
              "<Figure size 432x288 with 1 Axes>"
            ]
          },
          "metadata": {
            "tags": []
          }
        }
      ]
    },
    {
      "cell_type": "markdown",
      "metadata": {
        "id": "Ds093fMNIlZt",
        "colab_type": "text"
      },
      "source": [
        "## EMBEDDING_DIM"
      ]
    },
    {
      "cell_type": "code",
      "metadata": {
        "id": "FCLKO5_gIoXo",
        "colab_type": "code",
        "colab": {}
      },
      "source": [
        "# fixed parameters\n",
        "num_layers = 1\n",
        "batch=64\n",
        "num_filters = 120\n",
        "pool_size = 5\n",
        "filter_size = 10\n",
        "\n",
        "# changed parameter\n",
        "EMBEDDING_DIM_vec = [100, 200, 300, 400, 500]\n",
        "\n",
        "score=[]\n",
        "for EMBEDDING_DIM in EMBEDDING_DIM_vec, ncols=100:\n",
        "  \n",
        "  model = create_model_1(num_layers, num_filters, filter_size, pool_size, EMBEDDING_DIM, batch)\n",
        "\n",
        "  # fitting the model\n",
        "  history = model.fit(X_train, y_train_d,\n",
        "                    batch_size=batch,\n",
        "                    epochs=20,\n",
        "                    verbose=0,\n",
        "                    callbacks=[es],\n",
        "                    validation_split=0.2)\n",
        "\n",
        "\n",
        "  score.append(np.max(history.history['val_acc']))\n",
        "\n",
        "best_EMBEDDING_DIM = EMBEDDING_DIM_vec[np.where(score==np.max(score))[0][0]]  "
      ],
      "execution_count": 0,
      "outputs": []
    },
    {
      "cell_type": "code",
      "metadata": {
        "id": "tpY9rNAXI9Hw",
        "colab_type": "code",
        "outputId": "e8a63868-e301-4648-94b3-1db102c547a6",
        "colab": {
          "base_uri": "https://localhost:8080/",
          "height": 318
        }
      },
      "source": [
        "plt.plot(EMBEDDING_DIM_vec, score,'o');\n",
        "plt.xlabel('EMBEDDING_DIM');\n",
        "plt.title('val acc vs. EMBEDDING_DIM');\n",
        "print('best EMBEDDING_DIM: ', best_EMBEDDING_DIM)"
      ],
      "execution_count": 0,
      "outputs": [
        {
          "output_type": "stream",
          "text": [
            "best EMBEDDING_DIM:  400\n"
          ],
          "name": "stdout"
        },
        {
          "output_type": "display_data",
          "data": {
            "image/png": "[encoded data removed]",
            "text/plain": [
              "<Figure size 432x288 with 1 Axes>"
            ]
          },
          "metadata": {
            "tags": []
          }
        }
      ]
    },
    {
      "cell_type": "code",
      "metadata": {
        "id": "cquoccl3ZlqG",
        "colab_type": "code",
        "colab": {}
      },
      "source": [
        "# create \"black box\" function for baesian optimization\n",
        "# it takes all parameters i want to fine-tune, build a model, train and return the score.\n",
        "# baesian optimization will maximize that score\n",
        "\n",
        "def create_model_2(num_layers, num_filters, filter_size, pool_size, EMBEDDING_DIM, batch):  \n",
        "  \n",
        "  \n",
        "  num_layers = int(num_layers)\n",
        "  num_filters = int(num_filters)\n",
        "  filter_size = int(filter_size)\n",
        "  pool_size = int(pool_size)\n",
        "  EMBEDDING_DIM = int(EMBEDDING_DIM)\n",
        "  batch = int(batch)\n",
        "  \n",
        "  model = create_model_1(num_layers, num_filters, filter_size, pool_size, EMBEDDING_DIM, batch)\n",
        "\n",
        "  es = EarlyStopping(monitor='val_acc', min_delta=0.0001, patience=3, verbose=1, mode='max', restore_best_weights=True)\n",
        "\n",
        "\n",
        "  # fitting the model\n",
        "  history = model.fit(X_train, y_train_d,\n",
        "                    batch_size=batch,\n",
        "                    epochs=20,\n",
        "                    verbose=0,\n",
        "                    callbacks=[es],\n",
        "                    validation_split=0.2)\n",
        "\n",
        "\n",
        "  score = np.max(history.history['val_acc'])\n",
        "\n",
        "  return score"
      ],
      "execution_count": 0,
      "outputs": []
    },
    {
      "cell_type": "markdown",
      "metadata": {
        "id": "DWi4xEIFW7Ks",
        "colab_type": "text"
      },
      "source": [
        "## Bayesian optimization\n",
        "\n",
        "based on the working point i'll fine tune it using Bayesian optimization search\n",
        "\n",
        "the parameters space i'll define around the working point\n",
        "\n",
        "the bayesian process should find parameters that maximize the accuracy"
      ]
    },
    {
      "cell_type": "code",
      "metadata": {
        "id": "JR5WUo62KFxw",
        "colab_type": "code",
        "colab": {}
      },
      "source": [
        "# this is the space to search in\n",
        "\n",
        "param_space = {'num_layers':    (1, 1),\n",
        "              'num_filters':    (100, 300),\n",
        "               'filter_size':   (5,30),\n",
        "               'pool_size':     (3, 3),\n",
        "               'EMBEDDING_DIM': (100, 300),\n",
        "               'batch':         (30, 150)}"
      ],
      "execution_count": 0,
      "outputs": []
    },
    {
      "cell_type": "code",
      "metadata": {
        "id": "3IsiSQ4fLtz2",
        "colab_type": "code",
        "outputId": "cf7a6e5a-e9f5-4993-bed1-603541284fb8",
        "colab": {
          "base_uri": "https://localhost:8080/",
          "height": 1000
        }
      },
      "source": [
        "optimizer = BayesianOptimization(\n",
        "    f=create_model_2,\n",
        "    pbounds=param_space,\n",
        "    random_state=0)\n",
        "\n",
        "optimizer.maximize(init_points=30, n_iter=10)"
      ],
      "execution_count": 0,
      "outputs": [
        {
          "output_type": "stream",
          "text": [
            "|   iter    |  target   | EMBEDD... |   batch   | filter... | num_fi... | num_la... | pool_size |\n",
            "-------------------------------------------------------------------------------------------------\n",
            "Restoring model weights from the end of the best epoch\n",
            "Epoch 00004: early stopping\n",
            "| \u001b[0m 1       \u001b[0m | \u001b[0m 0.8848  \u001b[0m | \u001b[0m 209.8   \u001b[0m | \u001b[0m 115.8   \u001b[0m | \u001b[0m 20.07   \u001b[0m | \u001b[0m 209.0   \u001b[0m | \u001b[0m 1.0     \u001b[0m | \u001b[0m 3.0     \u001b[0m |\n",
            "Restoring model weights from the end of the best epoch\n",
            "Epoch 00004: early stopping\n",
            "| \u001b[0m 2       \u001b[0m | \u001b[0m 0.8792  \u001b[0m | \u001b[0m 187.5   \u001b[0m | \u001b[0m 137.0   \u001b[0m | \u001b[0m 29.09   \u001b[0m | \u001b[0m 176.7   \u001b[0m | \u001b[0m 1.0     \u001b[0m | \u001b[0m 3.0     \u001b[0m |\n",
            "Restoring model weights from the end of the best epoch\n",
            "Epoch 00004: early stopping\n",
            "| \u001b[0m 3       \u001b[0m | \u001b[0m 0.8513  \u001b[0m | \u001b[0m 213.6   \u001b[0m | \u001b[0m 141.1   \u001b[0m | \u001b[0m 6.776   \u001b[0m | \u001b[0m 117.4   \u001b[0m | \u001b[0m 1.0     \u001b[0m | \u001b[0m 3.0     \u001b[0m |\n",
            "Restoring model weights from the end of the best epoch\n",
            "Epoch 00004: early stopping\n",
            "| \u001b[0m 4       \u001b[0m | \u001b[0m 0.8838  \u001b[0m | \u001b[0m 255.6   \u001b[0m | \u001b[0m 134.4   \u001b[0m | \u001b[0m 29.47   \u001b[0m | \u001b[0m 259.8   \u001b[0m | \u001b[0m 1.0     \u001b[0m | \u001b[0m 3.0     \u001b[0m |\n",
            "Restoring model weights from the end of the best epoch\n",
            "Epoch 00004: early stopping\n",
            "| \u001b[0m 5       \u001b[0m | \u001b[0m 0.8762  \u001b[0m | \u001b[0m 123.7   \u001b[0m | \u001b[0m 106.8   \u001b[0m | \u001b[0m 8.584   \u001b[0m | \u001b[0m 288.9   \u001b[0m | \u001b[0m 1.0     \u001b[0m | \u001b[0m 3.0     \u001b[0m |\n",
            "Restoring model weights from the end of the best epoch\n",
            "Epoch 00004: early stopping\n",
            "| \u001b[0m 6       \u001b[0m | \u001b[0m 0.8789  \u001b[0m | \u001b[0m 152.9   \u001b[0m | \u001b[0m 122.9   \u001b[0m | \u001b[0m 16.4    \u001b[0m | \u001b[0m 213.7   \u001b[0m | \u001b[0m 1.0     \u001b[0m | \u001b[0m 3.0     \u001b[0m |\n",
            "Restoring model weights from the end of the best epoch\n",
            "Epoch 00004: early stopping\n",
            "| \u001b[95m 7       \u001b[0m | \u001b[95m 0.8875  \u001b[0m | \u001b[95m 222.4   \u001b[0m | \u001b[95m 104.0   \u001b[0m | \u001b[95m 28.59   \u001b[0m | \u001b[95m 236.4   \u001b[0m | \u001b[95m 1.0     \u001b[0m | \u001b[95m 3.0     \u001b[0m |\n",
            "Restoring model weights from the end of the best epoch\n",
            "Epoch 00004: early stopping\n",
            "| \u001b[95m 8       \u001b[0m | \u001b[95m 0.8908  \u001b[0m | \u001b[95m 239.5   \u001b[0m | \u001b[95m 37.23   \u001b[0m | \u001b[95m 21.67   \u001b[0m | \u001b[95m 234.1   \u001b[0m | \u001b[95m 1.0     \u001b[0m | \u001b[95m 3.0     \u001b[0m |\n",
            "Restoring model weights from the end of the best epoch\n",
            "Epoch 00004: early stopping\n",
            "| \u001b[0m 9       \u001b[0m | \u001b[0m 0.8855  \u001b[0m | \u001b[0m 163.1   \u001b[0m | \u001b[0m 73.65   \u001b[0m | \u001b[0m 19.25   \u001b[0m | \u001b[0m 187.7   \u001b[0m | \u001b[0m 1.0     \u001b[0m | \u001b[0m 3.0     \u001b[0m |\n",
            "Restoring model weights from the end of the best epoch\n",
            "Epoch 00004: early stopping\n",
            "| \u001b[0m 10      \u001b[0m | \u001b[0m 0.8858  \u001b[0m | \u001b[0m 141.8   \u001b[0m | \u001b[0m 49.36   \u001b[0m | \u001b[0m 21.33   \u001b[0m | \u001b[0m 150.7   \u001b[0m | \u001b[0m 1.0     \u001b[0m | \u001b[0m 3.0     \u001b[0m |\n",
            "Restoring model weights from the end of the best epoch\n",
            "Epoch 00004: early stopping\n",
            "| \u001b[0m 11      \u001b[0m | \u001b[0m 0.8779  \u001b[0m | \u001b[0m 131.8   \u001b[0m | \u001b[0m 43.25   \u001b[0m | \u001b[0m 21.41   \u001b[0m | \u001b[0m 127.6   \u001b[0m | \u001b[0m 1.0     \u001b[0m | \u001b[0m 3.0     \u001b[0m |\n",
            "Restoring model weights from the end of the best epoch\n",
            "Epoch 00004: early stopping\n",
            "| \u001b[95m 12      \u001b[0m | \u001b[95m 0.8948  \u001b[0m | \u001b[95m 264.2   \u001b[0m | \u001b[95m 41.65   \u001b[0m | \u001b[95m 25.95   \u001b[0m | \u001b[95m 119.2   \u001b[0m | \u001b[95m 1.0     \u001b[0m | \u001b[95m 3.0     \u001b[0m |\n",
            "Restoring model weights from the end of the best epoch\n",
            "Epoch 00004: early stopping\n",
            "| \u001b[0m 13      \u001b[0m | \u001b[0m 0.8792  \u001b[0m | \u001b[0m 295.4   \u001b[0m | \u001b[0m 102.6   \u001b[0m | \u001b[0m 23.48   \u001b[0m | \u001b[0m 107.8   \u001b[0m | \u001b[0m 1.0     \u001b[0m | \u001b[0m 3.0     \u001b[0m |\n",
            "Restoring model weights from the end of the best epoch\n",
            "Epoch 00004: early stopping\n",
            "| \u001b[0m 14      \u001b[0m | \u001b[0m 0.8858  \u001b[0m | \u001b[0m 159.2   \u001b[0m | \u001b[0m 44.25   \u001b[0m | \u001b[0m 12.95   \u001b[0m | \u001b[0m 182.9   \u001b[0m | \u001b[0m 1.0     \u001b[0m | \u001b[0m 3.0     \u001b[0m |\n",
            "Restoring model weights from the end of the best epoch\n",
            "Epoch 00004: early stopping\n",
            "| \u001b[0m 15      \u001b[0m | \u001b[0m 0.8901  \u001b[0m | \u001b[0m 213.3   \u001b[0m | \u001b[0m 61.85   \u001b[0m | \u001b[0m 18.08   \u001b[0m | \u001b[0m 118.8   \u001b[0m | \u001b[0m 1.0     \u001b[0m | \u001b[0m 3.0     \u001b[0m |\n",
            "Restoring model weights from the end of the best epoch\n",
            "Epoch 00004: early stopping\n",
            "| \u001b[0m 16      \u001b[0m | \u001b[0m 0.8769  \u001b[0m | \u001b[0m 163.7   \u001b[0m | \u001b[0m 110.1   \u001b[0m | \u001b[0m 8.295   \u001b[0m | \u001b[0m 243.3   \u001b[0m | \u001b[0m 1.0     \u001b[0m | \u001b[0m 3.0     \u001b[0m |\n",
            "Restoring model weights from the end of the best epoch\n",
            "Epoch 00004: early stopping\n",
            "| \u001b[0m 17      \u001b[0m | \u001b[0m 0.8835  \u001b[0m | \u001b[0m 217.3   \u001b[0m | \u001b[0m 32.41   \u001b[0m | \u001b[0m 25.72   \u001b[0m | \u001b[0m 100.9   \u001b[0m | \u001b[0m 1.0     \u001b[0m | \u001b[0m 3.0     \u001b[0m |\n",
            "Restoring model weights from the end of the best epoch\n",
            "Epoch 00004: early stopping\n",
            "| \u001b[0m 18      \u001b[0m | \u001b[0m 0.8842  \u001b[0m | \u001b[0m 247.0   \u001b[0m | \u001b[0m 145.5   \u001b[0m | \u001b[0m 11.22   \u001b[0m | \u001b[0m 215.2   \u001b[0m | \u001b[0m 1.0     \u001b[0m | \u001b[0m 3.0     \u001b[0m |\n",
            "Restoring model weights from the end of the best epoch\n",
            "Epoch 00004: early stopping\n",
            "| \u001b[0m 19      \u001b[0m | \u001b[0m 0.8789  \u001b[0m | \u001b[0m 144.6   \u001b[0m | \u001b[0m 144.3   \u001b[0m | \u001b[0m 16.18   \u001b[0m | \u001b[0m 269.3   \u001b[0m | \u001b[0m 1.0     \u001b[0m | \u001b[0m 3.0     \u001b[0m |\n",
            "Restoring model weights from the end of the best epoch\n",
            "Epoch 00004: early stopping\n",
            "| \u001b[0m 20      \u001b[0m | \u001b[0m 0.8868  \u001b[0m | \u001b[0m 262.8   \u001b[0m | \u001b[0m 77.58   \u001b[0m | \u001b[0m 27.03   \u001b[0m | \u001b[0m 216.3   \u001b[0m | \u001b[0m 1.0     \u001b[0m | \u001b[0m 3.0     \u001b[0m |\n",
            "Restoring model weights from the end of the best epoch\n",
            "Epoch 00004: early stopping\n",
            "| \u001b[0m 21      \u001b[0m | \u001b[0m 0.8845  \u001b[0m | \u001b[0m 245.1   \u001b[0m | \u001b[0m 90.16   \u001b[0m | \u001b[0m 28.9    \u001b[0m | \u001b[0m 228.8   \u001b[0m | \u001b[0m 1.0     \u001b[0m | \u001b[0m 3.0     \u001b[0m |\n",
            "Restoring model weights from the end of the best epoch\n",
            "Epoch 00004: early stopping\n",
            "| \u001b[0m 22      \u001b[0m | \u001b[0m 0.8795  \u001b[0m | \u001b[0m 103.8   \u001b[0m | \u001b[0m 66.19   \u001b[0m | \u001b[0m 21.5    \u001b[0m | \u001b[0m 158.0   \u001b[0m | \u001b[0m 1.0     \u001b[0m | \u001b[0m 3.0     \u001b[0m |\n",
            "Restoring model weights from the end of the best epoch\n",
            "Epoch 00004: early stopping\n",
            "| \u001b[0m 23      \u001b[0m | \u001b[0m 0.8872  \u001b[0m | \u001b[0m 127.1   \u001b[0m | \u001b[0m 65.79   \u001b[0m | \u001b[0m 19.25   \u001b[0m | \u001b[0m 218.2   \u001b[0m | \u001b[0m 1.0     \u001b[0m | \u001b[0m 3.0     \u001b[0m |\n",
            "Restoring model weights from the end of the best epoch\n",
            "Epoch 00004: early stopping\n",
            "| \u001b[0m 24      \u001b[0m | \u001b[0m 0.8862  \u001b[0m | \u001b[0m 230.4   \u001b[0m | \u001b[0m 81.77   \u001b[0m | \u001b[0m 27.41   \u001b[0m | \u001b[0m 173.5   \u001b[0m | \u001b[0m 1.0     \u001b[0m | \u001b[0m 3.0     \u001b[0m |\n",
            "Restoring model weights from the end of the best epoch\n",
            "Epoch 00004: early stopping\n",
            "| \u001b[0m 25      \u001b[0m | \u001b[0m 0.8799  \u001b[0m | \u001b[0m 261.2   \u001b[0m | \u001b[0m 114.5   \u001b[0m | \u001b[0m 7.506   \u001b[0m | \u001b[0m 283.9   \u001b[0m | \u001b[0m 1.0     \u001b[0m | \u001b[0m 3.0     \u001b[0m |\n",
            "Restoring model weights from the end of the best epoch\n",
            "Epoch 00004: early stopping\n",
            "| \u001b[0m 26      \u001b[0m | \u001b[0m 0.8606  \u001b[0m | \u001b[0m 129.9   \u001b[0m | \u001b[0m 134.2   \u001b[0m | \u001b[0m 9.062   \u001b[0m | \u001b[0m 223.1   \u001b[0m | \u001b[0m 1.0     \u001b[0m | \u001b[0m 3.0     \u001b[0m |\n",
            "Restoring model weights from the end of the best epoch\n",
            "Epoch 00004: early stopping\n",
            "| \u001b[0m 27      \u001b[0m | \u001b[0m 0.8842  \u001b[0m | \u001b[0m 261.5   \u001b[0m | \u001b[0m 98.29   \u001b[0m | \u001b[0m 15.18   \u001b[0m | \u001b[0m 113.8   \u001b[0m | \u001b[0m 1.0     \u001b[0m | \u001b[0m 3.0     \u001b[0m |\n",
            "Restoring model weights from the end of the best epoch\n",
            "Epoch 00004: early stopping\n",
            "| \u001b[0m 28      \u001b[0m | \u001b[0m 0.8888  \u001b[0m | \u001b[0m 244.4   \u001b[0m | \u001b[0m 134.0   \u001b[0m | \u001b[0m 29.39   \u001b[0m | \u001b[0m 271.2   \u001b[0m | \u001b[0m 1.0     \u001b[0m | \u001b[0m 3.0     \u001b[0m |\n",
            "Restoring model weights from the end of the best epoch\n",
            "Epoch 00004: early stopping\n",
            "| \u001b[0m 29      \u001b[0m | \u001b[0m 0.8895  \u001b[0m | \u001b[0m 246.0   \u001b[0m | \u001b[0m 50.6    \u001b[0m | \u001b[0m 18.03   \u001b[0m | \u001b[0m 110.9   \u001b[0m | \u001b[0m 1.0     \u001b[0m | \u001b[0m 3.0     \u001b[0m |\n",
            "Restoring model weights from the end of the best epoch\n",
            "Epoch 00004: early stopping\n",
            "| \u001b[95m 30      \u001b[0m | \u001b[95m 0.8964  \u001b[0m | \u001b[95m 258.7   \u001b[0m | \u001b[95m 56.87   \u001b[0m | \u001b[95m 13.63   \u001b[0m | \u001b[95m 285.6   \u001b[0m | \u001b[95m 1.0     \u001b[0m | \u001b[95m 3.0     \u001b[0m |\n",
            "Restoring model weights from the end of the best epoch\n",
            "Epoch 00004: early stopping\n",
            "| \u001b[0m 31      \u001b[0m | \u001b[0m 0.8885  \u001b[0m | \u001b[0m 101.5   \u001b[0m | \u001b[0m 33.96   \u001b[0m | \u001b[0m 29.05   \u001b[0m | \u001b[0m 298.7   \u001b[0m | \u001b[0m 1.0     \u001b[0m | \u001b[0m 3.0     \u001b[0m |\n",
            "Restoring model weights from the end of the best epoch\n",
            "Epoch 00004: early stopping\n",
            "| \u001b[0m 32      \u001b[0m | \u001b[0m 0.8835  \u001b[0m | \u001b[0m 299.2   \u001b[0m | \u001b[0m 32.86   \u001b[0m | \u001b[0m 28.41   \u001b[0m | \u001b[0m 295.2   \u001b[0m | \u001b[0m 1.0     \u001b[0m | \u001b[0m 3.0     \u001b[0m |\n",
            "Restoring model weights from the end of the best epoch\n",
            "Epoch 00004: early stopping\n",
            "| \u001b[0m 33      \u001b[0m | \u001b[0m 0.8828  \u001b[0m | \u001b[0m 298.6   \u001b[0m | \u001b[0m 32.17   \u001b[0m | \u001b[0m 5.59    \u001b[0m | \u001b[0m 183.7   \u001b[0m | \u001b[0m 1.0     \u001b[0m | \u001b[0m 3.0     \u001b[0m |\n",
            "Restoring model weights from the end of the best epoch\n",
            "Epoch 00004: early stopping\n",
            "| \u001b[0m 34      \u001b[0m | \u001b[0m 0.8885  \u001b[0m | \u001b[0m 184.4   \u001b[0m | \u001b[0m 36.05   \u001b[0m | \u001b[0m 28.68   \u001b[0m | \u001b[0m 298.2   \u001b[0m | \u001b[0m 1.0     \u001b[0m | \u001b[0m 3.0     \u001b[0m |\n",
            "Restoring model weights from the end of the best epoch\n",
            "Epoch 00004: early stopping\n",
            "| \u001b[0m 35      \u001b[0m | \u001b[0m 0.8805  \u001b[0m | \u001b[0m 116.9   \u001b[0m | \u001b[0m 144.3   \u001b[0m | \u001b[0m 29.95   \u001b[0m | \u001b[0m 299.0   \u001b[0m | \u001b[0m 1.0     \u001b[0m | \u001b[0m 3.0     \u001b[0m |\n",
            "Restoring model weights from the end of the best epoch\n",
            "Epoch 00004: early stopping\n",
            "| \u001b[0m 36      \u001b[0m | \u001b[0m 0.8905  \u001b[0m | \u001b[0m 247.1   \u001b[0m | \u001b[0m 35.47   \u001b[0m | \u001b[0m 5.117   \u001b[0m | \u001b[0m 297.3   \u001b[0m | \u001b[0m 1.0     \u001b[0m | \u001b[0m 3.0     \u001b[0m |\n",
            "Restoring model weights from the end of the best epoch\n",
            "Epoch 00004: early stopping\n",
            "| \u001b[0m 37      \u001b[0m | \u001b[0m 0.8895  \u001b[0m | \u001b[0m 101.5   \u001b[0m | \u001b[0m 31.67   \u001b[0m | \u001b[0m 28.7    \u001b[0m | \u001b[0m 204.5   \u001b[0m | \u001b[0m 1.0     \u001b[0m | \u001b[0m 3.0     \u001b[0m |\n",
            "Restoring model weights from the end of the best epoch\n",
            "Epoch 00004: early stopping\n",
            "| \u001b[0m 38      \u001b[0m | \u001b[0m 0.8795  \u001b[0m | \u001b[0m 205.5   \u001b[0m | \u001b[0m 147.1   \u001b[0m | \u001b[0m 29.59   \u001b[0m | \u001b[0m 299.9   \u001b[0m | \u001b[0m 1.0     \u001b[0m | \u001b[0m 3.0     \u001b[0m |\n",
            "Restoring model weights from the end of the best epoch\n",
            "Epoch 00004: early stopping\n",
            "| \u001b[0m 39      \u001b[0m | \u001b[0m 0.8805  \u001b[0m | \u001b[0m 102.3   \u001b[0m | \u001b[0m 83.34   \u001b[0m | \u001b[0m 29.94   \u001b[0m | \u001b[0m 282.2   \u001b[0m | \u001b[0m 1.0     \u001b[0m | \u001b[0m 3.0     \u001b[0m |\n",
            "Restoring model weights from the end of the best epoch\n",
            "Epoch 00004: early stopping\n",
            "| \u001b[0m 40      \u001b[0m | \u001b[0m 0.8818  \u001b[0m | \u001b[0m 295.3   \u001b[0m | \u001b[0m 32.05   \u001b[0m | \u001b[0m 29.87   \u001b[0m | \u001b[0m 102.9   \u001b[0m | \u001b[0m 1.0     \u001b[0m | \u001b[0m 3.0     \u001b[0m |\n",
            "=================================================================================================\n"
          ],
          "name": "stdout"
        }
      ]
    },
    {
      "cell_type": "code",
      "metadata": {
        "id": "7CUqE7QnaM0w",
        "colab_type": "code",
        "outputId": "faa1bc91-2e21-4a4a-fead-2dc18343ab8e",
        "colab": {
          "base_uri": "https://localhost:8080/",
          "height": 34
        }
      },
      "source": [
        "print('best score is:', optimizer.max['target'])"
      ],
      "execution_count": 0,
      "outputs": [
        {
          "output_type": "stream",
          "text": [
            "best score is: 0.896448717020771\n"
          ],
          "name": "stdout"
        }
      ]
    },
    {
      "cell_type": "markdown",
      "metadata": {
        "id": "1-W1U8KSYYS_",
        "colab_type": "text"
      },
      "source": [
        "### testing best params on test set"
      ]
    },
    {
      "cell_type": "code",
      "metadata": {
        "id": "ykusO3uM6LEv",
        "colab_type": "code",
        "outputId": "4b79ad0e-a1cb-4dc8-ae86-60f7a85cb834",
        "colab": {
          "base_uri": "https://localhost:8080/",
          "height": 119
        }
      },
      "source": [
        "optimizer.max['params']\n",
        "\n",
        "# {'EMBEDDING_DIM' : 260, 'batch': 57, 'filter_size': 14, 'num_filters': 285, 'num_layers': 1,'pool_size': 3}"
      ],
      "execution_count": 0,
      "outputs": [
        {
          "output_type": "execute_result",
          "data": {
            "text/plain": [
              "{'EMBEDDING_DIM': 258.7395406714841,\n",
              " 'batch': 56.87096256724561,\n",
              " 'filter_size': 13.633792017422568,\n",
              " 'num_filters': 285.6162586931182,\n",
              " 'num_layers': 1.0,\n",
              " 'pool_size': 3.0}"
            ]
          },
          "metadata": {
            "tags": []
          },
          "execution_count": 82
        }
      ]
    },
    {
      "cell_type": "code",
      "metadata": {
        "id": "a1HlRndFU0-q",
        "colab_type": "code",
        "colab": {}
      },
      "source": [
        "# taking the best iteration\n",
        "\n",
        "best_params = optimizer.max['params']\n",
        "\n",
        "num_layers = int(best_params['num_layers'])\n",
        "num_filters = int(best_params['num_filters'])\n",
        "filter_size = int(best_params['filter_size'])\n",
        "pool_size = int(best_params['pool_size'])\n",
        "EMBEDDING_DIM = int(best_params['EMBEDDING_DIM'])\n",
        "batch = int(best_params['batch'])\n",
        "\n",
        "model = create_model_1(num_layers, num_filters, filter_size, pool_size, EMBEDDING_DIM, batch)\n",
        "init_weights = model.get_weights()"
      ],
      "execution_count": 0,
      "outputs": []
    },
    {
      "cell_type": "code",
      "metadata": {
        "id": "ci9b864K2CF8",
        "colab_type": "code",
        "outputId": "bc7a3807-f826-4b19-fba0-700df1f5faeb",
        "colab": {
          "base_uri": "https://localhost:8080/",
          "height": 1000
        }
      },
      "source": [
        "# i'll run the training again, with different random_states, and predict the test set\n",
        "# eventually i'll take the mode of all predictions\n",
        "\n",
        "y_pred=[] \n",
        "score=[]\n",
        "es = EarlyStopping(monitor='val_acc', min_delta=0.0001, patience=5, verbose=1, mode='max', restore_best_weights=True)\n",
        "\n",
        "for rand_st in range(3):\n",
        "  \n",
        "  K=5\n",
        "  SKF = StratifiedKFold(n_splits=K, random_state=rand_st)  \n",
        "  \n",
        "  for train_inds, test_inds in SKF.split(X_train, y_train):\n",
        "    \n",
        "    model.set_weights(init_weights)\n",
        "\n",
        "    # fitting the model\n",
        "    history = model.fit(X_train[train_inds,:], y_train_d[train_inds,:],\n",
        "                      batch_size=batch,\n",
        "                      epochs=30,\n",
        "                      verbose=1,\n",
        "                      callbacks=[es],\n",
        "                      validation_data=(X_train[test_inds,:], y_train_d[test_inds,:]))\n",
        "\n",
        "\n",
        "    y_pred.append(np.argmax(model.predict(X_test), axis=1))\n",
        "\n",
        "    score.append(model.evaluate(X_train[test_inds,:], y_train_d[test_inds,:])[1])\n",
        "\n",
        "    \n",
        "print(np.mean(score))\n",
        "          "
      ],
      "execution_count": 0,
      "outputs": [
        {
          "output_type": "stream",
          "text": [
            "Train on 12040 samples, validate on 3022 samples\n",
            "Epoch 1/30\n",
            "12040/12040 [==============================] - 6s 488us/step - loss: 1.9422 - acc: 0.4503 - val_loss: 1.0187 - val_acc: 0.8101\n",
            "Epoch 2/30\n",
            "12040/12040 [==============================] - 6s 482us/step - loss: 0.4433 - acc: 0.8744 - val_loss: 0.6356 - val_acc: 0.8779\n",
            "Epoch 3/30\n",
            "12040/12040 [==============================] - 6s 477us/step - loss: 0.1447 - acc: 0.9611 - val_loss: 0.5279 - val_acc: 0.8799\n",
            "Epoch 4/30\n",
            "12040/12040 [==============================] - 6s 487us/step - loss: 0.0662 - acc: 0.9866 - val_loss: 0.4705 - val_acc: 0.8842\n",
            "Epoch 5/30\n",
            "12040/12040 [==============================] - 6s 490us/step - loss: 0.0397 - acc: 0.9929 - val_loss: 0.4471 - val_acc: 0.8862\n",
            "Epoch 6/30\n",
            "12040/12040 [==============================] - 6s 484us/step - loss: 0.0261 - acc: 0.9945 - val_loss: 0.4448 - val_acc: 0.8822\n",
            "Epoch 7/30\n",
            "12040/12040 [==============================] - 6s 486us/step - loss: 0.0219 - acc: 0.9953 - val_loss: 0.4326 - val_acc: 0.8848\n",
            "Epoch 8/30\n",
            "12040/12040 [==============================] - 6s 483us/step - loss: 0.0144 - acc: 0.9979 - val_loss: 0.4341 - val_acc: 0.8858\n",
            "Epoch 9/30\n",
            "12040/12040 [==============================] - 6s 484us/step - loss: 0.0130 - acc: 0.9976 - val_loss: 0.4304 - val_acc: 0.8825\n",
            "Epoch 10/30\n",
            "12040/12040 [==============================] - 6s 476us/step - loss: 0.0111 - acc: 0.9988 - val_loss: 0.4305 - val_acc: 0.8792\n",
            "Restoring model weights from the end of the best epoch\n",
            "Epoch 00010: early stopping\n",
            "3022/3022 [==============================] - 0s 125us/step\n",
            "Train on 12045 samples, validate on 3017 samples\n",
            "Epoch 1/30\n",
            "12045/12045 [==============================] - 6s 479us/step - loss: 1.6391 - acc: 0.5163 - val_loss: 0.7994 - val_acc: 0.8389\n",
            "Epoch 2/30\n",
            "12045/12045 [==============================] - 6s 480us/step - loss: 0.3418 - acc: 0.8987 - val_loss: 0.5629 - val_acc: 0.8674\n",
            "Epoch 3/30\n",
            "12045/12045 [==============================] - 6s 481us/step - loss: 0.1207 - acc: 0.9710 - val_loss: 0.4920 - val_acc: 0.8724\n",
            "Epoch 4/30\n",
            "12045/12045 [==============================] - 6s 477us/step - loss: 0.0561 - acc: 0.9870 - val_loss: 0.4608 - val_acc: 0.8737\n",
            "Epoch 5/30\n",
            "12045/12045 [==============================] - 6s 480us/step - loss: 0.0339 - acc: 0.9934 - val_loss: 0.4493 - val_acc: 0.8754\n",
            "Epoch 6/30\n",
            "12045/12045 [==============================] - 6s 482us/step - loss: 0.0230 - acc: 0.9954 - val_loss: 0.4470 - val_acc: 0.8760\n",
            "Epoch 7/30\n",
            "12045/12045 [==============================] - 6s 482us/step - loss: 0.0179 - acc: 0.9966 - val_loss: 0.4421 - val_acc: 0.8754\n",
            "Epoch 8/30\n",
            "12045/12045 [==============================] - 6s 482us/step - loss: 0.0122 - acc: 0.9976 - val_loss: 0.4489 - val_acc: 0.8704\n",
            "Epoch 9/30\n",
            "12045/12045 [==============================] - 6s 482us/step - loss: 0.0135 - acc: 0.9978 - val_loss: 0.4539 - val_acc: 0.8721\n",
            "Epoch 10/30\n",
            "12045/12045 [==============================] - 6s 483us/step - loss: 0.0138 - acc: 0.9978 - val_loss: 0.4641 - val_acc: 0.8724\n",
            "Epoch 11/30\n",
            "12045/12045 [==============================] - 6s 483us/step - loss: 0.0078 - acc: 0.9988 - val_loss: 0.4645 - val_acc: 0.8747\n",
            "Restoring model weights from the end of the best epoch\n",
            "Epoch 00011: early stopping\n",
            "3017/3017 [==============================] - 0s 128us/step\n",
            "Train on 12049 samples, validate on 3013 samples\n",
            "Epoch 1/30\n",
            "12049/12049 [==============================] - 6s 485us/step - loss: 1.5563 - acc: 0.5372 - val_loss: 0.7705 - val_acc: 0.8317\n",
            "Epoch 2/30\n",
            "12049/12049 [==============================] - 6s 480us/step - loss: 0.3244 - acc: 0.9067 - val_loss: 0.5756 - val_acc: 0.8643\n",
            "Epoch 3/30\n",
            "12049/12049 [==============================] - 6s 481us/step - loss: 0.1094 - acc: 0.9725 - val_loss: 0.4942 - val_acc: 0.8769\n",
            "Epoch 4/30\n",
            "12049/12049 [==============================] - 6s 479us/step - loss: 0.0560 - acc: 0.9884 - val_loss: 0.4661 - val_acc: 0.8795\n",
            "Epoch 5/30\n",
            "12049/12049 [==============================] - 6s 482us/step - loss: 0.0342 - acc: 0.9923 - val_loss: 0.4513 - val_acc: 0.8792\n",
            "Epoch 6/30\n",
            "12049/12049 [==============================] - 6s 484us/step - loss: 0.0239 - acc: 0.9963 - val_loss: 0.4430 - val_acc: 0.8782\n",
            "Epoch 7/30\n",
            "12049/12049 [==============================] - 6s 483us/step - loss: 0.0188 - acc: 0.9968 - val_loss: 0.4438 - val_acc: 0.8825\n",
            "Epoch 8/30\n",
            "12049/12049 [==============================] - 6s 491us/step - loss: 0.0171 - acc: 0.9971 - val_loss: 0.4479 - val_acc: 0.8789\n",
            "Epoch 9/30\n",
            "12049/12049 [==============================] - 6s 482us/step - loss: 0.0148 - acc: 0.9982 - val_loss: 0.4465 - val_acc: 0.8782\n",
            "Epoch 10/30\n",
            "12049/12049 [==============================] - 6s 480us/step - loss: 0.0163 - acc: 0.9975 - val_loss: 0.4477 - val_acc: 0.8785\n",
            "Epoch 11/30\n",
            "12049/12049 [==============================] - 6s 488us/step - loss: 0.0134 - acc: 0.9978 - val_loss: 0.4531 - val_acc: 0.8815\n",
            "Epoch 12/30\n",
            "12049/12049 [==============================] - 6s 484us/step - loss: 0.0124 - acc: 0.9977 - val_loss: 0.4649 - val_acc: 0.8752\n",
            "Restoring model weights from the end of the best epoch\n",
            "Epoch 00012: early stopping\n",
            "3013/3013 [==============================] - 0s 127us/step\n",
            "Train on 12055 samples, validate on 3007 samples\n",
            "Epoch 1/30\n",
            "12055/12055 [==============================] - 6s 484us/step - loss: 1.5275 - acc: 0.5474 - val_loss: 0.7522 - val_acc: 0.8450\n",
            "Epoch 2/30\n",
            "12055/12055 [==============================] - 6s 487us/step - loss: 0.3154 - acc: 0.9088 - val_loss: 0.5717 - val_acc: 0.8676\n",
            "Epoch 3/30\n",
            "12055/12055 [==============================] - 6s 484us/step - loss: 0.1073 - acc: 0.9745 - val_loss: 0.4994 - val_acc: 0.8700\n",
            "Epoch 4/30\n",
            "12055/12055 [==============================] - 6s 484us/step - loss: 0.0529 - acc: 0.9886 - val_loss: 0.4635 - val_acc: 0.8823\n",
            "Epoch 5/30\n",
            "12055/12055 [==============================] - 6s 481us/step - loss: 0.0308 - acc: 0.9933 - val_loss: 0.4539 - val_acc: 0.8773\n",
            "Epoch 6/30\n",
            "12055/12055 [==============================] - 6s 485us/step - loss: 0.0211 - acc: 0.9955 - val_loss: 0.4522 - val_acc: 0.8786\n",
            "Epoch 7/30\n",
            "12055/12055 [==============================] - 6s 487us/step - loss: 0.0180 - acc: 0.9964 - val_loss: 0.4467 - val_acc: 0.8826\n",
            "Epoch 8/30\n",
            "12055/12055 [==============================] - 6s 482us/step - loss: 0.0133 - acc: 0.9981 - val_loss: 0.4467 - val_acc: 0.8816\n",
            "Epoch 9/30\n",
            "12055/12055 [==============================] - 6s 481us/step - loss: 0.0122 - acc: 0.9975 - val_loss: 0.4481 - val_acc: 0.8789\n",
            "Epoch 10/30\n",
            "12055/12055 [==============================] - 6s 482us/step - loss: 0.0102 - acc: 0.9982 - val_loss: 0.4525 - val_acc: 0.8796\n",
            "Epoch 11/30\n",
            "12055/12055 [==============================] - 6s 480us/step - loss: 0.0082 - acc: 0.9989 - val_loss: 0.4488 - val_acc: 0.8829\n",
            "Epoch 12/30\n",
            "12055/12055 [==============================] - 6s 482us/step - loss: 0.0099 - acc: 0.9980 - val_loss: 0.4634 - val_acc: 0.8799\n",
            "Epoch 13/30\n",
            "12055/12055 [==============================] - 6s 484us/step - loss: 0.0088 - acc: 0.9988 - val_loss: 0.4710 - val_acc: 0.8780\n",
            "Epoch 14/30\n",
            "12055/12055 [==============================] - 6s 481us/step - loss: 0.0089 - acc: 0.9983 - val_loss: 0.4809 - val_acc: 0.8789\n",
            "Epoch 15/30\n",
            "12055/12055 [==============================] - 6s 483us/step - loss: 0.0091 - acc: 0.9988 - val_loss: 0.4886 - val_acc: 0.8770\n",
            "Epoch 16/30\n",
            "12055/12055 [==============================] - 6s 481us/step - loss: 0.0089 - acc: 0.9988 - val_loss: 0.4887 - val_acc: 0.8760\n",
            "Restoring model weights from the end of the best epoch\n",
            "Epoch 00016: early stopping\n",
            "3007/3007 [==============================] - 0s 128us/step\n",
            "Train on 12059 samples, validate on 3003 samples\n",
            "Epoch 1/30\n",
            "12059/12059 [==============================] - 6s 480us/step - loss: 1.4486 - acc: 0.5652 - val_loss: 0.7330 - val_acc: 0.8358\n",
            "Epoch 2/30\n",
            "12059/12059 [==============================] - 6s 481us/step - loss: 0.3040 - acc: 0.9099 - val_loss: 0.5252 - val_acc: 0.8785\n",
            "Epoch 3/30\n",
            "12059/12059 [==============================] - 6s 484us/step - loss: 0.1009 - acc: 0.9737 - val_loss: 0.4557 - val_acc: 0.8818\n",
            "Epoch 4/30\n",
            "12059/12059 [==============================] - 6s 480us/step - loss: 0.0572 - acc: 0.9869 - val_loss: 0.4391 - val_acc: 0.8831\n",
            "Epoch 5/30\n",
            "12059/12059 [==============================] - 6s 482us/step - loss: 0.0347 - acc: 0.9934 - val_loss: 0.4130 - val_acc: 0.8844\n",
            "Epoch 6/30\n",
            "12059/12059 [==============================] - 6s 482us/step - loss: 0.0241 - acc: 0.9948 - val_loss: 0.4041 - val_acc: 0.8858\n",
            "Epoch 7/30\n",
            "12059/12059 [==============================] - 6s 480us/step - loss: 0.0233 - acc: 0.9960 - val_loss: 0.3984 - val_acc: 0.8871\n",
            "Epoch 8/30\n",
            "12059/12059 [==============================] - 6s 477us/step - loss: 0.0176 - acc: 0.9973 - val_loss: 0.3941 - val_acc: 0.8908\n",
            "Epoch 9/30\n",
            "12059/12059 [==============================] - 6s 484us/step - loss: 0.0165 - acc: 0.9971 - val_loss: 0.4008 - val_acc: 0.8871\n",
            "Epoch 10/30\n",
            "12059/12059 [==============================] - 6s 483us/step - loss: 0.0161 - acc: 0.9976 - val_loss: 0.4029 - val_acc: 0.8894\n",
            "Epoch 11/30\n",
            "12059/12059 [==============================] - 6s 487us/step - loss: 0.0138 - acc: 0.9973 - val_loss: 0.4126 - val_acc: 0.8898\n",
            "Epoch 12/30\n",
            "12059/12059 [==============================] - 6s 487us/step - loss: 0.0121 - acc: 0.9982 - val_loss: 0.4069 - val_acc: 0.8928\n",
            "Epoch 13/30\n",
            "12059/12059 [==============================] - 6s 482us/step - loss: 0.0150 - acc: 0.9975 - val_loss: 0.4027 - val_acc: 0.8914\n",
            "Epoch 14/30\n",
            "12059/12059 [==============================] - 6s 481us/step - loss: 0.0152 - acc: 0.9973 - val_loss: 0.4180 - val_acc: 0.8888\n",
            "Epoch 15/30\n",
            "12059/12059 [==============================] - 6s 480us/step - loss: 0.0111 - acc: 0.9982 - val_loss: 0.4155 - val_acc: 0.8891\n",
            "Epoch 16/30\n",
            "12059/12059 [==============================] - 6s 483us/step - loss: 0.0131 - acc: 0.9981 - val_loss: 0.4253 - val_acc: 0.8881\n",
            "Epoch 17/30\n",
            "12059/12059 [==============================] - 6s 481us/step - loss: 0.0132 - acc: 0.9983 - val_loss: 0.4282 - val_acc: 0.8928\n",
            "Restoring model weights from the end of the best epoch\n",
            "Epoch 00017: early stopping\n",
            "3003/3003 [==============================] - 0s 125us/step\n",
            "Train on 12040 samples, validate on 3022 samples\n",
            "Epoch 1/30\n",
            "12040/12040 [==============================] - 6s 481us/step - loss: 1.4514 - acc: 0.5655 - val_loss: 0.7218 - val_acc: 0.8302\n",
            "Epoch 2/30\n",
            "12040/12040 [==============================] - 6s 480us/step - loss: 0.2861 - acc: 0.9174 - val_loss: 0.5397 - val_acc: 0.8726\n",
            "Epoch 3/30\n",
            "12040/12040 [==============================] - 6s 482us/step - loss: 0.0986 - acc: 0.9752 - val_loss: 0.4701 - val_acc: 0.8769\n",
            "Epoch 4/30\n",
            "12040/12040 [==============================] - 6s 482us/step - loss: 0.0527 - acc: 0.9875 - val_loss: 0.4419 - val_acc: 0.8799\n",
            "Epoch 5/30\n",
            "12040/12040 [==============================] - 6s 480us/step - loss: 0.0342 - acc: 0.9939 - val_loss: 0.4304 - val_acc: 0.8815\n",
            "Epoch 6/30\n",
            "12040/12040 [==============================] - 6s 483us/step - loss: 0.0253 - acc: 0.9956 - val_loss: 0.4180 - val_acc: 0.8872\n",
            "Epoch 7/30\n",
            "12040/12040 [==============================] - 6s 485us/step - loss: 0.0216 - acc: 0.9961 - val_loss: 0.4241 - val_acc: 0.8819\n",
            "Epoch 8/30\n",
            "12040/12040 [==============================] - 6s 483us/step - loss: 0.0203 - acc: 0.9970 - val_loss: 0.4271 - val_acc: 0.8839\n",
            "Epoch 9/30\n",
            "12040/12040 [==============================] - 6s 482us/step - loss: 0.0171 - acc: 0.9974 - val_loss: 0.4362 - val_acc: 0.8819\n",
            "Epoch 10/30\n",
            "12040/12040 [==============================] - 6s 486us/step - loss: 0.0185 - acc: 0.9974 - val_loss: 0.4327 - val_acc: 0.8812\n",
            "Epoch 11/30\n",
            "12040/12040 [==============================] - 6s 483us/step - loss: 0.0133 - acc: 0.9979 - val_loss: 0.4347 - val_acc: 0.8815\n",
            "Restoring model weights from the end of the best epoch\n",
            "Epoch 00011: early stopping\n",
            "3022/3022 [==============================] - 0s 126us/step\n",
            "Train on 12045 samples, validate on 3017 samples\n",
            "Epoch 1/30\n",
            "12045/12045 [==============================] - 6s 483us/step - loss: 1.5613 - acc: 0.5395 - val_loss: 0.7955 - val_acc: 0.8160\n",
            "Epoch 2/30\n",
            "12045/12045 [==============================] - 6s 483us/step - loss: 0.3243 - acc: 0.9058 - val_loss: 0.5730 - val_acc: 0.8624\n",
            "Epoch 3/30\n",
            "12045/12045 [==============================] - 6s 482us/step - loss: 0.1103 - acc: 0.9723 - val_loss: 0.4974 - val_acc: 0.8707\n",
            "Epoch 4/30\n",
            "12045/12045 [==============================] - 6s 485us/step - loss: 0.0543 - acc: 0.9868 - val_loss: 0.4610 - val_acc: 0.8750\n",
            "Epoch 5/30\n",
            "12045/12045 [==============================] - 6s 485us/step - loss: 0.0330 - acc: 0.9934 - val_loss: 0.4509 - val_acc: 0.8764\n",
            "Epoch 6/30\n",
            "12045/12045 [==============================] - 6s 484us/step - loss: 0.0243 - acc: 0.9949 - val_loss: 0.4457 - val_acc: 0.8747\n",
            "Epoch 7/30\n",
            "12045/12045 [==============================] - 6s 484us/step - loss: 0.0196 - acc: 0.9963 - val_loss: 0.4395 - val_acc: 0.8747\n",
            "Epoch 8/30\n",
            "12045/12045 [==============================] - 6s 482us/step - loss: 0.0166 - acc: 0.9972 - val_loss: 0.4414 - val_acc: 0.8754\n",
            "Epoch 9/30\n",
            "12045/12045 [==============================] - 6s 485us/step - loss: 0.0130 - acc: 0.9976 - val_loss: 0.4446 - val_acc: 0.8737\n",
            "Epoch 10/30\n",
            "12045/12045 [==============================] - 6s 489us/step - loss: 0.0133 - acc: 0.9976 - val_loss: 0.4508 - val_acc: 0.8770\n",
            "Epoch 11/30\n",
            "12045/12045 [==============================] - 6s 483us/step - loss: 0.0121 - acc: 0.9978 - val_loss: 0.4567 - val_acc: 0.8747\n",
            "Epoch 12/30\n",
            "12045/12045 [==============================] - 6s 484us/step - loss: 0.0107 - acc: 0.9985 - val_loss: 0.4594 - val_acc: 0.8704\n",
            "Epoch 13/30\n",
            "12045/12045 [==============================] - 6s 481us/step - loss: 0.0119 - acc: 0.9981 - val_loss: 0.4537 - val_acc: 0.8750\n",
            "Epoch 14/30\n",
            "12045/12045 [==============================] - 6s 486us/step - loss: 0.0123 - acc: 0.9974 - val_loss: 0.4580 - val_acc: 0.8780\n",
            "Epoch 15/30\n",
            "12045/12045 [==============================] - 6s 486us/step - loss: 0.0159 - acc: 0.9974 - val_loss: 0.4979 - val_acc: 0.8608\n",
            "Epoch 16/30\n",
            "12045/12045 [==============================] - 6s 487us/step - loss: 0.0107 - acc: 0.9979 - val_loss: 0.5001 - val_acc: 0.8668\n",
            "Epoch 17/30\n",
            "12045/12045 [==============================] - 6s 484us/step - loss: 0.0126 - acc: 0.9970 - val_loss: 0.5107 - val_acc: 0.8704\n",
            "Epoch 18/30\n",
            "12045/12045 [==============================] - 6s 483us/step - loss: 0.0096 - acc: 0.9981 - val_loss: 0.5079 - val_acc: 0.8717\n",
            "Epoch 19/30\n",
            "12045/12045 [==============================] - 6s 480us/step - loss: 0.0129 - acc: 0.9976 - val_loss: 0.5329 - val_acc: 0.8691\n",
            "Restoring model weights from the end of the best epoch\n",
            "Epoch 00019: early stopping\n",
            "3017/3017 [==============================] - 0s 128us/step\n",
            "Train on 12049 samples, validate on 3013 samples\n",
            "Epoch 1/30\n",
            "12049/12049 [==============================] - 6s 481us/step - loss: 1.4480 - acc: 0.5708 - val_loss: 0.7263 - val_acc: 0.8430\n",
            "Epoch 2/30\n",
            "12049/12049 [==============================] - 6s 483us/step - loss: 0.2866 - acc: 0.9171 - val_loss: 0.5429 - val_acc: 0.8726\n",
            "Epoch 3/30\n",
            "12049/12049 [==============================] - 6s 480us/step - loss: 0.1094 - acc: 0.9718 - val_loss: 0.4847 - val_acc: 0.8818\n",
            "Epoch 4/30\n",
            "12049/12049 [==============================] - 6s 482us/step - loss: 0.0534 - acc: 0.9879 - val_loss: 0.4675 - val_acc: 0.8808\n",
            "Epoch 5/30\n",
            "12049/12049 [==============================] - 6s 484us/step - loss: 0.0369 - acc: 0.9917 - val_loss: 0.4589 - val_acc: 0.8779\n",
            "Epoch 6/30\n",
            "12049/12049 [==============================] - 6s 482us/step - loss: 0.0249 - acc: 0.9959 - val_loss: 0.4500 - val_acc: 0.8835\n",
            "Epoch 7/30\n",
            "12049/12049 [==============================] - 6s 482us/step - loss: 0.0189 - acc: 0.9962 - val_loss: 0.4480 - val_acc: 0.8825\n",
            "Epoch 8/30\n",
            "12049/12049 [==============================] - 6s 483us/step - loss: 0.0195 - acc: 0.9960 - val_loss: 0.4456 - val_acc: 0.8842\n",
            "Epoch 9/30\n",
            "12049/12049 [==============================] - 6s 480us/step - loss: 0.0146 - acc: 0.9977 - val_loss: 0.4459 - val_acc: 0.8792\n",
            "Epoch 10/30\n",
            "12049/12049 [==============================] - 6s 482us/step - loss: 0.0120 - acc: 0.9983 - val_loss: 0.4488 - val_acc: 0.8835\n",
            "Epoch 11/30\n",
            "12049/12049 [==============================] - 6s 481us/step - loss: 0.0127 - acc: 0.9974 - val_loss: 0.4555 - val_acc: 0.8785\n",
            "Epoch 12/30\n",
            "12049/12049 [==============================] - 6s 480us/step - loss: 0.0130 - acc: 0.9982 - val_loss: 0.4548 - val_acc: 0.8852\n",
            "Epoch 13/30\n",
            "12049/12049 [==============================] - 6s 481us/step - loss: 0.0126 - acc: 0.9978 - val_loss: 0.4693 - val_acc: 0.8799\n",
            "Epoch 14/30\n",
            "12049/12049 [==============================] - 6s 480us/step - loss: 0.0126 - acc: 0.9988 - val_loss: 0.4761 - val_acc: 0.8799\n",
            "Epoch 15/30\n",
            "12049/12049 [==============================] - 6s 483us/step - loss: 0.0092 - acc: 0.9987 - val_loss: 0.4834 - val_acc: 0.8805\n",
            "Epoch 16/30\n",
            "12049/12049 [==============================] - 6s 479us/step - loss: 0.0118 - acc: 0.9983 - val_loss: 0.4863 - val_acc: 0.8789\n",
            "Epoch 17/30\n",
            "12049/12049 [==============================] - 6s 482us/step - loss: 0.0096 - acc: 0.9980 - val_loss: 0.4877 - val_acc: 0.8845\n",
            "Restoring model weights from the end of the best epoch\n",
            "Epoch 00017: early stopping\n",
            "3013/3013 [==============================] - 0s 127us/step\n",
            "Train on 12055 samples, validate on 3007 samples\n",
            "Epoch 1/30\n",
            "12055/12055 [==============================] - 6s 482us/step - loss: 1.4474 - acc: 0.5695 - val_loss: 0.7466 - val_acc: 0.8367\n",
            "Epoch 2/30\n",
            "12055/12055 [==============================] - 6s 481us/step - loss: 0.2911 - acc: 0.9169 - val_loss: 0.5469 - val_acc: 0.8710\n",
            "Epoch 3/30\n",
            "12055/12055 [==============================] - 6s 483us/step - loss: 0.1017 - acc: 0.9738 - val_loss: 0.4754 - val_acc: 0.8793\n",
            "Epoch 4/30\n",
            "12055/12055 [==============================] - 6s 484us/step - loss: 0.0450 - acc: 0.9902 - val_loss: 0.4526 - val_acc: 0.8786\n",
            "Epoch 5/30\n",
            "12055/12055 [==============================] - 6s 480us/step - loss: 0.0282 - acc: 0.9942 - val_loss: 0.4398 - val_acc: 0.8803\n",
            "Epoch 6/30\n",
            "12055/12055 [==============================] - 6s 481us/step - loss: 0.0256 - acc: 0.9949 - val_loss: 0.4430 - val_acc: 0.8816\n",
            "Epoch 7/30\n",
            "12055/12055 [==============================] - 6s 481us/step - loss: 0.0175 - acc: 0.9973 - val_loss: 0.4369 - val_acc: 0.8799\n",
            "Epoch 8/30\n",
            "12055/12055 [==============================] - 6s 481us/step - loss: 0.0138 - acc: 0.9975 - val_loss: 0.4406 - val_acc: 0.8806\n",
            "Epoch 9/30\n",
            "12055/12055 [==============================] - 6s 477us/step - loss: 0.0117 - acc: 0.9985 - val_loss: 0.4428 - val_acc: 0.8826\n",
            "Epoch 10/30\n",
            "12055/12055 [==============================] - 6s 486us/step - loss: 0.0104 - acc: 0.9977 - val_loss: 0.4448 - val_acc: 0.8826\n",
            "Epoch 11/30\n",
            "12055/12055 [==============================] - 6s 483us/step - loss: 0.0092 - acc: 0.9990 - val_loss: 0.4423 - val_acc: 0.8819\n",
            "Epoch 12/30\n",
            "12055/12055 [==============================] - 6s 482us/step - loss: 0.0140 - acc: 0.9973 - val_loss: 0.4569 - val_acc: 0.8786\n",
            "Epoch 13/30\n",
            "12055/12055 [==============================] - 6s 481us/step - loss: 0.0094 - acc: 0.9984 - val_loss: 0.4544 - val_acc: 0.8836\n",
            "Epoch 14/30\n",
            "12055/12055 [==============================] - 6s 482us/step - loss: 0.0092 - acc: 0.9982 - val_loss: 0.4625 - val_acc: 0.8823\n",
            "Epoch 15/30\n",
            "12055/12055 [==============================] - 6s 480us/step - loss: 0.0073 - acc: 0.9984 - val_loss: 0.4691 - val_acc: 0.8816\n",
            "Epoch 16/30\n",
            "12055/12055 [==============================] - 6s 482us/step - loss: 0.0060 - acc: 0.9993 - val_loss: 0.4764 - val_acc: 0.8786\n",
            "Epoch 17/30\n",
            "12055/12055 [==============================] - 6s 481us/step - loss: 0.0099 - acc: 0.9983 - val_loss: 0.4894 - val_acc: 0.8780\n",
            "Epoch 18/30\n",
            "12055/12055 [==============================] - 6s 481us/step - loss: 0.0092 - acc: 0.9982 - val_loss: 0.4969 - val_acc: 0.8760\n",
            "Restoring model weights from the end of the best epoch\n",
            "Epoch 00018: early stopping\n",
            "3007/3007 [==============================] - 0s 122us/step\n",
            "Train on 12059 samples, validate on 3003 samples\n",
            "Epoch 1/30\n",
            "12059/12059 [==============================] - 6s 480us/step - loss: 1.4107 - acc: 0.5792 - val_loss: 0.7071 - val_acc: 0.8448\n",
            "Epoch 2/30\n",
            "12059/12059 [==============================] - 6s 481us/step - loss: 0.3023 - acc: 0.9165 - val_loss: 0.5345 - val_acc: 0.8795\n",
            "Epoch 3/30\n",
            "12059/12059 [==============================] - 6s 484us/step - loss: 0.1103 - acc: 0.9713 - val_loss: 0.4507 - val_acc: 0.8891\n",
            "Epoch 4/30\n",
            "12059/12059 [==============================] - 6s 482us/step - loss: 0.0613 - acc: 0.9858 - val_loss: 0.4226 - val_acc: 0.8964\n",
            "Epoch 5/30\n",
            "12059/12059 [==============================] - 6s 480us/step - loss: 0.0386 - acc: 0.9919 - val_loss: 0.4102 - val_acc: 0.8924\n",
            "Epoch 6/30\n",
            "12059/12059 [==============================] - 6s 482us/step - loss: 0.0282 - acc: 0.9950 - val_loss: 0.4062 - val_acc: 0.8958\n",
            "Epoch 7/30\n",
            "12059/12059 [==============================] - 6s 481us/step - loss: 0.0211 - acc: 0.9959 - val_loss: 0.4018 - val_acc: 0.8954\n",
            "Epoch 8/30\n",
            "12059/12059 [==============================] - 6s 484us/step - loss: 0.0187 - acc: 0.9968 - val_loss: 0.4024 - val_acc: 0.8964\n",
            "Epoch 9/30\n",
            "12059/12059 [==============================] - 6s 482us/step - loss: 0.0191 - acc: 0.9965 - val_loss: 0.3987 - val_acc: 0.8964\n",
            "Restoring model weights from the end of the best epoch\n",
            "Epoch 00009: early stopping\n",
            "3003/3003 [==============================] - 0s 122us/step\n",
            "Train on 12040 samples, validate on 3022 samples\n",
            "Epoch 1/30\n",
            "12040/12040 [==============================] - 6s 479us/step - loss: 1.6244 - acc: 0.5243 - val_loss: 0.8024 - val_acc: 0.8316\n",
            "Epoch 2/30\n",
            "12040/12040 [==============================] - 6s 484us/step - loss: 0.3347 - acc: 0.9056 - val_loss: 0.5589 - val_acc: 0.8809\n",
            "Epoch 3/30\n",
            "12040/12040 [==============================] - 6s 483us/step - loss: 0.1165 - acc: 0.9702 - val_loss: 0.4919 - val_acc: 0.8736\n",
            "Epoch 4/30\n",
            "12040/12040 [==============================] - 6s 484us/step - loss: 0.0599 - acc: 0.9861 - val_loss: 0.4627 - val_acc: 0.8769\n",
            "Epoch 5/30\n",
            "12040/12040 [==============================] - 6s 487us/step - loss: 0.0342 - acc: 0.9924 - val_loss: 0.4496 - val_acc: 0.8799\n",
            "Epoch 6/30\n",
            "12040/12040 [==============================] - 6s 485us/step - loss: 0.0249 - acc: 0.9963 - val_loss: 0.4369 - val_acc: 0.8829\n",
            "Epoch 7/30\n",
            "12040/12040 [==============================] - 6s 480us/step - loss: 0.0190 - acc: 0.9963 - val_loss: 0.4283 - val_acc: 0.8882\n",
            "Epoch 8/30\n",
            "12040/12040 [==============================] - 6s 483us/step - loss: 0.0162 - acc: 0.9971 - val_loss: 0.4292 - val_acc: 0.8845\n",
            "Epoch 9/30\n",
            "12040/12040 [==============================] - 6s 483us/step - loss: 0.0145 - acc: 0.9979 - val_loss: 0.4353 - val_acc: 0.8848\n",
            "Epoch 10/30\n",
            "12040/12040 [==============================] - 6s 479us/step - loss: 0.0111 - acc: 0.9983 - val_loss: 0.4297 - val_acc: 0.8878\n",
            "Epoch 11/30\n",
            "12040/12040 [==============================] - 6s 482us/step - loss: 0.0113 - acc: 0.9986 - val_loss: 0.4327 - val_acc: 0.8878\n",
            "Epoch 12/30\n",
            "12040/12040 [==============================] - 6s 479us/step - loss: 0.0095 - acc: 0.9985 - val_loss: 0.4412 - val_acc: 0.8825\n",
            "Restoring model weights from the end of the best epoch\n",
            "Epoch 00012: early stopping\n",
            "3022/3022 [==============================] - 0s 127us/step\n",
            "Train on 12045 samples, validate on 3017 samples\n",
            "Epoch 1/30\n",
            "12045/12045 [==============================] - 6s 480us/step - loss: 1.5315 - acc: 0.5445 - val_loss: 0.7692 - val_acc: 0.8373\n",
            "Epoch 2/30\n",
            "12045/12045 [==============================] - 6s 482us/step - loss: 0.3146 - acc: 0.9099 - val_loss: 0.5622 - val_acc: 0.8641\n",
            "Epoch 3/30\n",
            "12045/12045 [==============================] - 6s 483us/step - loss: 0.1109 - acc: 0.9733 - val_loss: 0.4851 - val_acc: 0.8774\n",
            "Epoch 4/30\n",
            "12045/12045 [==============================] - 6s 482us/step - loss: 0.0537 - acc: 0.9866 - val_loss: 0.4639 - val_acc: 0.8784\n",
            "Epoch 5/30\n",
            "12045/12045 [==============================] - 6s 482us/step - loss: 0.0347 - acc: 0.9927 - val_loss: 0.4575 - val_acc: 0.8790\n",
            "Epoch 6/30\n",
            "12045/12045 [==============================] - 6s 484us/step - loss: 0.0245 - acc: 0.9949 - val_loss: 0.4455 - val_acc: 0.8820\n",
            "Epoch 7/30\n",
            "12045/12045 [==============================] - 6s 481us/step - loss: 0.0204 - acc: 0.9958 - val_loss: 0.4511 - val_acc: 0.8797\n",
            "Epoch 8/30\n",
            "12045/12045 [==============================] - 6s 483us/step - loss: 0.0161 - acc: 0.9971 - val_loss: 0.4476 - val_acc: 0.8807\n",
            "Epoch 9/30\n",
            "12045/12045 [==============================] - 6s 481us/step - loss: 0.0123 - acc: 0.9978 - val_loss: 0.4501 - val_acc: 0.8810\n",
            "Epoch 10/30\n",
            "12045/12045 [==============================] - 6s 482us/step - loss: 0.0094 - acc: 0.9983 - val_loss: 0.4521 - val_acc: 0.8797\n",
            "Epoch 11/30\n",
            "12045/12045 [==============================] - 6s 485us/step - loss: 0.0087 - acc: 0.9979 - val_loss: 0.4613 - val_acc: 0.8744\n",
            "Restoring model weights from the end of the best epoch\n",
            "Epoch 00011: early stopping\n",
            "3017/3017 [==============================] - 0s 127us/step\n",
            "Train on 12049 samples, validate on 3013 samples\n",
            "Epoch 1/30\n",
            "12049/12049 [==============================] - 6s 481us/step - loss: 1.5626 - acc: 0.5288 - val_loss: 0.7705 - val_acc: 0.8430\n",
            "Epoch 2/30\n",
            "12049/12049 [==============================] - 6s 483us/step - loss: 0.3147 - acc: 0.9090 - val_loss: 0.5593 - val_acc: 0.8762\n",
            "Epoch 3/30\n",
            "12049/12049 [==============================] - 6s 480us/step - loss: 0.1190 - acc: 0.9700 - val_loss: 0.4892 - val_acc: 0.8795\n",
            "Epoch 4/30\n",
            "12049/12049 [==============================] - 6s 483us/step - loss: 0.0536 - acc: 0.9882 - val_loss: 0.4653 - val_acc: 0.8835\n",
            "Epoch 5/30\n",
            "12049/12049 [==============================] - 6s 483us/step - loss: 0.0331 - acc: 0.9934 - val_loss: 0.4551 - val_acc: 0.8815\n",
            "Epoch 6/30\n",
            "12049/12049 [==============================] - 6s 483us/step - loss: 0.0244 - acc: 0.9963 - val_loss: 0.4413 - val_acc: 0.8872\n",
            "Epoch 7/30\n",
            "12049/12049 [==============================] - 6s 480us/step - loss: 0.0224 - acc: 0.9959 - val_loss: 0.4533 - val_acc: 0.8812\n",
            "Epoch 8/30\n",
            "12049/12049 [==============================] - 6s 486us/step - loss: 0.0186 - acc: 0.9971 - val_loss: 0.4474 - val_acc: 0.8818\n",
            "Epoch 9/30\n",
            "12049/12049 [==============================] - 6s 480us/step - loss: 0.0181 - acc: 0.9974 - val_loss: 0.4478 - val_acc: 0.8862\n",
            "Epoch 10/30\n",
            "12049/12049 [==============================] - 6s 483us/step - loss: 0.0131 - acc: 0.9981 - val_loss: 0.4562 - val_acc: 0.8835\n",
            "Epoch 11/30\n",
            "12049/12049 [==============================] - 6s 485us/step - loss: 0.0129 - acc: 0.9980 - val_loss: 0.4603 - val_acc: 0.8795\n",
            "Restoring model weights from the end of the best epoch\n",
            "Epoch 00011: early stopping\n",
            "3013/3013 [==============================] - 0s 125us/step\n",
            "Train on 12055 samples, validate on 3007 samples\n",
            "Epoch 1/30\n",
            "12055/12055 [==============================] - 6s 478us/step - loss: 1.5636 - acc: 0.5366 - val_loss: 0.7796 - val_acc: 0.8420\n",
            "Epoch 2/30\n",
            "12055/12055 [==============================] - 6s 487us/step - loss: 0.3250 - acc: 0.9097 - val_loss: 0.5645 - val_acc: 0.8703\n",
            "Epoch 3/30\n",
            "12055/12055 [==============================] - 6s 483us/step - loss: 0.1028 - acc: 0.9732 - val_loss: 0.4902 - val_acc: 0.8740\n",
            "Epoch 4/30\n",
            "12055/12055 [==============================] - 6s 483us/step - loss: 0.0491 - acc: 0.9889 - val_loss: 0.4697 - val_acc: 0.8730\n",
            "Epoch 5/30\n",
            "12055/12055 [==============================] - 6s 479us/step - loss: 0.0332 - acc: 0.9935 - val_loss: 0.4560 - val_acc: 0.8753\n",
            "Epoch 6/30\n",
            "12055/12055 [==============================] - 6s 482us/step - loss: 0.0216 - acc: 0.9954 - val_loss: 0.4496 - val_acc: 0.8746\n",
            "Epoch 7/30\n",
            "12055/12055 [==============================] - 6s 481us/step - loss: 0.0153 - acc: 0.9976 - val_loss: 0.4548 - val_acc: 0.8743\n",
            "Epoch 8/30\n",
            "12055/12055 [==============================] - 6s 479us/step - loss: 0.0156 - acc: 0.9973 - val_loss: 0.4619 - val_acc: 0.8723\n",
            "Epoch 9/30\n",
            "12055/12055 [==============================] - 6s 483us/step - loss: 0.0121 - acc: 0.9979 - val_loss: 0.4558 - val_acc: 0.8746\n",
            "Epoch 10/30\n",
            "12055/12055 [==============================] - 6s 485us/step - loss: 0.0117 - acc: 0.9980 - val_loss: 0.4561 - val_acc: 0.8743\n",
            "Restoring model weights from the end of the best epoch\n",
            "Epoch 00010: early stopping\n",
            "3007/3007 [==============================] - 0s 129us/step\n",
            "Train on 12059 samples, validate on 3003 samples\n",
            "Epoch 1/30\n",
            "12059/12059 [==============================] - 6s 480us/step - loss: 1.5997 - acc: 0.5266 - val_loss: 0.7775 - val_acc: 0.8545\n",
            "Epoch 2/30\n",
            "12059/12059 [==============================] - 6s 483us/step - loss: 0.3125 - acc: 0.9101 - val_loss: 0.5343 - val_acc: 0.8848\n",
            "Epoch 3/30\n",
            "12059/12059 [==============================] - 6s 482us/step - loss: 0.1120 - acc: 0.9719 - val_loss: 0.4577 - val_acc: 0.8858\n",
            "Epoch 4/30\n",
            "12059/12059 [==============================] - 6s 482us/step - loss: 0.0581 - acc: 0.9871 - val_loss: 0.4310 - val_acc: 0.8954\n",
            "Epoch 5/30\n",
            "12059/12059 [==============================] - 6s 484us/step - loss: 0.0353 - acc: 0.9924 - val_loss: 0.4204 - val_acc: 0.8908\n",
            "Epoch 6/30\n",
            "12059/12059 [==============================] - 6s 482us/step - loss: 0.0262 - acc: 0.9947 - val_loss: 0.4012 - val_acc: 0.8954\n",
            "Epoch 7/30\n",
            "12059/12059 [==============================] - 6s 478us/step - loss: 0.0206 - acc: 0.9964 - val_loss: 0.3960 - val_acc: 0.9004\n",
            "Epoch 8/30\n",
            "12059/12059 [==============================] - 6s 483us/step - loss: 0.0178 - acc: 0.9973 - val_loss: 0.4097 - val_acc: 0.8921\n",
            "Epoch 9/30\n",
            "12059/12059 [==============================] - 6s 482us/step - loss: 0.0171 - acc: 0.9973 - val_loss: 0.4065 - val_acc: 0.8938\n",
            "Epoch 10/30\n",
            "12059/12059 [==============================] - 6s 480us/step - loss: 0.0142 - acc: 0.9979 - val_loss: 0.4097 - val_acc: 0.8941\n",
            "Epoch 11/30\n",
            "12059/12059 [==============================] - 6s 483us/step - loss: 0.0121 - acc: 0.9981 - val_loss: 0.4109 - val_acc: 0.8911\n",
            "Epoch 12/30\n",
            "12059/12059 [==============================] - 6s 481us/step - loss: 0.0150 - acc: 0.9982 - val_loss: 0.4164 - val_acc: 0.8928\n",
            "Restoring model weights from the end of the best epoch\n",
            "Epoch 00012: early stopping\n",
            "3003/3003 [==============================] - 0s 129us/step\n",
            "0.8855902170652015\n"
          ],
          "name": "stdout"
        }
      ]
    },
    {
      "cell_type": "code",
      "metadata": {
        "id": "Ad1n2MTZNfAd",
        "colab_type": "code",
        "outputId": "c127b717-271d-45ca-adb5-a512478cc761",
        "colab": {
          "base_uri": "https://localhost:8080/",
          "height": 357
        }
      },
      "source": [
        "model.summary()"
      ],
      "execution_count": 0,
      "outputs": [
        {
          "output_type": "stream",
          "text": [
            "Model: \"sequential_73\"\n",
            "_________________________________________________________________\n",
            "Layer (type)                 Output Shape              Param #   \n",
            "=================================================================\n",
            "embedding_73 (Embedding)     (None, 192, 258)          13463472  \n",
            "_________________________________________________________________\n",
            "conv1d_73 (Conv1D)           (None, 180, 285)          956175    \n",
            "_________________________________________________________________\n",
            "dropout_145 (Dropout)        (None, 180, 285)          0         \n",
            "_________________________________________________________________\n",
            "global_max_pooling1d_73 (Glo (None, 285)               0         \n",
            "_________________________________________________________________\n",
            "dropout_146 (Dropout)        (None, 285)               0         \n",
            "_________________________________________________________________\n",
            "dense_73 (Dense)             (None, 20)                5720      \n",
            "=================================================================\n",
            "Total params: 14,425,367\n",
            "Trainable params: 14,425,367\n",
            "Non-trainable params: 0\n",
            "_________________________________________________________________\n"
          ],
          "name": "stdout"
        }
      ]
    },
    {
      "cell_type": "code",
      "metadata": {
        "id": "74iXBFwCqgF0",
        "colab_type": "code",
        "outputId": "78661fa2-0b92-4065-d1c2-966aad747e45",
        "colab": {
          "base_uri": "https://localhost:8080/",
          "height": 475
        }
      },
      "source": [
        "plt.figure(figsize =(5,3))\n",
        "plt.plot(history.history['loss'], marker='.', label='train')\n",
        "plt.plot(history.history['val_loss'], marker='.', label='validation')\n",
        "plt.title('Loss')\n",
        "plt.grid(True)\n",
        "plt.xlabel('epoch')\n",
        "plt.ylabel('loss')\n",
        "plt.legend(loc='best')\n",
        "plt.show()\n",
        "\n",
        "\n",
        "plt.figure(figsize =(5,3))\n",
        "plt.plot(history.history['acc'], marker='.', label='train')\n",
        "plt.plot(history.history['val_acc'], marker='.', label='validation')\n",
        "plt.title('Accuracy')\n",
        "plt.grid(True)\n",
        "plt.xlabel('epoch')\n",
        "plt.ylabel('accuracy')\n",
        "plt.legend(loc='best')\n",
        "plt.show()"
      ],
      "execution_count": 0,
      "outputs": [
        {
          "output_type": "display_data",
          "data": {
            "image/png": "[encoded data removed]",
            "text/plain": [
              "<Figure size 360x216 with 1 Axes>"
            ]
          },
          "metadata": {
            "tags": []
          }
        },
        {
          "output_type": "display_data",
          "data": {
            "image/png": "[encoded data removed]",
            "text/plain": [
              "<Figure size 360x216 with 1 Axes>"
            ]
          },
          "metadata": {
            "tags": []
          }
        }
      ]
    },
    {
      "cell_type": "code",
      "metadata": {
        "id": "17rZnRTTAjSV",
        "colab_type": "code",
        "outputId": "1b18b5b1-cb52-4af4-d1f1-c7a24b1bc14a",
        "colab": {
          "base_uri": "https://localhost:8080/",
          "height": 51
        }
      },
      "source": [
        "y_pred_cnn = np.squeeze(stats.mode(np.vstack(y_pred), axis=0)[0])\n",
        "accuracy  = np.sum((y_pred_cnn-y_test)==0)/y_test.shape[0]\n",
        "f1 = f1_score(y_test, y_pred_cnn, average='macro')\n",
        "\n",
        "print('accuracy : ', accuracy,'\\nf1-score : ', f1)"
      ],
      "execution_count": 0,
      "outputs": [
        {
          "output_type": "stream",
          "text": [
            "accuracy :  0.9052044609665427 \n",
            "f1-score :  0.9034190410032782\n"
          ],
          "name": "stdout"
        }
      ]
    },
    {
      "cell_type": "code",
      "metadata": {
        "id": "eQJ30mFmXmtN",
        "colab_type": "code",
        "outputId": "00f17a36-452e-44dc-c97e-caa760a651a7",
        "colab": {
          "base_uri": "https://localhost:8080/",
          "height": 1000
        }
      },
      "source": [
        "# Plot non-normalized confusion matrix\n",
        "plot_confusion_matrix(y_test.values, y_pred_cnn, classes=np.array(groups_names),\n",
        "                      title='Confusion matrix, without normalization',\n",
        "                     normalize=False);"
      ],
      "execution_count": 0,
      "outputs": [
        {
          "output_type": "stream",
          "text": [
            "Confusion matrix, without normalization\n"
          ],
          "name": "stdout"
        },
        {
          "output_type": "display_data",
          "data": {
            "image/png": "[encoded data removed]",
            "text/plain": [
              "<Figure size 1080x1080 with 2 Axes>"
            ]
          },
          "metadata": {
            "tags": []
          }
        }
      ]
    },
    {
      "cell_type": "code",
      "metadata": {
        "id": "Nj-6scQF4Raq",
        "colab_type": "code",
        "outputId": "7ca6d47d-82f7-4a16-dc2f-516cd7694085",
        "colab": {
          "base_uri": "https://localhost:8080/",
          "height": 476
        }
      },
      "source": [
        "print(classification_report(y_test, y_pred_cnn,  target_names=groups_names))"
      ],
      "execution_count": 0,
      "outputs": [
        {
          "output_type": "stream",
          "text": [
            "                          precision    recall  f1-score   support\n",
            "\n",
            "             alt.atheism       0.93      0.87      0.90       163\n",
            "           comp.graphics       0.82      0.85      0.83       176\n",
            " comp.os.ms-windows.misc       0.87      0.89      0.88       208\n",
            "comp.sys.ibm.pc.hardware       0.73      0.80      0.76       183\n",
            "   comp.sys.mac.hardware       0.87      0.84      0.85       194\n",
            "          comp.windows.x       0.90      0.86      0.88       189\n",
            "            misc.forsale       0.88      0.83      0.86       191\n",
            "               rec.autos       0.89      0.91      0.90       202\n",
            "         rec.motorcycles       0.96      0.91      0.93       214\n",
            "      rec.sport.baseball       0.94      0.98      0.96       181\n",
            "        rec.sport.hockey       0.98      0.98      0.98       196\n",
            "               sci.crypt       0.96      0.96      0.96       200\n",
            "         sci.electronics       0.88      0.92      0.90       207\n",
            "                 sci.med       0.96      0.95      0.95       187\n",
            "               sci.space       0.94      0.94      0.94       199\n",
            "  soc.religion.christian       0.88      0.96      0.92       189\n",
            "      talk.politics.guns       0.94      0.93      0.93       191\n",
            "   talk.politics.mideast       0.98      0.96      0.97       209\n",
            "      talk.politics.misc       0.91      0.91      0.91       158\n",
            "      talk.religion.misc       0.88      0.81      0.84       129\n",
            "\n",
            "                accuracy                           0.91      3766\n",
            "               macro avg       0.91      0.90      0.90      3766\n",
            "            weighted avg       0.91      0.91      0.91      3766\n",
            "\n"
          ],
          "name": "stdout"
        }
      ]
    },
    {
      "cell_type": "markdown",
      "metadata": {
        "id": "5spPvOukZsVB",
        "colab_type": "text"
      },
      "source": [
        "## plans for the future...\n",
        "\n",
        "1. more data- I think that the dataset was relativly small for complex model (~12000)\n",
        "2. build LSTM model - I think it can improve the results and catch the patterns inside the text\n",
        "3. try different architecures\n",
        "4. add batch-normalization\n",
        "5. try harder to use pre-trained word vectors (e.g, glove.6B.100d)\n",
        "6. fine-tune learning rate - it seems it gets to the maximum really fast and stays there\n",
        "7. combine similar groups as one class\n",
        "8. put more weights on problematic classes\n",
        "9. try other optimization method "
      ]
    }
  ]
}