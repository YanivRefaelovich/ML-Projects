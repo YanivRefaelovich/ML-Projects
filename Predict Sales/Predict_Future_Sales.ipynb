{
  "nbformat": 4,
  "nbformat_minor": 0,
  "metadata": {
    "kernelspec": {
      "display_name": "Python 3",
      "language": "python",
      "name": "python3"
    },
    "language_info": {
      "name": "python",
      "version": "3.6.4",
      "mimetype": "text/x-python",
      "codemirror_mode": {
        "name": "ipython",
        "version": 3
      },
      "pygments_lexer": "ipython3",
      "nbconvert_exporter": "python",
      "file_extension": ".py"
    },
    "colab": {
      "name": "Predict Future Sales.ipynb",
      "provenance": [],
      "collapsed_sections": [],
      "machine_shape": "hm",
      "include_colab_link": true
    }
  },
  "cells": [
    {
      "cell_type": "markdown",
      "metadata": {
        "id": "view-in-github",
        "colab_type": "text"
      },
      "source": [
        "<a href=\"https://colab.research.google.com/github/YanivRefaelovich/ML-Projects/blob/master/Predict%20Sales/Predict_Future_Sales.ipynb\" target=\"_parent\"><img src=\"https://colab.research.google.com/assets/colab-badge.svg\" alt=\"Open In Colab\"/></a>"
      ]
    },
    {
      "cell_type": "code",
      "metadata": {
        "id": "WdOJcjAuVTJd",
        "colab_type": "code",
        "outputId": "d79eea97-687b-4f88-87c7-785f715517f4",
        "colab": {
          "base_uri": "https://localhost:8080/",
          "height": 51
        }
      },
      "source": [
        "from google.colab import drive\n",
        "drive.mount('/content/drive')\n",
        "\n",
        "import os\n",
        "os.chdir('drive/My Drive/Predict Future Sales')\n",
        "\n",
        "print(os.listdir())"
      ],
      "execution_count": 0,
      "outputs": [
        {
          "output_type": "stream",
          "text": [
            "Drive already mounted at /content/drive; to attempt to forcibly remount, call drive.mount(\"/content/drive\", force_remount=True).\n",
            "['Data', 'Predict Future Sales.ipynb', 'Predictions', 'Submissions', 'Predict Future Sales_Stacking.ipynb']\n"
          ],
          "name": "stdout"
        }
      ]
    },
    {
      "cell_type": "code",
      "metadata": {
        "trusted": true,
        "id": "RcY6YOO3VNqu",
        "colab_type": "code",
        "outputId": "f44db079-62d1-4970-a069-9ce23fc0353c",
        "colab": {
          "base_uri": "https://localhost:8080/",
          "height": 119
        }
      },
      "source": [
        "!pip install googletrans;\n"
      ],
      "execution_count": 0,
      "outputs": [
        {
          "output_type": "stream",
          "text": [
            "Requirement already satisfied: googletrans in /usr/local/lib/python3.6/dist-packages (2.4.0)\n",
            "Requirement already satisfied: requests in /usr/local/lib/python3.6/dist-packages (from googletrans) (2.21.0)\n",
            "Requirement already satisfied: urllib3<1.25,>=1.21.1 in /usr/local/lib/python3.6/dist-packages (from requests->googletrans) (1.24.3)\n",
            "Requirement already satisfied: chardet<3.1.0,>=3.0.2 in /usr/local/lib/python3.6/dist-packages (from requests->googletrans) (3.0.4)\n",
            "Requirement already satisfied: certifi>=2017.4.17 in /usr/local/lib/python3.6/dist-packages (from requests->googletrans) (2019.6.16)\n",
            "Requirement already satisfied: idna<2.9,>=2.5 in /usr/local/lib/python3.6/dist-packages (from requests->googletrans) (2.8)\n"
          ],
          "name": "stdout"
        }
      ]
    },
    {
      "cell_type": "markdown",
      "metadata": {
        "id": "00jRHYBfVNqx",
        "colab_type": "text"
      },
      "source": [
        "\n",
        "\n",
        "---\n",
        "\n",
        "\n",
        "**Plan**\n",
        "1. Read all csv files\n",
        "2. describe all information\n",
        "3. translate categories and shops names\n",
        "4. extract cities names\n",
        "5. combine similar categories\n",
        "6. remove outliers \n",
        "7. agregate sales over days\n",
        "8. transform date as year and month\n",
        "8. integrate data- shop_id, item_id, city, category, price, item_cnt- per month\n",
        "9. remove data that is not in test\n",
        "10. split data into sub periods of 6 months\n",
        "11. calculate additional features\n",
        "12. train\n",
        "13. test\n",
        "\n",
        "\n",
        "---\n",
        "\n",
        "\n",
        "\n",
        "\n"
      ]
    },
    {
      "cell_type": "code",
      "metadata": {
        "_uuid": "8f2839f25d086af736a60e9eeb907d3b93b6e0e5",
        "_cell_guid": "b1076dfc-b9ad-4769-8c92-a6c4dae69d19",
        "trusted": true,
        "id": "pO5aX-JzVNqy",
        "colab_type": "code",
        "outputId": "16020190-5b1d-4a07-bdcf-433b6d3cf04d",
        "colab": {
          "base_uri": "https://localhost:8080/",
          "height": 34
        }
      },
      "source": [
        "import os\n",
        "import pandas as pd\n",
        "from googletrans import Translator\n",
        "import matplotlib.pyplot as plt\n",
        "import seaborn as sns\n",
        "import numpy as np\n",
        "import timeit\n",
        "from sklearn.ensemble import RandomForestRegressor\n",
        "from sklearn.preprocessing import OneHotEncoder, LabelEncoder\n",
        "import math\n",
        "from keras.models import Sequential\n",
        "from keras.layers import Dense, Dropout \n",
        "from keras.callbacks import Callback, EarlyStopping\n",
        "from keras.regularizers import l2\n",
        "from keras import optimizers\n",
        "from sklearn.model_selection import KFold, train_test_split\n",
        "import gc\n",
        "from sklearn.preprocessing import MinMaxScaler\n",
        "from sklearn.preprocessing import LabelEncoder\n",
        "from keras.callbacks import EarlyStopping\n",
        "import xgboost as xgb\n",
        "from xgboost import plot_importance"
      ],
      "execution_count": 0,
      "outputs": [
        {
          "output_type": "stream",
          "text": [
            "Using TensorFlow backend.\n"
          ],
          "name": "stderr"
        }
      ]
    },
    {
      "cell_type": "code",
      "metadata": {
        "trusted": true,
        "id": "NDxx98vQVNq2",
        "colab_type": "code",
        "colab": {}
      },
      "source": [
        "# read all necessary files\n",
        "\n",
        "items = pd.read_csv('Data/items.csv')\n",
        "sample_submission = pd.read_csv('Data/sample_submission.csv')\n",
        "shops = pd.read_csv('Data/shops.csv')\n",
        "sales_train = pd.read_csv('Data/sales_train_v2.csv')\n",
        "item_categories = pd.read_csv('Data/item_categories.csv')\n",
        "test_csv = pd.read_csv('Data/test.csv')"
      ],
      "execution_count": 0,
      "outputs": []
    },
    {
      "cell_type": "code",
      "metadata": {
        "trusted": true,
        "id": "vaPNBfwhVNq3",
        "colab_type": "code",
        "outputId": "bb1c1645-1c63-46d0-f634-8e594fe302f3",
        "colab": {
          "base_uri": "https://localhost:8080/",
          "height": 102
        }
      },
      "source": [
        "print('items:', items.shape)\n",
        "print('shops:', shops.shape)\n",
        "print('sales_train:', sales_train.shape)\n",
        "print('item_categories:', item_categories.shape)\n",
        "print('test:', test_csv.shape)"
      ],
      "execution_count": 0,
      "outputs": [
        {
          "output_type": "stream",
          "text": [
            "items: (22170, 3)\n",
            "shops: (60, 2)\n",
            "sales_train: (2935849, 6)\n",
            "item_categories: (84, 2)\n",
            "test: (214200, 3)\n"
          ],
          "name": "stdout"
        }
      ]
    },
    {
      "cell_type": "code",
      "metadata": {
        "trusted": true,
        "id": "n1UM_PylVNq5",
        "colab_type": "code",
        "colab": {}
      },
      "source": [
        "def basic_eda(df):\n",
        "    print(\"-----------HEAD----------------\")\n",
        "    print(df.head(5))\n",
        "    print(\"----------INFO-----------------\")\n",
        "    print(df.info())\n",
        "    print(\"----------Describe-------------\")\n",
        "    print(df.describe())\n",
        "    print(\"----------Columns--------------\")\n",
        "    print(df.columns)\n",
        "    print(\"----------Data Types-----------\")\n",
        "    print(df.dtypes)\n",
        "    print(\"-------Missing Values----------\")\n",
        "    print(df.isnull().sum())\n",
        "    print(\"-------NULL values-------------\")\n",
        "    print(df.isna().sum())\n",
        "    print(\"-----Shape Of Data-------------\")\n",
        "    print(df.shape)"
      ],
      "execution_count": 0,
      "outputs": []
    },
    {
      "cell_type": "code",
      "metadata": {
        "trusted": true,
        "id": "UjrqdiaRVNq8",
        "colab_type": "code",
        "outputId": "e7f87dd8-c6b1-4ffa-c668-159604344b05",
        "colab": {
          "base_uri": "https://localhost:8080/",
          "height": 1000
        }
      },
      "source": [
        "print('============sales_train===============')\n",
        "basic_eda(sales_train)\n",
        "print('============items===============')\n",
        "basic_eda(items)\n",
        "print('============shops===============')\n",
        "basic_eda(shops)\n",
        "print('============item_categories===============')\n",
        "basic_eda(item_categories)\n",
        "print(\"==============test=========================\")\n",
        "basic_eda(test_csv)\n",
        "\n"
      ],
      "execution_count": 0,
      "outputs": [
        {
          "output_type": "stream",
          "text": [
            "============sales_train===============\n",
            "-----------HEAD----------------\n",
            "         date  date_block_num  shop_id  item_id  item_price  item_cnt_day\n",
            "0  02.01.2013               0       59    22154      999.00           1.0\n",
            "1  03.01.2013               0       25     2552      899.00           1.0\n",
            "2  05.01.2013               0       25     2552      899.00          -1.0\n",
            "3  06.01.2013               0       25     2554     1709.05           1.0\n",
            "4  15.01.2013               0       25     2555     1099.00           1.0\n",
            "----------INFO-----------------\n",
            "<class 'pandas.core.frame.DataFrame'>\n",
            "RangeIndex: 2935849 entries, 0 to 2935848\n",
            "Data columns (total 6 columns):\n",
            "date              object\n",
            "date_block_num    int64\n",
            "shop_id           int64\n",
            "item_id           int64\n",
            "item_price        float64\n",
            "item_cnt_day      float64\n",
            "dtypes: float64(2), int64(3), object(1)\n",
            "memory usage: 134.4+ MB\n",
            "None\n",
            "----------Describe-------------\n",
            "       date_block_num       shop_id       item_id    item_price  item_cnt_day\n",
            "count    2.935849e+06  2.935849e+06  2.935849e+06  2.935849e+06  2.935849e+06\n",
            "mean     1.456991e+01  3.300173e+01  1.019723e+04  8.908532e+02  1.242641e+00\n",
            "std      9.422988e+00  1.622697e+01  6.324297e+03  1.729800e+03  2.618834e+00\n",
            "min      0.000000e+00  0.000000e+00  0.000000e+00 -1.000000e+00 -2.200000e+01\n",
            "25%      7.000000e+00  2.200000e+01  4.476000e+03  2.490000e+02  1.000000e+00\n",
            "50%      1.400000e+01  3.100000e+01  9.343000e+03  3.990000e+02  1.000000e+00\n",
            "75%      2.300000e+01  4.700000e+01  1.568400e+04  9.990000e+02  1.000000e+00\n",
            "max      3.300000e+01  5.900000e+01  2.216900e+04  3.079800e+05  2.169000e+03\n",
            "----------Columns--------------\n",
            "Index(['date', 'date_block_num', 'shop_id', 'item_id', 'item_price',\n",
            "       'item_cnt_day'],\n",
            "      dtype='object')\n",
            "----------Data Types-----------\n",
            "date               object\n",
            "date_block_num      int64\n",
            "shop_id             int64\n",
            "item_id             int64\n",
            "item_price        float64\n",
            "item_cnt_day      float64\n",
            "dtype: object\n",
            "-------Missing Values----------\n",
            "date              0\n",
            "date_block_num    0\n",
            "shop_id           0\n",
            "item_id           0\n",
            "item_price        0\n",
            "item_cnt_day      0\n",
            "dtype: int64\n",
            "-------NULL values-------------\n",
            "date              0\n",
            "date_block_num    0\n",
            "shop_id           0\n",
            "item_id           0\n",
            "item_price        0\n",
            "item_cnt_day      0\n",
            "dtype: int64\n",
            "-----Shape Of Data-------------\n",
            "(2935849, 6)\n",
            "============items===============\n",
            "-----------HEAD----------------\n",
            "                                           item_name  item_id  item_category_id\n",
            "0          ! ВО ВЛАСТИ НАВАЖДЕНИЯ (ПЛАСТ.)         D        0                40\n",
            "1  !ABBYY FineReader 12 Professional Edition Full...        1                76\n",
            "2      ***В ЛУЧАХ СЛАВЫ   (UNV)                    D        2                40\n",
            "3    ***ГОЛУБАЯ ВОЛНА  (Univ)                      D        3                40\n",
            "4        ***КОРОБКА (СТЕКЛО)                       D        4                40\n",
            "----------INFO-----------------\n",
            "<class 'pandas.core.frame.DataFrame'>\n",
            "RangeIndex: 22170 entries, 0 to 22169\n",
            "Data columns (total 3 columns):\n",
            "item_name           22170 non-null object\n",
            "item_id             22170 non-null int64\n",
            "item_category_id    22170 non-null int64\n",
            "dtypes: int64(2), object(1)\n",
            "memory usage: 519.7+ KB\n",
            "None\n",
            "----------Describe-------------\n",
            "           item_id  item_category_id\n",
            "count  22170.00000      22170.000000\n",
            "mean   11084.50000         46.290753\n",
            "std     6400.07207         15.941486\n",
            "min        0.00000          0.000000\n",
            "25%     5542.25000         37.000000\n",
            "50%    11084.50000         40.000000\n",
            "75%    16626.75000         58.000000\n",
            "max    22169.00000         83.000000\n",
            "----------Columns--------------\n",
            "Index(['item_name', 'item_id', 'item_category_id'], dtype='object')\n",
            "----------Data Types-----------\n",
            "item_name           object\n",
            "item_id              int64\n",
            "item_category_id     int64\n",
            "dtype: object\n",
            "-------Missing Values----------\n",
            "item_name           0\n",
            "item_id             0\n",
            "item_category_id    0\n",
            "dtype: int64\n",
            "-------NULL values-------------\n",
            "item_name           0\n",
            "item_id             0\n",
            "item_category_id    0\n",
            "dtype: int64\n",
            "-----Shape Of Data-------------\n",
            "(22170, 3)\n",
            "============shops===============\n",
            "-----------HEAD----------------\n",
            "                        shop_name  shop_id\n",
            "0   !Якутск Орджоникидзе, 56 фран        0\n",
            "1   !Якутск ТЦ \"Центральный\" фран        1\n",
            "2                Адыгея ТЦ \"Мега\"        2\n",
            "3  Балашиха ТРК \"Октябрь-Киномир\"        3\n",
            "4        Волжский ТЦ \"Волга Молл\"        4\n",
            "----------INFO-----------------\n",
            "<class 'pandas.core.frame.DataFrame'>\n",
            "RangeIndex: 60 entries, 0 to 59\n",
            "Data columns (total 2 columns):\n",
            "shop_name    60 non-null object\n",
            "shop_id      60 non-null int64\n",
            "dtypes: int64(1), object(1)\n",
            "memory usage: 1.0+ KB\n",
            "None\n",
            "----------Describe-------------\n",
            "         shop_id\n",
            "count  60.000000\n",
            "mean   29.500000\n",
            "std    17.464249\n",
            "min     0.000000\n",
            "25%    14.750000\n",
            "50%    29.500000\n",
            "75%    44.250000\n",
            "max    59.000000\n",
            "----------Columns--------------\n",
            "Index(['shop_name', 'shop_id'], dtype='object')\n",
            "----------Data Types-----------\n",
            "shop_name    object\n",
            "shop_id       int64\n",
            "dtype: object\n",
            "-------Missing Values----------\n",
            "shop_name    0\n",
            "shop_id      0\n",
            "dtype: int64\n",
            "-------NULL values-------------\n",
            "shop_name    0\n",
            "shop_id      0\n",
            "dtype: int64\n",
            "-----Shape Of Data-------------\n",
            "(60, 2)\n",
            "============item_categories===============\n",
            "-----------HEAD----------------\n",
            "        item_category_name  item_category_id\n",
            "0  PC - Гарнитуры/Наушники                 0\n",
            "1         Аксессуары - PS2                 1\n",
            "2         Аксессуары - PS3                 2\n",
            "3         Аксессуары - PS4                 3\n",
            "4         Аксессуары - PSP                 4\n",
            "----------INFO-----------------\n",
            "<class 'pandas.core.frame.DataFrame'>\n",
            "RangeIndex: 84 entries, 0 to 83\n",
            "Data columns (total 2 columns):\n",
            "item_category_name    84 non-null object\n",
            "item_category_id      84 non-null int64\n",
            "dtypes: int64(1), object(1)\n",
            "memory usage: 1.4+ KB\n",
            "None\n",
            "----------Describe-------------\n",
            "       item_category_id\n",
            "count         84.000000\n",
            "mean          41.500000\n",
            "std           24.392622\n",
            "min            0.000000\n",
            "25%           20.750000\n",
            "50%           41.500000\n",
            "75%           62.250000\n",
            "max           83.000000\n",
            "----------Columns--------------\n",
            "Index(['item_category_name', 'item_category_id'], dtype='object')\n",
            "----------Data Types-----------\n",
            "item_category_name    object\n",
            "item_category_id       int64\n",
            "dtype: object\n",
            "-------Missing Values----------\n",
            "item_category_name    0\n",
            "item_category_id      0\n",
            "dtype: int64\n",
            "-------NULL values-------------\n",
            "item_category_name    0\n",
            "item_category_id      0\n",
            "dtype: int64\n",
            "-----Shape Of Data-------------\n",
            "(84, 2)\n",
            "==============test=========================\n",
            "-----------HEAD----------------\n",
            "   ID  shop_id  item_id\n",
            "0   0        5     5037\n",
            "1   1        5     5320\n",
            "2   2        5     5233\n",
            "3   3        5     5232\n",
            "4   4        5     5268\n",
            "----------INFO-----------------\n",
            "<class 'pandas.core.frame.DataFrame'>\n",
            "RangeIndex: 214200 entries, 0 to 214199\n",
            "Data columns (total 3 columns):\n",
            "ID         214200 non-null int64\n",
            "shop_id    214200 non-null int64\n",
            "item_id    214200 non-null int64\n",
            "dtypes: int64(3)\n",
            "memory usage: 4.9 MB\n",
            "None\n",
            "----------Describe-------------\n",
            "                  ID        shop_id        item_id\n",
            "count  214200.000000  214200.000000  214200.000000\n",
            "mean   107099.500000      31.642857   11019.398627\n",
            "std     61834.358168      17.561933    6252.644590\n",
            "min         0.000000       2.000000      30.000000\n",
            "25%     53549.750000      16.000000    5381.500000\n",
            "50%    107099.500000      34.500000   11203.000000\n",
            "75%    160649.250000      47.000000   16071.500000\n",
            "max    214199.000000      59.000000   22167.000000\n",
            "----------Columns--------------\n",
            "Index(['ID', 'shop_id', 'item_id'], dtype='object')\n",
            "----------Data Types-----------\n",
            "ID         int64\n",
            "shop_id    int64\n",
            "item_id    int64\n",
            "dtype: object\n",
            "-------Missing Values----------\n",
            "ID         0\n",
            "shop_id    0\n",
            "item_id    0\n",
            "dtype: int64\n",
            "-------NULL values-------------\n",
            "ID         0\n",
            "shop_id    0\n",
            "item_id    0\n",
            "dtype: int64\n",
            "-----Shape Of Data-------------\n",
            "(214200, 3)\n"
          ],
          "name": "stdout"
        }
      ]
    },
    {
      "cell_type": "markdown",
      "metadata": {
        "id": "KOFXBTx3W70p",
        "colab_type": "text"
      },
      "source": [
        "# Preprocessing"
      ]
    },
    {
      "cell_type": "code",
      "metadata": {
        "trusted": true,
        "id": "idYtS41uVNq-",
        "colab_type": "code",
        "outputId": "9044ba72-5142-4902-9383-e1b0ab3acb7b",
        "colab": {
          "base_uri": "https://localhost:8080/",
          "height": 85
        }
      },
      "source": [
        "# compare test ad train items and shops\n",
        "\n",
        "train_item_id = sales_train['item_id'].unique()\n",
        "test_item_id = test_csv['item_id'].unique()\n",
        "\n",
        "train_shop_id = sales_train['shop_id'].unique()\n",
        "test_shop_id = test_csv['shop_id'].unique()\n",
        "\n",
        "print(test_item_id.shape)\n",
        "print(test_csv.shape)\n",
        "print(np.sum(np.isin(test_item_id, train_item_id)==False))\n",
        "print(np.sum(np.isin(test_shop_id, train_shop_id)==True))"
      ],
      "execution_count": 0,
      "outputs": [
        {
          "output_type": "stream",
          "text": [
            "(5100,)\n",
            "(214200, 3)\n",
            "363\n",
            "42\n"
          ],
          "name": "stdout"
        }
      ]
    },
    {
      "cell_type": "code",
      "metadata": {
        "trusted": true,
        "id": "NWlRya36VNrA",
        "colab_type": "code",
        "outputId": "94f1c61d-3019-44ab-ab3e-c2f0df98d108",
        "colab": {
          "base_uri": "https://localhost:8080/",
          "height": 34
        }
      },
      "source": [
        "# remove outliers\n",
        "outliers = np.where((sales_train['item_price'] > np.percentile(sales_train['item_price'], 95)) | \n",
        "                    (sales_train['item_cnt_day'] > np.percentile(sales_train['item_cnt_day'], 95))|\n",
        "                    (sales_train['item_cnt_day']<0))[0]\n",
        "\n",
        "\n",
        "sales_train.drop(outliers, axis=0, inplace=True)\n",
        "sales_train.reset_index(inplace=True)\n",
        "\n",
        "print(outliers.shape,sales_train.shape)\n",
        "\n"
      ],
      "execution_count": 0,
      "outputs": [
        {
          "output_type": "stream",
          "text": [
            "(248793,) (2687056, 7)\n"
          ],
          "name": "stdout"
        }
      ]
    },
    {
      "cell_type": "code",
      "metadata": {
        "trusted": true,
        "id": "KeUnG6q_VNrC",
        "colab_type": "code",
        "colab": {}
      },
      "source": [
        "# translating items_category\n",
        "\n",
        "translator = Translator()\n",
        "item_categories_trans = item_categories.copy()\n",
        "for i in range(item_categories.shape[0]):\n",
        "    a = translator.translate(item_categories.iloc[i,0], src='ru', dest='en')\n",
        "    item_categories_trans.iloc[i, 0] = a.text\n"
      ],
      "execution_count": 0,
      "outputs": []
    },
    {
      "cell_type": "code",
      "metadata": {
        "trusted": true,
        "id": "5a5DbIk6VNrE",
        "colab_type": "code",
        "outputId": "3c5b0708-d5dc-4f5e-f922-a6bdde3666bc",
        "colab": {
          "base_uri": "https://localhost:8080/",
          "height": 102
        }
      },
      "source": [
        "item_categories_trans['item_category_name'].loc[item_categories_trans['item_category_name'].str.contains('Consoles ', case=False, regex=False)] = 'Consoles'\n",
        "item_categories_trans['item_category_name'].loc[item_categories_trans['item_category_name'].str.contains('Books ', case=False, regex=False)] = 'Books'\n",
        "item_categories_trans['item_category_name'].loc[item_categories_trans['item_category_name'].str.contains('Cinema ', case=False, regex=False)] = 'Cinema'\n",
        "item_categories_trans['item_category_name'].loc[item_categories_trans['item_category_name'].str.contains('Music ', case=False, regex=False)] = 'Music'\n",
        "item_categories_trans['item_category_name'].loc[item_categories_trans['item_category_name'].str.contains('Gifts ', case=False, regex=False)] = 'Gifts'\n",
        "item_categories_trans['item_category_name'].loc[item_categories_trans['item_category_name'].str.contains('Programs ', case=False, regex=False)] = 'Programs'\n",
        "item_categories_trans['item_category_name'].loc[item_categories_trans['item_category_name'].str.contains('Clean media ', case=False, regex=False)] = 'media'\n",
        "item_categories_trans['item_category_name'].loc[item_categories_trans['item_category_name'].str.contains('Payment ', case=False, regex=False)] = 'Payment'\n",
        "item_categories_trans['item_category_name'].loc[item_categories_trans['item_category_name'].str.contains('Accessories ', case=False, regex=False)] = 'Accessories'\n",
        "item_categories_trans['item_category_name'].loc[item_categories_trans['item_category_name'].str.contains('Games ', case=False, regex=False)] = 'Game'\n"
      ],
      "execution_count": 0,
      "outputs": [
        {
          "output_type": "stream",
          "text": [
            "/usr/local/lib/python3.6/dist-packages/pandas/core/indexing.py:190: SettingWithCopyWarning: \n",
            "A value is trying to be set on a copy of a slice from a DataFrame\n",
            "\n",
            "See the caveats in the documentation: http://pandas.pydata.org/pandas-docs/stable/indexing.html#indexing-view-versus-copy\n",
            "  self._setitem_with_indexer(indexer, value)\n"
          ],
          "name": "stderr"
        }
      ]
    },
    {
      "cell_type": "code",
      "metadata": {
        "trusted": true,
        "id": "JhQPS8BVVNrG",
        "colab_type": "code",
        "outputId": "6375a00f-1a86-4255-96b4-2e669700cb6f",
        "colab": {
          "base_uri": "https://localhost:8080/",
          "height": 119
        }
      },
      "source": [
        "print(item_categories_trans.head())\n"
      ],
      "execution_count": 0,
      "outputs": [
        {
          "output_type": "stream",
          "text": [
            "           item_category_name  item_category_id\n",
            "0  PC - Headsets / Headphones                 0\n",
            "1                 Accessories                 1\n",
            "2                 Accessories                 2\n",
            "3                 Accessories                 3\n",
            "4                 Accessories                 4\n"
          ],
          "name": "stdout"
        }
      ]
    },
    {
      "cell_type": "code",
      "metadata": {
        "trusted": true,
        "id": "lNV-QjZsVNrI",
        "colab_type": "code",
        "colab": {}
      },
      "source": [
        "# translating shops names and extructing cities\n",
        "\n",
        "shops_trans = shops.copy()\n",
        "shops_trans['city'] = 0\n",
        "for i in range(shops.shape[0]):\n",
        "    a=translator.translate(shops.iloc[i, 0], src='ru', dest='en')\n",
        "    shops_trans.loc[i, 'shop_name'] = a.text\n",
        "    shops_trans.loc[i, 'city'] = a.text.split(' ')[0]\n",
        "#     print(a.text, '|  city: ', a.text.split(' ')[0])"
      ],
      "execution_count": 0,
      "outputs": []
    },
    {
      "cell_type": "code",
      "metadata": {
        "trusted": true,
        "id": "IW4-49umVNrK",
        "colab_type": "code",
        "outputId": "69faf350-8b60-49e3-c5ae-3e3e823db52f",
        "colab": {
          "base_uri": "https://localhost:8080/",
          "height": 85
        }
      },
      "source": [
        "# number of month\n",
        "print('Number of month:', sales_train[\"date_block_num\"].unique().size)\n",
        "print('Number of unique items:', sales_train[\"item_id\"].unique().size)\n",
        "print('Number of unique shops:', sales_train[\"shop_id\"].unique().size)\n",
        "print('Number of unique cities:', shops_trans[\"city\"].unique().size)"
      ],
      "execution_count": 0,
      "outputs": [
        {
          "output_type": "stream",
          "text": [
            "Number of month: 34\n",
            "Number of unique items: 21066\n",
            "Number of unique shops: 60\n",
            "Number of unique cities: 32\n"
          ],
          "name": "stdout"
        }
      ]
    },
    {
      "cell_type": "code",
      "metadata": {
        "trusted": true,
        "id": "YBkC52DMVNrM",
        "colab_type": "code",
        "colab": {}
      },
      "source": [
        "monthly_data = sales_train.pivot_table(index=['shop_id', 'item_id'], columns='date_block_num',\n",
        "                            values=['item_cnt_day','item_price'], fill_value=0,\n",
        "                              aggfunc={'item_cnt_day': 'sum' , 'item_price':'mean'}).reset_index()"
      ],
      "execution_count": 0,
      "outputs": []
    },
    {
      "cell_type": "code",
      "metadata": {
        "trusted": true,
        "id": "l5LFoFBoVNrO",
        "colab_type": "code",
        "colab": {}
      },
      "source": [
        "# adding cities and categories\n",
        "monthly_data['city'] = monthly_data['shop_id']\n",
        "monthly_data['category'] = monthly_data['item_id']\n",
        "\n",
        "monthly_data['city'] = monthly_data['city'].replace(to_replace=shops_trans['shop_id'].values,\n",
        "                                                   value=shops_trans['city'].values)\n",
        "\n",
        "monthly_data['category'] = monthly_data['category'].replace(to_replace=items['item_id'].values,\n",
        "                                                   value=items['item_category_id'].values)\n",
        "\n",
        "monthly_data['category'] = monthly_data['category'].replace(to_replace=item_categories_trans['item_category_id'].values,\n",
        "                                                   value=item_categories_trans['item_category_name'].values)\n"
      ],
      "execution_count": 0,
      "outputs": []
    },
    {
      "cell_type": "code",
      "metadata": {
        "trusted": true,
        "id": "_XH6zwfNVNrQ",
        "colab_type": "code",
        "colab": {}
      },
      "source": [
        "# fixing price and clipping sales\n",
        "monthly_data ['item_price'] = monthly_data['item_price'].replace(to_replace=0, value=np.nan)\n",
        "monthly_data['item_cnt_day'] = monthly_data['item_cnt_day'].clip(lower=0, upper=20)\n"
      ],
      "execution_count": 0,
      "outputs": []
    },
    {
      "cell_type": "markdown",
      "metadata": {
        "id": "rzmjCEfUYwXC",
        "colab_type": "text"
      },
      "source": [
        "## feature calculation"
      ]
    },
    {
      "cell_type": "code",
      "metadata": {
        "trusted": true,
        "id": "odX4TKuZVNrS",
        "colab_type": "code",
        "colab": {}
      },
      "source": [
        "# Calculating features for training\n",
        "\n",
        "cnt_data = monthly_data['item_cnt_day']\n",
        "price_data = monthly_data['item_price']\n",
        "max_price = monthly_data['item_price'].max(axis=1)\n",
        "avg_price = price_data.mean(axis=1, skipna=True)\n",
        "std_price = price_data.std(axis=1, skipna=True)\n",
        "\n",
        "le_cat = LabelEncoder()\n",
        "le_city = LabelEncoder()\n",
        "\n",
        "cat = le_cat.fit_transform(monthly_data['category'])\n",
        "city = le_city.fit_transform(monthly_data['city'])\n",
        "\n",
        "cat = pd.DataFrame(data=cat,  columns=['cat'])\n",
        "city = pd.DataFrame(data=city,  columns=['city'])\n",
        "\n",
        "# cat = pd.get_dummies(monthly_data['category'])\n",
        "# city = pd.get_dummies(monthly_data['city'])\n",
        "\n",
        "num_month_back = 6\n",
        "Features = pd.DataFrame()\n",
        "Target = pd.DataFrame();\n",
        "\n",
        "X = pd.DataFrame()\n",
        "\n",
        "for i in range(cnt_data.shape[1] - num_month_back):\n",
        "    \n",
        "    # data over 6 months\n",
        "    \n",
        "    current_price_mean = price_data.iloc[:, i:i+num_month_back].mean(axis=1, skipna=True)\n",
        "    current_price_std = price_data.iloc[:, i:i+num_month_back].std(axis=1, skipna=True)\n",
        "    current_price_last = price_data.iloc[:, i+num_month_back-1]\n",
        "    \n",
        "    # dealing with null prices\n",
        "    current_price_mean.loc[current_price_mean.isnull()] = avg_price.loc[current_price_mean.isnull()]\n",
        "    current_price_std.loc[current_price_std.isnull()] = std_price.loc[current_price_std.isnull()]\n",
        "    current_price_last.loc[current_price_last.isnull()] = avg_price.loc[current_price_last.isnull()]\n",
        "\n",
        "    current_sales = cnt_data.iloc[:, i:i+num_month_back]\n",
        "    current_sales_mean = cnt_data.iloc[:, i:i+num_month_back].mean(axis=1)\n",
        "    current_sales_diff = cnt_data.iloc[:, i:i+num_month_back].max(axis=1) - cnt_data.iloc[:, i:i+num_month_back].min(axis=1)\n",
        "    current_sales_std = cnt_data.iloc[:, i:i+num_month_back].std(axis=1)\n",
        "\n",
        "    current_sales_1st_half = cnt_data.iloc[:, i:i+int(num_month_back/2)].mean(axis=1)\n",
        "    current_sales_2nd_half = cnt_data.iloc[:, i+int(num_month_back/2):i+num_month_back].mean(axis=1)\n",
        "\n",
        "    year = np.floor((i+num_month_back)/12)\n",
        "    month = (i+num_month_back)%12 + 1\n",
        "\n",
        "    features = pd.concat([current_sales,\n",
        "                          current_sales_mean,\n",
        "                          current_sales_diff,\n",
        "                          current_sales_std,\n",
        "                          current_sales_1st_half,\n",
        "                          current_sales_2nd_half,\n",
        "                          current_price_mean,\n",
        "#                           current_price_std,\n",
        "                          current_price_last,\n",
        "                          cat,\n",
        "                          city,\n",
        "                         ], axis=1, ignore_index=True)\n",
        "    \n",
        "    features['month'] = month\n",
        "    features['year'] = year\n",
        "    \n",
        "    X = pd.concat([X, features],axis=0, ignore_index=True)\n",
        "    \n",
        "    # sales in the following month\n",
        "    Target = pd.concat([Target, cnt_data.iloc[:, i+num_month_back]], axis=0, ignore_index=True)\n",
        "    "
      ],
      "execution_count": 0,
      "outputs": []
    },
    {
      "cell_type": "code",
      "metadata": {
        "trusted": true,
        "id": "e60xsLBIVNrU",
        "colab_type": "code",
        "outputId": "1061143b-da4c-4fc6-fc99-fedab3030e08",
        "colab": {
          "base_uri": "https://localhost:8080/",
          "height": 204
        }
      },
      "source": [
        "columns_names = [str(i) for i in range(num_month_back)]\n",
        "columns_names.extend(['sales_mean','sales_diff','sales_std','sales_beginning','sales_end','price_mean','last_price','category','city','month','year'])\n",
        "X.columns = columns_names\n",
        "X.head()"
      ],
      "execution_count": 0,
      "outputs": [
        {
          "output_type": "execute_result",
          "data": {
            "text/html": [
              "<div>\n",
              "<style scoped>\n",
              "    .dataframe tbody tr th:only-of-type {\n",
              "        vertical-align: middle;\n",
              "    }\n",
              "\n",
              "    .dataframe tbody tr th {\n",
              "        vertical-align: top;\n",
              "    }\n",
              "\n",
              "    .dataframe thead th {\n",
              "        text-align: right;\n",
              "    }\n",
              "</style>\n",
              "<table border=\"1\" class=\"dataframe\">\n",
              "  <thead>\n",
              "    <tr style=\"text-align: right;\">\n",
              "      <th></th>\n",
              "      <th>0</th>\n",
              "      <th>1</th>\n",
              "      <th>2</th>\n",
              "      <th>3</th>\n",
              "      <th>4</th>\n",
              "      <th>5</th>\n",
              "      <th>sales_mean</th>\n",
              "      <th>sales_diff</th>\n",
              "      <th>sales_std</th>\n",
              "      <th>sales_beginning</th>\n",
              "      <th>sales_end</th>\n",
              "      <th>price_mean</th>\n",
              "      <th>last_price</th>\n",
              "      <th>category</th>\n",
              "      <th>city</th>\n",
              "      <th>month</th>\n",
              "      <th>year</th>\n",
              "    </tr>\n",
              "  </thead>\n",
              "  <tbody>\n",
              "    <tr>\n",
              "      <th>0</th>\n",
              "      <td>0</td>\n",
              "      <td>8</td>\n",
              "      <td>0</td>\n",
              "      <td>0</td>\n",
              "      <td>0</td>\n",
              "      <td>0</td>\n",
              "      <td>1.333333</td>\n",
              "      <td>8</td>\n",
              "      <td>3.265986</td>\n",
              "      <td>2.666667</td>\n",
              "      <td>0.0</td>\n",
              "      <td>265.0</td>\n",
              "      <td>265.0</td>\n",
              "      <td>4</td>\n",
              "      <td>0</td>\n",
              "      <td>7</td>\n",
              "      <td>0.0</td>\n",
              "    </tr>\n",
              "    <tr>\n",
              "      <th>1</th>\n",
              "      <td>0</td>\n",
              "      <td>5</td>\n",
              "      <td>0</td>\n",
              "      <td>0</td>\n",
              "      <td>0</td>\n",
              "      <td>0</td>\n",
              "      <td>0.833333</td>\n",
              "      <td>5</td>\n",
              "      <td>2.041241</td>\n",
              "      <td>1.666667</td>\n",
              "      <td>0.0</td>\n",
              "      <td>434.0</td>\n",
              "      <td>434.0</td>\n",
              "      <td>4</td>\n",
              "      <td>0</td>\n",
              "      <td>7</td>\n",
              "      <td>0.0</td>\n",
              "    </tr>\n",
              "    <tr>\n",
              "      <th>2</th>\n",
              "      <td>6</td>\n",
              "      <td>10</td>\n",
              "      <td>0</td>\n",
              "      <td>0</td>\n",
              "      <td>0</td>\n",
              "      <td>0</td>\n",
              "      <td>2.666667</td>\n",
              "      <td>10</td>\n",
              "      <td>4.320494</td>\n",
              "      <td>5.333333</td>\n",
              "      <td>0.0</td>\n",
              "      <td>221.0</td>\n",
              "      <td>221.0</td>\n",
              "      <td>4</td>\n",
              "      <td>0</td>\n",
              "      <td>7</td>\n",
              "      <td>0.0</td>\n",
              "    </tr>\n",
              "    <tr>\n",
              "      <th>3</th>\n",
              "      <td>3</td>\n",
              "      <td>3</td>\n",
              "      <td>0</td>\n",
              "      <td>0</td>\n",
              "      <td>0</td>\n",
              "      <td>0</td>\n",
              "      <td>1.000000</td>\n",
              "      <td>3</td>\n",
              "      <td>1.549193</td>\n",
              "      <td>2.000000</td>\n",
              "      <td>0.0</td>\n",
              "      <td>347.0</td>\n",
              "      <td>347.0</td>\n",
              "      <td>4</td>\n",
              "      <td>0</td>\n",
              "      <td>7</td>\n",
              "      <td>0.0</td>\n",
              "    </tr>\n",
              "    <tr>\n",
              "      <th>4</th>\n",
              "      <td>1</td>\n",
              "      <td>14</td>\n",
              "      <td>0</td>\n",
              "      <td>0</td>\n",
              "      <td>0</td>\n",
              "      <td>0</td>\n",
              "      <td>2.500000</td>\n",
              "      <td>14</td>\n",
              "      <td>5.648008</td>\n",
              "      <td>5.000000</td>\n",
              "      <td>0.0</td>\n",
              "      <td>247.0</td>\n",
              "      <td>247.0</td>\n",
              "      <td>4</td>\n",
              "      <td>0</td>\n",
              "      <td>7</td>\n",
              "      <td>0.0</td>\n",
              "    </tr>\n",
              "  </tbody>\n",
              "</table>\n",
              "</div>"
            ],
            "text/plain": [
              "   0   1  2  3  4  5  ...  price_mean  last_price  category  city  month  year\n",
              "0  0   8  0  0  0  0  ...       265.0       265.0         4     0      7   0.0\n",
              "1  0   5  0  0  0  0  ...       434.0       434.0         4     0      7   0.0\n",
              "2  6  10  0  0  0  0  ...       221.0       221.0         4     0      7   0.0\n",
              "3  3   3  0  0  0  0  ...       347.0       347.0         4     0      7   0.0\n",
              "4  1  14  0  0  0  0  ...       247.0       247.0         4     0      7   0.0\n",
              "\n",
              "[5 rows x 17 columns]"
            ]
          },
          "metadata": {
            "tags": []
          },
          "execution_count": 19
        }
      ]
    },
    {
      "cell_type": "code",
      "metadata": {
        "trusted": true,
        "id": "9BU7tYZGVNrV",
        "colab_type": "code",
        "colab": {}
      },
      "source": [
        "# splitting to train and validation taking the last month as validation\n",
        "\n",
        "val_inds = np.where((X['year']==2) & (X['month']==10))[0]\n",
        "train_inds = np.setdiff1d(np.arange(0, X.shape[0]), val_inds)\n",
        "train_inds = np.arange(0, X.shape[0])"
      ],
      "execution_count": 0,
      "outputs": []
    },
    {
      "cell_type": "code",
      "metadata": {
        "trusted": true,
        "id": "rVKs-PP2VNrZ",
        "colab_type": "code",
        "colab": {}
      },
      "source": [
        "X_train = X.iloc[train_inds, :]\n",
        "y_train = Target.iloc[train_inds, 0]\n",
        "# X_train = X.copy()\n",
        "# y_train = Target.copy()\n",
        "\n",
        "X_val = X.iloc[val_inds, :]\n",
        "y_val = Target.iloc[val_inds, 0]\n",
        "\n",
        "\n",
        "# X_train_base, X_train_meta, y_train_base, y_train_meta = train_test_split(X, Target, test_size=0.33, random_state=42)\n",
        "\n",
        "# print('X_train_base: ',X_train_base.shape, 'y_train_base: ', y_train_base.shape, '\\nX_train_meta: ', X_train_meta.shape, 'y_train_meta: ',y_train_meta.shape, '\\nX_val: ',X_val.shape, 'y_val: ', y_val.shape)"
      ],
      "execution_count": 0,
      "outputs": []
    },
    {
      "cell_type": "code",
      "metadata": {
        "trusted": true,
        "id": "yErLVOQnVNrc",
        "colab_type": "code",
        "outputId": "26623c00-62fd-4991-f76b-6f9335dcc135",
        "colab": {
          "base_uri": "https://localhost:8080/",
          "height": 34
        }
      },
      "source": [
        "gc.collect()"
      ],
      "execution_count": 0,
      "outputs": [
        {
          "output_type": "execute_result",
          "data": {
            "text/plain": [
              "82"
            ]
          },
          "metadata": {
            "tags": []
          },
          "execution_count": 22
        }
      ]
    },
    {
      "cell_type": "code",
      "metadata": {
        "trusted": true,
        "id": "ppTjhdKDVNrf",
        "colab_type": "code",
        "colab": {}
      },
      "source": [
        "del sales_train,item_categories, item_categories_trans, shops, shops_trans\n"
      ],
      "execution_count": 0,
      "outputs": []
    },
    {
      "cell_type": "code",
      "metadata": {
        "trusted": true,
        "id": "IzUFwLBUVNrk",
        "colab_type": "code",
        "colab": {}
      },
      "source": [
        "gc.collect();"
      ],
      "execution_count": 0,
      "outputs": []
    },
    {
      "cell_type": "code",
      "metadata": {
        "trusted": true,
        "id": "2NBPFzftVNrl",
        "colab_type": "code",
        "colab": {}
      },
      "source": [
        "# preparing test data for predicting\n",
        "\n",
        "i = cnt_data.shape[1] - num_month_back\n",
        "    \n",
        "# data over last 12 months for testing\n",
        "\n",
        "current_price_mean = price_data.iloc[:, i:i+num_month_back].mean(axis=1, skipna=True)\n",
        "current_price_std = price_data.iloc[:, i:i+num_month_back].std(axis=1, skipna=True)\n",
        "current_price_last = price_data.iloc[:, i+num_month_back-1]\n",
        "\n",
        "# dealing with null prices\n",
        "current_price_mean.loc[current_price_mean.isnull()] = avg_price.loc[current_price_mean.isnull()]\n",
        "current_price_std.loc[current_price_std.isnull()] = std_price.loc[current_price_std.isnull()]\n",
        "current_price_last.loc[current_price_last.isnull()] = avg_price.loc[current_price_last.isnull()]\n",
        "\n",
        "current_sales = cnt_data.iloc[:, i:i+num_month_back]\n",
        "current_sales_mean = cnt_data.iloc[:, i:i+num_month_back].mean(axis=1)\n",
        "current_sales_diff = cnt_data.iloc[:, i:i+num_month_back].max(axis=1) - cnt_data.iloc[:, i:i+num_month_back].min(axis=1)\n",
        "current_sales_1st_half = cnt_data.iloc[:, i:i+int(num_month_back/2)].mean(axis=1)\n",
        "current_sales_2nd_half = cnt_data.iloc[:, i+int(num_month_back/2):i+num_month_back].mean(axis=1)\n",
        "current_sales_std = cnt_data.iloc[:, i:i+num_month_back].std(axis=1)\n",
        "\n",
        "year = np.floor((i+num_month_back)/12)\n",
        "month = (i+num_month_back)%12 + 1\n",
        "\n",
        "X_test = pd.concat([current_sales,\n",
        "                      current_sales_mean,\n",
        "                      current_sales_diff,\n",
        "                      current_sales_std,\n",
        "                      current_sales_1st_half,\n",
        "                      current_sales_2nd_half,\n",
        "                      current_price_mean,\n",
        "#                           current_price_std,\n",
        "                      current_price_last,\n",
        "                      cat,\n",
        "                      city,\n",
        "                     ], axis=1, ignore_index=True)\n",
        "\n",
        "X_test['month'] = month\n",
        "X_test['year'] = year\n",
        "\n",
        "X_test.columns=columns_names\n",
        "\n"
      ],
      "execution_count": 0,
      "outputs": []
    },
    {
      "cell_type": "code",
      "metadata": {
        "trusted": true,
        "id": "2sx0tz06VNrn",
        "colab_type": "code",
        "outputId": "92619df8-85e1-439b-8355-c75cf15ae667",
        "colab": {
          "base_uri": "https://localhost:8080/",
          "height": 204
        }
      },
      "source": [
        "X_test.head()"
      ],
      "execution_count": 0,
      "outputs": [
        {
          "output_type": "execute_result",
          "data": {
            "text/html": [
              "<div>\n",
              "<style scoped>\n",
              "    .dataframe tbody tr th:only-of-type {\n",
              "        vertical-align: middle;\n",
              "    }\n",
              "\n",
              "    .dataframe tbody tr th {\n",
              "        vertical-align: top;\n",
              "    }\n",
              "\n",
              "    .dataframe thead th {\n",
              "        text-align: right;\n",
              "    }\n",
              "</style>\n",
              "<table border=\"1\" class=\"dataframe\">\n",
              "  <thead>\n",
              "    <tr style=\"text-align: right;\">\n",
              "      <th></th>\n",
              "      <th>0</th>\n",
              "      <th>1</th>\n",
              "      <th>2</th>\n",
              "      <th>3</th>\n",
              "      <th>4</th>\n",
              "      <th>5</th>\n",
              "      <th>sales_mean</th>\n",
              "      <th>sales_diff</th>\n",
              "      <th>sales_std</th>\n",
              "      <th>sales_beginning</th>\n",
              "      <th>sales_end</th>\n",
              "      <th>price_mean</th>\n",
              "      <th>last_price</th>\n",
              "      <th>category</th>\n",
              "      <th>city</th>\n",
              "      <th>month</th>\n",
              "      <th>year</th>\n",
              "    </tr>\n",
              "  </thead>\n",
              "  <tbody>\n",
              "    <tr>\n",
              "      <th>0</th>\n",
              "      <td>0</td>\n",
              "      <td>0</td>\n",
              "      <td>0</td>\n",
              "      <td>0</td>\n",
              "      <td>0</td>\n",
              "      <td>0</td>\n",
              "      <td>0.0</td>\n",
              "      <td>0</td>\n",
              "      <td>0.0</td>\n",
              "      <td>0.0</td>\n",
              "      <td>0.0</td>\n",
              "      <td>265.0</td>\n",
              "      <td>265.0</td>\n",
              "      <td>4</td>\n",
              "      <td>0</td>\n",
              "      <td>11</td>\n",
              "      <td>2.0</td>\n",
              "    </tr>\n",
              "    <tr>\n",
              "      <th>1</th>\n",
              "      <td>0</td>\n",
              "      <td>0</td>\n",
              "      <td>0</td>\n",
              "      <td>0</td>\n",
              "      <td>0</td>\n",
              "      <td>0</td>\n",
              "      <td>0.0</td>\n",
              "      <td>0</td>\n",
              "      <td>0.0</td>\n",
              "      <td>0.0</td>\n",
              "      <td>0.0</td>\n",
              "      <td>434.0</td>\n",
              "      <td>434.0</td>\n",
              "      <td>4</td>\n",
              "      <td>0</td>\n",
              "      <td>11</td>\n",
              "      <td>2.0</td>\n",
              "    </tr>\n",
              "    <tr>\n",
              "      <th>2</th>\n",
              "      <td>0</td>\n",
              "      <td>0</td>\n",
              "      <td>0</td>\n",
              "      <td>0</td>\n",
              "      <td>0</td>\n",
              "      <td>0</td>\n",
              "      <td>0.0</td>\n",
              "      <td>0</td>\n",
              "      <td>0.0</td>\n",
              "      <td>0.0</td>\n",
              "      <td>0.0</td>\n",
              "      <td>221.0</td>\n",
              "      <td>221.0</td>\n",
              "      <td>4</td>\n",
              "      <td>0</td>\n",
              "      <td>11</td>\n",
              "      <td>2.0</td>\n",
              "    </tr>\n",
              "    <tr>\n",
              "      <th>3</th>\n",
              "      <td>0</td>\n",
              "      <td>0</td>\n",
              "      <td>0</td>\n",
              "      <td>0</td>\n",
              "      <td>0</td>\n",
              "      <td>0</td>\n",
              "      <td>0.0</td>\n",
              "      <td>0</td>\n",
              "      <td>0.0</td>\n",
              "      <td>0.0</td>\n",
              "      <td>0.0</td>\n",
              "      <td>347.0</td>\n",
              "      <td>347.0</td>\n",
              "      <td>4</td>\n",
              "      <td>0</td>\n",
              "      <td>11</td>\n",
              "      <td>2.0</td>\n",
              "    </tr>\n",
              "    <tr>\n",
              "      <th>4</th>\n",
              "      <td>0</td>\n",
              "      <td>0</td>\n",
              "      <td>0</td>\n",
              "      <td>0</td>\n",
              "      <td>0</td>\n",
              "      <td>0</td>\n",
              "      <td>0.0</td>\n",
              "      <td>0</td>\n",
              "      <td>0.0</td>\n",
              "      <td>0.0</td>\n",
              "      <td>0.0</td>\n",
              "      <td>247.0</td>\n",
              "      <td>247.0</td>\n",
              "      <td>4</td>\n",
              "      <td>0</td>\n",
              "      <td>11</td>\n",
              "      <td>2.0</td>\n",
              "    </tr>\n",
              "  </tbody>\n",
              "</table>\n",
              "</div>"
            ],
            "text/plain": [
              "   0  1  2  3  4  5  ...  price_mean  last_price  category  city  month  year\n",
              "0  0  0  0  0  0  0  ...       265.0       265.0         4     0     11   2.0\n",
              "1  0  0  0  0  0  0  ...       434.0       434.0         4     0     11   2.0\n",
              "2  0  0  0  0  0  0  ...       221.0       221.0         4     0     11   2.0\n",
              "3  0  0  0  0  0  0  ...       347.0       347.0         4     0     11   2.0\n",
              "4  0  0  0  0  0  0  ...       247.0       247.0         4     0     11   2.0\n",
              "\n",
              "[5 rows x 17 columns]"
            ]
          },
          "metadata": {
            "tags": []
          },
          "execution_count": 26
        }
      ]
    },
    {
      "cell_type": "code",
      "metadata": {
        "trusted": true,
        "id": "0G6KcZEKVNrp",
        "colab_type": "code",
        "outputId": "66020d1a-61fe-4171-8b57-7536d7bb3ade",
        "colab": {
          "base_uri": "https://localhost:8080/",
          "height": 51
        }
      },
      "source": [
        "# decribe y_train and y_val\n",
        "\n",
        "print(np.percentile(y_train, [5, 25, 50, 75, 95, 99, 100]))\n",
        "print(np.percentile(y_val, [5, 25, 50, 75, 95, 99, 100]))\n"
      ],
      "execution_count": 0,
      "outputs": [
        {
          "output_type": "stream",
          "text": [
            "[ 0.  0.  0.  0.  1.  4. 20.]\n",
            "[ 0.  0.  0.  0.  1.  2. 20.]\n"
          ],
          "name": "stdout"
        }
      ]
    },
    {
      "cell_type": "markdown",
      "metadata": {
        "id": "rOFHA9oWVNrr",
        "colab_type": "text"
      },
      "source": [
        "# TRAINING ANN"
      ]
    },
    {
      "cell_type": "code",
      "metadata": {
        "trusted": true,
        "id": "Kmb0cP9RVNrr",
        "colab_type": "code",
        "outputId": "9f188c1b-b97c-4891-86ad-323934c34747",
        "colab": {
          "base_uri": "https://localhost:8080/",
          "height": 34
        }
      },
      "source": [
        "gc.collect()\n",
        "X_train_NN = X_train.drop(['category','city'], axis=1)\n",
        "X_val_NN = X_val.drop(['category','city'], axis=1)\n",
        "\n",
        "X_test_NN = X_test.drop(['category','city'], axis=1)\n",
        "\n",
        "scaler_NN = MinMaxScaler()\n",
        "scaler_NN.fit(X_train_NN)\n",
        "\n",
        "X_train_NN_norm = scaler_NN.transform(X_train_NN)\n",
        "X_val_NN_norm = scaler_NN.transform(X_val_NN)\n",
        "X_test_NN_norm = scaler_NN.transform(X_test_NN)\n",
        "\n",
        "print(X_train_NN.shape)"
      ],
      "execution_count": 0,
      "outputs": [
        {
          "output_type": "stream",
          "text": [
            "(11417532, 15)\n"
          ],
          "name": "stdout"
        }
      ]
    },
    {
      "cell_type": "code",
      "metadata": {
        "trusted": true,
        "id": "yOdkT-nHVNrt",
        "colab_type": "code",
        "colab": {}
      },
      "source": [
        "gc.collect();\n",
        "model = Sequential()\n",
        "\n",
        "model.add(Dense(10, input_dim =X_train_NN.shape[1], activation='relu', activity_regularizer=l2(0.01)))\n",
        "model.add(Dense(8, activation='relu', activity_regularizer=l2(0.00)))\n",
        "model.add(Dense(1, activation='relu', activity_regularizer=l2(0.00)))\n",
        "\n",
        "es = EarlyStopping(monitor='val_loss', min_delta=0.002, patience=2, verbose=1, mode='min', restore_best_weights=True)\n",
        "\n",
        "# opt = optimizers.SGD(lr=0.01, momentum=0.5)\n",
        "model.compile(loss='mean_squared_error', optimizer='sgd')\n",
        "initial_weights = model.get_weights()\n",
        "\n",
        "y_pred_ann = np.zeros((X_test_NN_norm.shape[0]))\n",
        "\n",
        "score = []\n",
        "\n",
        "K=5\n",
        "KF = KFold(n_splits=K, random_state=0)\n",
        "\n",
        "for k_train_inds, k_test_inds in KF.split(X_train_NN_norm, y_train):\n",
        "\n",
        "    # training ANN\n",
        "    model.set_weights(initial_weights)\n",
        "    model.fit(X_train_NN_norm[k_train_inds, :] , y_train.iloc[k_train_inds],\n",
        "              epochs=3,\n",
        "              batch_size=256,\n",
        "              verbose=1, \n",
        "              validation_data=(X_train_NN_norm[k_test_inds, :] , y_train.iloc[k_test_inds]),\n",
        "              callbacks=[es])\n",
        "\n",
        "    # predicting both\n",
        "    y_pred = np.array([i[0] for i in model.predict(X_test_NN_norm)])\n",
        "\n",
        "    # calculate validation score\n",
        "    val_score_ann = np.sqrt(model.evaluate(X_train_NN_norm[k_test_inds, :] , y_train.iloc[k_test_inds]))\n",
        "\n",
        "    score.append([val_score_ann])\n",
        "\n",
        "    # predicting test \n",
        "    y_pred_ann += y_pred/K\n",
        "    break\n",
        "    \n",
        "\n",
        "print(score)\n",
        "pd.DataFrame(data=y_pred_ann,columns=['y_pred_ann']).to_csv('Submissions/prediction_ann.csv', index=False)"
      ],
      "execution_count": 0,
      "outputs": []
    },
    {
      "cell_type": "code",
      "metadata": {
        "trusted": true,
        "id": "Gox57oJIVNru",
        "colab_type": "code",
        "colab": {}
      },
      "source": [
        "gc.collect();"
      ],
      "execution_count": 0,
      "outputs": []
    },
    {
      "cell_type": "markdown",
      "metadata": {
        "id": "RqNnE2G8VNrw",
        "colab_type": "text"
      },
      "source": [
        "# TRAININ RANDOM F0RE5T"
      ]
    },
    {
      "cell_type": "code",
      "metadata": {
        "trusted": true,
        "id": "bUHCfBvPVNrx",
        "colab_type": "code",
        "colab": {}
      },
      "source": [
        "forest = RandomForestRegressor(max_depth=5, random_state=0, n_estimators=50, verbose=2, n_jobs=-1,\n",
        "                              min_samples_split= 50, max_features='log2', bootstrap=True)\n",
        "\n",
        "\n",
        "y_pred_forest=np.zeros((X_test.shape[0]))\n",
        "\n",
        "score = []\n",
        "K=5\n",
        "KF = KFold(n_splits=K, random_state=0)\n",
        "\n",
        "for k_train_inds, k_test_inds in KF.split(X_train, y_train):\n",
        "   \n",
        "    # trainin Random Forest\n",
        "    forest.fit(X_train.iloc[k_train_inds,:], y_train.iloc[k_train_inds])\n",
        "\n",
        "    y_pred = forest.predict(X_test)\n",
        "\n",
        "    # calculate validation score\n",
        "    val_score_forest = np.sqrt(np.mean((forest.predict(X_train.iloc[k_test_inds,:]) - y_train.iloc[k_test_inds].values)**2))\n",
        "    train_score_forest = np.sqrt(np.mean((forest.predict(X_train.iloc[k_train_inds,:]) - y_train.iloc[k_train_inds].values)**2))\n",
        "\n",
        "    score.append([val_score_forest])\n",
        "    print(train_score_forest, train_score_forest)\n",
        "\n",
        "    # predicting test \n",
        "    y_pred_forest += y_pred/K\n",
        "    \n",
        "    break\n",
        "pd.DataFrame(data=y_pred_forest).to_csv('prediction_forest.csv', index=False)    "
      ],
      "execution_count": 0,
      "outputs": []
    },
    {
      "cell_type": "markdown",
      "metadata": {
        "id": "fUmBl6wfVNrz",
        "colab_type": "text"
      },
      "source": [
        "# TRAINING XGBoost"
      ]
    },
    {
      "cell_type": "code",
      "metadata": {
        "trusted": true,
        "id": "cWMz67JYVNrz",
        "colab_type": "code",
        "outputId": "239dd068-ec11-4895-d7ee-ffb32d8421d8",
        "colab": {
          "base_uri": "https://localhost:8080/",
          "height": 1000
        }
      },
      "source": [
        "gc.collect();\n",
        "\n",
        "params = {'max_depth':5,\n",
        "          'learning_rate':0.05,\n",
        "          'verbosity':0,\n",
        "          'objective':'reg:squarederror',\n",
        "          'n_estimators':100,\n",
        "          'n_jobs':-1,\n",
        "          'reg_alpha': 1.5,\n",
        "          'reg_lambda': 1.5,\n",
        "          'gamma': 0.8}\n",
        "\n",
        "K=5\n",
        "KF = KFold(n_splits=K, shuffle = True, random_state=1)\n",
        "\n",
        "y_pred_xg = np.zeros((X_test.shape[0]))\n",
        "for k_train_inds, k_test_inds in KF.split(X_train, y_train):\n",
        "\n",
        "    xg = xgb.XGBRegressor(**params)\n",
        "    xg.fit(X_train.iloc[k_train_inds, :], y_train.iloc[k_train_inds], \n",
        "       eval_set=[(X_train.iloc[k_train_inds, :], y_train.iloc[k_train_inds]), (X_train.iloc[k_test_inds, :], y_train.iloc[k_test_inds])],\n",
        "       eval_metric='rmse')\n",
        "\n",
        "    y_pred = xg.predict(X_test)\n",
        "    y_pred_xg+=y_pred/K\n",
        "        \n",
        "pd.DataFrame(data=y_pred_xg).to_csv('Submissions/prediction_xgb.csv',index=False)    "
      ],
      "execution_count": 0,
      "outputs": [
        {
          "output_type": "stream",
          "text": [
            "/usr/local/lib/python3.6/dist-packages/xgboost/core.py:587: FutureWarning: Series.base is deprecated and will be removed in a future version\n",
            "  if getattr(data, 'base', None) is not None and \\\n"
          ],
          "name": "stderr"
        },
        {
          "output_type": "stream",
          "text": [
            "[0]\tvalidation_0-rmse:0.899226\tvalidation_1-rmse:0.899023\n",
            "[1]\tvalidation_0-rmse:0.878585\tvalidation_1-rmse:0.880896\n",
            "[2]\tvalidation_0-rmse:0.864431\tvalidation_1-rmse:0.862397\n",
            "[3]\tvalidation_0-rmse:0.83802\tvalidation_1-rmse:0.848182\n",
            "[4]\tvalidation_0-rmse:0.825758\tvalidation_1-rmse:0.831697\n",
            "[5]\tvalidation_0-rmse:0.80724\tvalidation_1-rmse:0.820339\n",
            "[6]\tvalidation_0-rmse:0.795804\tvalidation_1-rmse:0.8065\n",
            "[7]\tvalidation_0-rmse:0.788305\tvalidation_1-rmse:0.795244\n",
            "[8]\tvalidation_0-rmse:0.780848\tvalidation_1-rmse:0.785392\n",
            "[9]\tvalidation_0-rmse:0.772245\tvalidation_1-rmse:0.774802\n",
            "[10]\tvalidation_0-rmse:0.765204\tvalidation_1-rmse:0.765637\n",
            "[11]\tvalidation_0-rmse:0.753467\tvalidation_1-rmse:0.758743\n",
            "[12]\tvalidation_0-rmse:0.744488\tvalidation_1-rmse:0.751147\n",
            "[13]\tvalidation_0-rmse:0.738484\tvalidation_1-rmse:0.743938\n",
            "[14]\tvalidation_0-rmse:0.732325\tvalidation_1-rmse:0.737051\n",
            "[15]\tvalidation_0-rmse:0.726883\tvalidation_1-rmse:0.731962\n",
            "[16]\tvalidation_0-rmse:0.720816\tvalidation_1-rmse:0.726668\n",
            "[17]\tvalidation_0-rmse:0.715452\tvalidation_1-rmse:0.722607\n",
            "[18]\tvalidation_0-rmse:0.712066\tvalidation_1-rmse:0.718165\n",
            "[19]\tvalidation_0-rmse:0.708573\tvalidation_1-rmse:0.714052\n",
            "[20]\tvalidation_0-rmse:0.703594\tvalidation_1-rmse:0.709904\n",
            "[21]\tvalidation_0-rmse:0.700379\tvalidation_1-rmse:0.706227\n",
            "[22]\tvalidation_0-rmse:0.697837\tvalidation_1-rmse:0.703163\n",
            "[23]\tvalidation_0-rmse:0.694949\tvalidation_1-rmse:0.700981\n",
            "[24]\tvalidation_0-rmse:0.691628\tvalidation_1-rmse:0.698074\n",
            "[25]\tvalidation_0-rmse:0.689394\tvalidation_1-rmse:0.695575\n",
            "[26]\tvalidation_0-rmse:0.685965\tvalidation_1-rmse:0.693425\n",
            "[27]\tvalidation_0-rmse:0.681576\tvalidation_1-rmse:0.691807\n",
            "[28]\tvalidation_0-rmse:0.680078\tvalidation_1-rmse:0.690023\n",
            "[29]\tvalidation_0-rmse:0.677143\tvalidation_1-rmse:0.6886\n",
            "[30]\tvalidation_0-rmse:0.67603\tvalidation_1-rmse:0.686691\n",
            "[31]\tvalidation_0-rmse:0.675085\tvalidation_1-rmse:0.685601\n",
            "[32]\tvalidation_0-rmse:0.673266\tvalidation_1-rmse:0.683834\n",
            "[33]\tvalidation_0-rmse:0.672599\tvalidation_1-rmse:0.682673\n",
            "[34]\tvalidation_0-rmse:0.671717\tvalidation_1-rmse:0.681962\n",
            "[35]\tvalidation_0-rmse:0.670561\tvalidation_1-rmse:0.680691\n",
            "[36]\tvalidation_0-rmse:0.669645\tvalidation_1-rmse:0.679729\n",
            "[37]\tvalidation_0-rmse:0.668233\tvalidation_1-rmse:0.679077\n",
            "[38]\tvalidation_0-rmse:0.667749\tvalidation_1-rmse:0.678457\n",
            "[39]\tvalidation_0-rmse:0.667204\tvalidation_1-rmse:0.677902\n",
            "[40]\tvalidation_0-rmse:0.666285\tvalidation_1-rmse:0.677042\n",
            "[41]\tvalidation_0-rmse:0.664974\tvalidation_1-rmse:0.676193\n",
            "[42]\tvalidation_0-rmse:0.664533\tvalidation_1-rmse:0.675794\n",
            "[43]\tvalidation_0-rmse:0.664126\tvalidation_1-rmse:0.675201\n",
            "[44]\tvalidation_0-rmse:0.663859\tvalidation_1-rmse:0.674799\n",
            "[45]\tvalidation_0-rmse:0.663486\tvalidation_1-rmse:0.674372\n",
            "[46]\tvalidation_0-rmse:0.663074\tvalidation_1-rmse:0.674037\n",
            "[47]\tvalidation_0-rmse:0.662257\tvalidation_1-rmse:0.673485\n",
            "[48]\tvalidation_0-rmse:0.661925\tvalidation_1-rmse:0.672966\n",
            "[49]\tvalidation_0-rmse:0.661637\tvalidation_1-rmse:0.672515\n",
            "[50]\tvalidation_0-rmse:0.661494\tvalidation_1-rmse:0.672339\n",
            "[51]\tvalidation_0-rmse:0.661315\tvalidation_1-rmse:0.672098\n",
            "[52]\tvalidation_0-rmse:0.661132\tvalidation_1-rmse:0.671762\n",
            "[53]\tvalidation_0-rmse:0.660977\tvalidation_1-rmse:0.671566\n",
            "[54]\tvalidation_0-rmse:0.660536\tvalidation_1-rmse:0.670893\n",
            "[55]\tvalidation_0-rmse:0.660336\tvalidation_1-rmse:0.6707\n",
            "[56]\tvalidation_0-rmse:0.660245\tvalidation_1-rmse:0.670481\n",
            "[57]\tvalidation_0-rmse:0.660075\tvalidation_1-rmse:0.670273\n",
            "[58]\tvalidation_0-rmse:0.659945\tvalidation_1-rmse:0.670146\n",
            "[59]\tvalidation_0-rmse:0.659771\tvalidation_1-rmse:0.669933\n",
            "[60]\tvalidation_0-rmse:0.659627\tvalidation_1-rmse:0.669674\n",
            "[61]\tvalidation_0-rmse:0.659543\tvalidation_1-rmse:0.669526\n",
            "[62]\tvalidation_0-rmse:0.659348\tvalidation_1-rmse:0.669212\n",
            "[63]\tvalidation_0-rmse:0.659198\tvalidation_1-rmse:0.669071\n",
            "[64]\tvalidation_0-rmse:0.659084\tvalidation_1-rmse:0.668903\n",
            "[65]\tvalidation_0-rmse:0.658961\tvalidation_1-rmse:0.6688\n",
            "[66]\tvalidation_0-rmse:0.658815\tvalidation_1-rmse:0.668539\n",
            "[67]\tvalidation_0-rmse:0.658542\tvalidation_1-rmse:0.668012\n",
            "[68]\tvalidation_0-rmse:0.658419\tvalidation_1-rmse:0.667895\n",
            "[69]\tvalidation_0-rmse:0.658307\tvalidation_1-rmse:0.667794\n",
            "[70]\tvalidation_0-rmse:0.658177\tvalidation_1-rmse:0.667632\n",
            "[71]\tvalidation_0-rmse:0.658063\tvalidation_1-rmse:0.667561\n",
            "[72]\tvalidation_0-rmse:0.657988\tvalidation_1-rmse:0.667444\n",
            "[73]\tvalidation_0-rmse:0.657883\tvalidation_1-rmse:0.66733\n",
            "[74]\tvalidation_0-rmse:0.657811\tvalidation_1-rmse:0.667263\n",
            "[75]\tvalidation_0-rmse:0.657705\tvalidation_1-rmse:0.667161\n",
            "[76]\tvalidation_0-rmse:0.657622\tvalidation_1-rmse:0.667097\n",
            "[77]\tvalidation_0-rmse:0.657563\tvalidation_1-rmse:0.667052\n",
            "[78]\tvalidation_0-rmse:0.657466\tvalidation_1-rmse:0.666973\n",
            "[79]\tvalidation_0-rmse:0.657391\tvalidation_1-rmse:0.666889\n",
            "[80]\tvalidation_0-rmse:0.657295\tvalidation_1-rmse:0.66682\n",
            "[81]\tvalidation_0-rmse:0.657236\tvalidation_1-rmse:0.666763\n",
            "[82]\tvalidation_0-rmse:0.657186\tvalidation_1-rmse:0.666691\n",
            "[83]\tvalidation_0-rmse:0.657132\tvalidation_1-rmse:0.666617\n",
            "[84]\tvalidation_0-rmse:0.657053\tvalidation_1-rmse:0.666561\n",
            "[85]\tvalidation_0-rmse:0.656984\tvalidation_1-rmse:0.666503\n",
            "[86]\tvalidation_0-rmse:0.656932\tvalidation_1-rmse:0.666456\n",
            "[87]\tvalidation_0-rmse:0.656866\tvalidation_1-rmse:0.666397\n",
            "[88]\tvalidation_0-rmse:0.656829\tvalidation_1-rmse:0.666359\n",
            "[89]\tvalidation_0-rmse:0.656715\tvalidation_1-rmse:0.666268\n",
            "[90]\tvalidation_0-rmse:0.656686\tvalidation_1-rmse:0.666248\n",
            "[91]\tvalidation_0-rmse:0.656634\tvalidation_1-rmse:0.666193\n",
            "[92]\tvalidation_0-rmse:0.656582\tvalidation_1-rmse:0.666121\n",
            "[93]\tvalidation_0-rmse:0.656544\tvalidation_1-rmse:0.66608\n",
            "[94]\tvalidation_0-rmse:0.656465\tvalidation_1-rmse:0.665983\n",
            "[95]\tvalidation_0-rmse:0.65643\tvalidation_1-rmse:0.665971\n",
            "[96]\tvalidation_0-rmse:0.656398\tvalidation_1-rmse:0.665945\n",
            "[97]\tvalidation_0-rmse:0.65633\tvalidation_1-rmse:0.665865\n",
            "[98]\tvalidation_0-rmse:0.656273\tvalidation_1-rmse:0.665848\n",
            "[99]\tvalidation_0-rmse:0.656254\tvalidation_1-rmse:0.665785\n",
            "[0]\tvalidation_0-rmse:0.899886\tvalidation_1-rmse:0.896225\n",
            "[1]\tvalidation_0-rmse:0.879328\tvalidation_1-rmse:0.878001\n",
            "[2]\tvalidation_0-rmse:0.86509\tvalidation_1-rmse:0.859408\n",
            "[3]\tvalidation_0-rmse:0.838719\tvalidation_1-rmse:0.845148\n",
            "[4]\tvalidation_0-rmse:0.826446\tvalidation_1-rmse:0.828723\n",
            "[5]\tvalidation_0-rmse:0.807985\tvalidation_1-rmse:0.817302\n",
            "[6]\tvalidation_0-rmse:0.796486\tvalidation_1-rmse:0.803492\n",
            "[7]\tvalidation_0-rmse:0.788994\tvalidation_1-rmse:0.792213\n",
            "[8]\tvalidation_0-rmse:0.781711\tvalidation_1-rmse:0.782779\n",
            "[9]\tvalidation_0-rmse:0.772997\tvalidation_1-rmse:0.771881\n",
            "[10]\tvalidation_0-rmse:0.765911\tvalidation_1-rmse:0.762744\n",
            "[11]\tvalidation_0-rmse:0.754007\tvalidation_1-rmse:0.755774\n",
            "[12]\tvalidation_0-rmse:0.74528\tvalidation_1-rmse:0.748078\n",
            "[13]\tvalidation_0-rmse:0.739384\tvalidation_1-rmse:0.741011\n",
            "[14]\tvalidation_0-rmse:0.733157\tvalidation_1-rmse:0.7341\n",
            "[15]\tvalidation_0-rmse:0.727333\tvalidation_1-rmse:0.728898\n",
            "[16]\tvalidation_0-rmse:0.721382\tvalidation_1-rmse:0.723711\n",
            "[17]\tvalidation_0-rmse:0.716064\tvalidation_1-rmse:0.719528\n",
            "[18]\tvalidation_0-rmse:0.712707\tvalidation_1-rmse:0.715267\n",
            "[19]\tvalidation_0-rmse:0.708895\tvalidation_1-rmse:0.710922\n",
            "[20]\tvalidation_0-rmse:0.704218\tvalidation_1-rmse:0.706998\n",
            "[21]\tvalidation_0-rmse:0.700952\tvalidation_1-rmse:0.703361\n",
            "[22]\tvalidation_0-rmse:0.698606\tvalidation_1-rmse:0.700757\n",
            "[23]\tvalidation_0-rmse:0.695473\tvalidation_1-rmse:0.697775\n",
            "[24]\tvalidation_0-rmse:0.69228\tvalidation_1-rmse:0.69508\n",
            "[25]\tvalidation_0-rmse:0.690062\tvalidation_1-rmse:0.69232\n",
            "[26]\tvalidation_0-rmse:0.686334\tvalidation_1-rmse:0.690369\n",
            "[27]\tvalidation_0-rmse:0.682309\tvalidation_1-rmse:0.68885\n",
            "[28]\tvalidation_0-rmse:0.680764\tvalidation_1-rmse:0.686954\n",
            "[29]\tvalidation_0-rmse:0.677725\tvalidation_1-rmse:0.685492\n",
            "[30]\tvalidation_0-rmse:0.67673\tvalidation_1-rmse:0.683686\n",
            "[31]\tvalidation_0-rmse:0.674976\tvalidation_1-rmse:0.682506\n",
            "[32]\tvalidation_0-rmse:0.673917\tvalidation_1-rmse:0.680802\n",
            "[33]\tvalidation_0-rmse:0.673244\tvalidation_1-rmse:0.679643\n",
            "[34]\tvalidation_0-rmse:0.672427\tvalidation_1-rmse:0.678886\n",
            "[35]\tvalidation_0-rmse:0.671234\tvalidation_1-rmse:0.678016\n",
            "[36]\tvalidation_0-rmse:0.670288\tvalidation_1-rmse:0.676775\n",
            "[37]\tvalidation_0-rmse:0.668928\tvalidation_1-rmse:0.676206\n",
            "[38]\tvalidation_0-rmse:0.668408\tvalidation_1-rmse:0.675464\n",
            "[39]\tvalidation_0-rmse:0.667767\tvalidation_1-rmse:0.674985\n",
            "[40]\tvalidation_0-rmse:0.667079\tvalidation_1-rmse:0.674075\n",
            "[41]\tvalidation_0-rmse:0.665661\tvalidation_1-rmse:0.673177\n",
            "[42]\tvalidation_0-rmse:0.665162\tvalidation_1-rmse:0.67281\n",
            "[43]\tvalidation_0-rmse:0.664791\tvalidation_1-rmse:0.672215\n",
            "[44]\tvalidation_0-rmse:0.6645\tvalidation_1-rmse:0.671788\n",
            "[45]\tvalidation_0-rmse:0.66425\tvalidation_1-rmse:0.671517\n",
            "[46]\tvalidation_0-rmse:0.663837\tvalidation_1-rmse:0.671069\n",
            "[47]\tvalidation_0-rmse:0.663109\tvalidation_1-rmse:0.670813\n",
            "[48]\tvalidation_0-rmse:0.662655\tvalidation_1-rmse:0.670062\n",
            "[49]\tvalidation_0-rmse:0.662401\tvalidation_1-rmse:0.669598\n",
            "[50]\tvalidation_0-rmse:0.662182\tvalidation_1-rmse:0.669348\n",
            "[51]\tvalidation_0-rmse:0.661972\tvalidation_1-rmse:0.669037\n",
            "[52]\tvalidation_0-rmse:0.661852\tvalidation_1-rmse:0.668763\n",
            "[53]\tvalidation_0-rmse:0.661606\tvalidation_1-rmse:0.668419\n",
            "[54]\tvalidation_0-rmse:0.661322\tvalidation_1-rmse:0.668111\n",
            "[55]\tvalidation_0-rmse:0.661067\tvalidation_1-rmse:0.667628\n",
            "[56]\tvalidation_0-rmse:0.660928\tvalidation_1-rmse:0.667429\n",
            "[57]\tvalidation_0-rmse:0.660735\tvalidation_1-rmse:0.667211\n",
            "[58]\tvalidation_0-rmse:0.660559\tvalidation_1-rmse:0.66699\n",
            "[59]\tvalidation_0-rmse:0.66042\tvalidation_1-rmse:0.666826\n",
            "[60]\tvalidation_0-rmse:0.660287\tvalidation_1-rmse:0.666621\n",
            "[61]\tvalidation_0-rmse:0.660198\tvalidation_1-rmse:0.666371\n",
            "[62]\tvalidation_0-rmse:0.659979\tvalidation_1-rmse:0.666024\n",
            "[63]\tvalidation_0-rmse:0.659862\tvalidation_1-rmse:0.665862\n",
            "[64]\tvalidation_0-rmse:0.659806\tvalidation_1-rmse:0.665739\n",
            "[65]\tvalidation_0-rmse:0.659702\tvalidation_1-rmse:0.665645\n",
            "[66]\tvalidation_0-rmse:0.659555\tvalidation_1-rmse:0.665509\n",
            "[67]\tvalidation_0-rmse:0.65919\tvalidation_1-rmse:0.664768\n",
            "[68]\tvalidation_0-rmse:0.659097\tvalidation_1-rmse:0.664673\n",
            "[69]\tvalidation_0-rmse:0.659012\tvalidation_1-rmse:0.664551\n",
            "[70]\tvalidation_0-rmse:0.658908\tvalidation_1-rmse:0.664453\n",
            "[71]\tvalidation_0-rmse:0.658828\tvalidation_1-rmse:0.664407\n",
            "[72]\tvalidation_0-rmse:0.65873\tvalidation_1-rmse:0.664298\n",
            "[73]\tvalidation_0-rmse:0.658609\tvalidation_1-rmse:0.664178\n",
            "[74]\tvalidation_0-rmse:0.658518\tvalidation_1-rmse:0.664081\n",
            "[75]\tvalidation_0-rmse:0.658433\tvalidation_1-rmse:0.664004\n",
            "[76]\tvalidation_0-rmse:0.658323\tvalidation_1-rmse:0.663903\n",
            "[77]\tvalidation_0-rmse:0.658244\tvalidation_1-rmse:0.66379\n",
            "[78]\tvalidation_0-rmse:0.65816\tvalidation_1-rmse:0.663717\n",
            "[79]\tvalidation_0-rmse:0.65808\tvalidation_1-rmse:0.663641\n",
            "[80]\tvalidation_0-rmse:0.658031\tvalidation_1-rmse:0.663588\n",
            "[81]\tvalidation_0-rmse:0.657928\tvalidation_1-rmse:0.663466\n",
            "[82]\tvalidation_0-rmse:0.657882\tvalidation_1-rmse:0.663375\n",
            "[83]\tvalidation_0-rmse:0.657823\tvalidation_1-rmse:0.663329\n",
            "[84]\tvalidation_0-rmse:0.657736\tvalidation_1-rmse:0.663211\n",
            "[85]\tvalidation_0-rmse:0.657695\tvalidation_1-rmse:0.663182\n",
            "[86]\tvalidation_0-rmse:0.657587\tvalidation_1-rmse:0.663064\n",
            "[87]\tvalidation_0-rmse:0.657518\tvalidation_1-rmse:0.662982\n",
            "[88]\tvalidation_0-rmse:0.657421\tvalidation_1-rmse:0.662885\n",
            "[89]\tvalidation_0-rmse:0.657326\tvalidation_1-rmse:0.662801\n",
            "[90]\tvalidation_0-rmse:0.657269\tvalidation_1-rmse:0.66272\n",
            "[91]\tvalidation_0-rmse:0.657228\tvalidation_1-rmse:0.662669\n",
            "[92]\tvalidation_0-rmse:0.657171\tvalidation_1-rmse:0.66262\n",
            "[93]\tvalidation_0-rmse:0.657088\tvalidation_1-rmse:0.662515\n",
            "[94]\tvalidation_0-rmse:0.657061\tvalidation_1-rmse:0.662496\n",
            "[95]\tvalidation_0-rmse:0.657019\tvalidation_1-rmse:0.662461\n",
            "[96]\tvalidation_0-rmse:0.656949\tvalidation_1-rmse:0.662393\n",
            "[97]\tvalidation_0-rmse:0.656879\tvalidation_1-rmse:0.662317\n",
            "[98]\tvalidation_0-rmse:0.656851\tvalidation_1-rmse:0.662297\n",
            "[99]\tvalidation_0-rmse:0.656807\tvalidation_1-rmse:0.662262\n"
          ],
          "name": "stdout"
        }
      ]
    },
    {
      "cell_type": "code",
      "metadata": {
        "trusted": true,
        "id": "96XWCuBiVNr1",
        "colab_type": "code",
        "colab": {}
      },
      "source": [
        "plot_importance(xg)"
      ],
      "execution_count": 0,
      "outputs": []
    },
    {
      "cell_type": "code",
      "metadata": {
        "trusted": true,
        "id": "rfHydmKNVNr3",
        "colab_type": "code",
        "colab": {}
      },
      "source": [
        "gc.collect()\n",
        "y_pred_test = xg.predict(X_test)\n",
        "y_pred_val = xg.predict(X_val)\n",
        "\n",
        "print(np.percentile(y_val, [5, 25, 50, 75, 95, 99, 99.9, 100]))\n",
        "print(np.percentile(y_pred_test, [5, 25, 50, 75, 95, 99, 99.9, 100]))\n",
        "print(np.percentile(y_pred_val, [5, 25, 50, 75, 95, 99, 99.9, 100]))"
      ],
      "execution_count": 0,
      "outputs": []
    },
    {
      "cell_type": "markdown",
      "metadata": {
        "id": "-7OicWceVNr4",
        "colab_type": "text"
      },
      "source": [
        "# PREPARING RESULTS FOR SUBMISSION\n"
      ]
    },
    {
      "cell_type": "code",
      "metadata": {
        "trusted": true,
        "id": "dj7AfmnHVNr5",
        "colab_type": "code",
        "outputId": "e2383b2b-3f25-4609-b38f-e1df69b8ed61",
        "colab": {
          "base_uri": "https://localhost:8080/",
          "height": 204
        }
      },
      "source": [
        "avg_pred =  y_pred_forest # y_pred_xg/2  + y_pred_ann/2\n",
        "\n",
        "y_pred1 = pd.DataFrame({'item_id': monthly_data['item_id'], 'shop_id': monthly_data['shop_id'],\n",
        "                      'item_cnt_month': np.squeeze(avg_pred)}, index=range(monthly_data.shape[0]))\n",
        "\n",
        "test_output = pd.merge(test_csv, y_pred1, on=['shop_id','item_id'], how='left')\n",
        "\n",
        "test_output.drop(['item_id', 'shop_id'], axis=1, inplace=True)\n",
        "\n",
        "test_output['item_cnt_month'].replace(np.nan, 0, inplace=True)\n",
        "test_output.to_csv('Submissions/submission25_forest.csv',index=False)\n",
        "test_output.head()"
      ],
      "execution_count": 0,
      "outputs": [
        {
          "output_type": "execute_result",
          "data": {
            "text/html": [
              "<div>\n",
              "<style scoped>\n",
              "    .dataframe tbody tr th:only-of-type {\n",
              "        vertical-align: middle;\n",
              "    }\n",
              "\n",
              "    .dataframe tbody tr th {\n",
              "        vertical-align: top;\n",
              "    }\n",
              "\n",
              "    .dataframe thead th {\n",
              "        text-align: right;\n",
              "    }\n",
              "</style>\n",
              "<table border=\"1\" class=\"dataframe\">\n",
              "  <thead>\n",
              "    <tr style=\"text-align: right;\">\n",
              "      <th></th>\n",
              "      <th>ID</th>\n",
              "      <th>item_cnt_month</th>\n",
              "    </tr>\n",
              "  </thead>\n",
              "  <tbody>\n",
              "    <tr>\n",
              "      <th>0</th>\n",
              "      <td>0</td>\n",
              "      <td>0.583197</td>\n",
              "    </tr>\n",
              "    <tr>\n",
              "      <th>1</th>\n",
              "      <td>1</td>\n",
              "      <td>0.000000</td>\n",
              "    </tr>\n",
              "    <tr>\n",
              "      <th>2</th>\n",
              "      <td>2</td>\n",
              "      <td>1.023322</td>\n",
              "    </tr>\n",
              "    <tr>\n",
              "      <th>3</th>\n",
              "      <td>3</td>\n",
              "      <td>0.130349</td>\n",
              "    </tr>\n",
              "    <tr>\n",
              "      <th>4</th>\n",
              "      <td>4</td>\n",
              "      <td>0.000000</td>\n",
              "    </tr>\n",
              "  </tbody>\n",
              "</table>\n",
              "</div>"
            ],
            "text/plain": [
              "   ID  item_cnt_month\n",
              "0   0        0.583197\n",
              "1   1        0.000000\n",
              "2   2        1.023322\n",
              "3   3        0.130349\n",
              "4   4        0.000000"
            ]
          },
          "metadata": {
            "tags": []
          },
          "execution_count": 29
        }
      ]
    },
    {
      "cell_type": "markdown",
      "metadata": {
        "id": "FaE863PMVNr6",
        "colab_type": "text"
      },
      "source": [
        "**Visualization of results**"
      ]
    },
    {
      "cell_type": "code",
      "metadata": {
        "trusted": true,
        "id": "Ez6D0Cr2VNr7",
        "colab_type": "code",
        "colab": {}
      },
      "source": [
        "y_pred_xg = xg.predict(X_val);\n",
        "error = np.abs(y_pred_xg- y_val)\n",
        "\n",
        "max_error_inds = np.where(error > np.percentile(error,99.5))[0]\n",
        "min_error_inds = np.where(error < np.percentile(error, 5))[0]\n",
        "\n",
        "for i in range(10):\n",
        "    \n",
        "    plt.figure()\n",
        "    plt.plot(X_val.iloc[max_error_inds[i], 0:num_month_back ], marker='v', linestyle='dashed', linewidth=2, markersize=8)\n",
        "    plt.plot(num_month_back, y_val.iloc[max_error_inds[i]],'p')\n",
        "    plt.plot(num_month_back, y_pred_xg[max_error_inds[i]],'*')\n",
        "\n",
        "    plt.legend(['Sales','True','Xg'])\n",
        "    plt.xlabel('Month')\n",
        "\n",
        "for i in range(10):\n",
        "    \n",
        "    plt.figure()\n",
        "    plt.plot(X_val.iloc[min_error_inds[i], 0:num_month_back ], marker='v', linestyle='dashed', linewidth=2, markersize=8)\n",
        "    plt.plot(num_month_back, y_val.iloc[min_error_inds[i]],'p')\n",
        "    plt.plot(num_month_back, y_pred_xg[min_error_inds[i]],'*')\n",
        "    plt.legend(['Sales','True','Xg',])\n",
        "    plt.xlabel('Month')"
      ],
      "execution_count": 0,
      "outputs": []
    }
  ]
}